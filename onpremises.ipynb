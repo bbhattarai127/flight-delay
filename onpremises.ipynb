{
 "cells": [
  {
   "cell_type": "markdown",
   "metadata": {},
   "source": [
    "# Problem: Predicting Airplane Delays\n",
    "\n",
    "The goals of this notebook are:\n",
    "- Process and create a dataset from downloaded ZIP files\n",
    "- Exploratory data analysis (EDA)\n",
    "- Establish a baseline model and improve it\n",
    "\n",
    "## Introduction to business scenario\n",
    "You work for a travel booking website that is working to improve the customer experience for flights that were delayed. The company wants to create a feature to let customers know if the flight will be delayed due to weather when the customers are booking the flight to or from the busiest airports for domestic travel in the US. \n",
    "\n",
    "You are tasked with solving part of this problem by leveraging machine learning to identify whether the flight will be delayed due to weather. You have been given access to the a dataset of on-time performance of domestic flights operated by large air carriers. You can use this data to train a machine learning model to predict if the flight is going to be delayed for the busiest airports.\n",
    "\n",
    "### Dataset\n",
    "The provided dataset contains scheduled and actual departure and arrival times reported by certified US air carriers that account for at least 1 percent of domestic scheduled passenger revenues. The data was collected by the Office of Airline Information, Bureau of Transportation Statistics (BTS). The dataset contains date, time, origin, destination, airline, distance, and delay status of flights for flights between 2014 and 2018.\n",
    "The data are in 60 compressed files, where each file contains a CSV for the flight details in a month for the five years (from 2014 - 2018). The data can be downloaded from this link: [https://ucstaff-my.sharepoint.com/:f:/g/personal/ibrahim_radwan_canberra_edu_au/Er0nVreXmihEmtMz5qC5kVIB81-ugSusExPYdcyQTglfLg?e=bNO312]. Please download the data files and place them on a relative path. Dataset(s) used in this assignment were compiled by the Office of Airline Information, Bureau of Transportation Statistics (BTS), Airline On-Time Performance Data, available with the following link: [https://www.transtats.bts.gov/Fields.asp?gnoyr_VQ=FGJ]. "
   ]
  },
  {
   "cell_type": "markdown",
   "metadata": {},
   "source": [
    "# Step 1: Problem formulation and data collection\n",
    "\n",
    "Start this project off by writing a few sentences below that summarize the business problem and the business goal you're trying to achieve in this scenario. Include a business metric you would like your team to aspire toward. With that information defined, clearly write out the machine learning problem statement. Finally, add a comment or two about the type of machine learning this represents. \n",
    "\n",
    "### Business Problem Summary\n",
    "In this project, we are addressing the issue of flight delays, which significantly impact airline operations and customer satisfaction. Airlines face considerable costs and reputational damage when flights are delayed, leading to frustrated passengers and operational inefficiencies. Our goal is to develop a predictive model that accurately forecasts whether a flight will be delayed based on various factors, including weather conditions, historical data, and airport traffic patterns.\n",
    "\n",
    "### Business Goal\n",
    "The primary business goal is to reduce the rate of flight delays by at least 20% within the next operational year. This reduction can enhance customer satisfaction, optimize resource allocation, and ultimately improve the airline's profitability.\n",
    "\n",
    "### Machine Learning Problem Statement\n",
    "We aim to develop a binary classification model that predicts whether a flight will be delayed (target variable: delay or no delay) based on historical flight data and external factors. The model will leverage various features, such as departure and arrival times, weather conditions, and airline operational data.\n",
    "\n",
    "\n",
    "\n",
    "\n",
    "### 1. Determine if and why ML is an appropriate solution to deploy."
   ]
  },
  {
   "cell_type": "markdown",
   "metadata": {},
   "source": [
    "Machine learning (ML) is an appropriate solution to deploy in the context of predicting flight delays for several key reasons:\n",
    "\n",
    "1. **Complexity of Factors**: Flight delays are influenced by a wide range of factors, including weather conditions, traffic at airports, historical delay patterns, and operational issues. Traditional statistical methods may struggle to capture the intricate relationships between these variables. ML algorithms, on the other hand, excel in identifying complex patterns within large datasets, making them ideal for this type of analysis.\n",
    "\n",
    "2. **Large Volume of Data**: The aviation industry generates vast amounts of data daily, including flight schedules, weather reports, and performance metrics. Machine learning can efficiently handle and process this large volume of data, enabling airlines to make real-time predictions based on the latest information.\n",
    "\n",
    "3. **Real-time Adaptability**: Flight conditions can change rapidly due to unexpected events such as weather changes or technical difficulties. ML models can be updated continuously with new data, allowing them to adapt and improve their predictions over time. This adaptability is crucial for maintaining accurate forecasts in a dynamic environment.\n",
    "\n",
    "4. **Cost Efficiency**: By accurately predicting flight delays, airlines can optimize their operations, manage staffing more effectively, and reduce costs associated with delays (such as compensations). This leads to enhanced operational efficiency and increased profitability.\n",
    "\n",
    "5. **Improved Customer Experience**: Machine learning models can provide timely updates to passengers about potential delays, allowing airlines to manage expectations better. This proactive approach can enhance customer satisfaction and loyalty, which is vital in the competitive airline industry.\n",
    "\n",
    "In conclusion, deploying a machine learning solution for predicting flight delays offers significant potential for enhancing operational efficiency, reducing costs, and improving customer satisfaction, making it a strategic investment for airlines."
   ]
  },
  {
   "cell_type": "markdown",
   "metadata": {},
   "source": [
    "### 2. Formulate the business problem, success metrics, and desired ML output."
   ]
  },
  {
   "cell_type": "markdown",
   "metadata": {},
   "source": [
    "**Business Problem**:  \n",
    "The aviation industry faces significant challenges with flight delays, which can lead to increased operational costs, customer dissatisfaction, and reduced efficiency. Airlines need an effective way to predict flight delays in advance to take proactive measures to mitigate their impact. By accurately forecasting potential delays, airlines can optimize their operations, improve scheduling, and enhance customer service.\n",
    "\n",
    "**Success Metrics**:  \n",
    "To evaluate the effectiveness of the machine learning model in predicting flight delays, we will focus on the following success metrics:\n",
    "\n",
    "1. **Accuracy**: The percentage of correct predictions made by the model out of the total predictions. A higher accuracy indicates better performance.\n",
    "\n",
    "2. **Precision**: The ratio of true positive predictions to the total predicted positives. This metric will help assess how many of the predicted delays were actual delays.\n",
    "\n",
    "3. **Recall (Sensitivity)**: The ratio of true positive predictions to the total actual positives. This will measure the model's ability to identify all instances of flight delays.\n",
    "\n",
    "4. **F1 Score**: The harmonic mean of precision and recall, providing a balance between the two. This metric is especially useful when dealing with class imbalance.\n",
    "\n",
    "5. **Confusion Matrix**: A table that allows us to visualize the performance of the classification model by summarizing the correct and incorrect predictions for each class (delay/no delay).\n",
    "\n",
    "**Desired ML Output**:  \n",
    "The primary output of the machine learning model will be a binary classification indicating whether a flight will be delayed or not, based on various input features such as historical data, weather conditions, and operational factors. The model should provide:\n",
    "\n",
    "- A probability score indicating the likelihood of a flight being delayed.\n",
    "- An explanation or feature importance analysis to help stakeholders understand which factors most significantly influence delay predictions. This information can guide operational improvements and strategic decisions within the airline."
   ]
  },
  {
   "cell_type": "markdown",
   "metadata": {},
   "source": [
    "### 3. Identify the type of ML problem you’re dealing with."
   ]
  },
  {
   "cell_type": "markdown",
   "metadata": {},
   "source": [
    "\n",
    "The problem at hand is a **supervised classification problem** in machine learning. Here’s a breakdown of the key characteristics:\n",
    "\n",
    "1. **Supervised Learning**: \n",
    "   - The model will be trained on a labeled dataset where the input features (e.g., flight details, weather conditions, historical delay data) are known, along with the corresponding output labels (e.g., whether a flight is delayed or on time).\n",
    "   - The goal is to learn a mapping from the input features to the output labels so that the model can make accurate predictions on unseen data.\n",
    "\n",
    "2. **Classification**: \n",
    "   - The output variable is categorical, specifically binary in this case. The model needs to classify flights into two categories: \"Delayed\" or \"Not Delayed.\"\n",
    "   - Since the problem involves predicting the occurrence of an event (flight delays), it falls under the classification category of supervised learning.\n",
    "\n",
    "3. **Binary Classification**: \n",
    "   - The specific type of classification problem here is binary classification, as there are only two possible outcomes for each flight: either it is delayed or it is not delayed.\n",
    "\n",
    "In summary, this project involves building a supervised machine learning model for binary classification to predict flight delays based on various input features."
   ]
  },
  {
   "cell_type": "markdown",
   "metadata": {},
   "source": [
    "### Setup\n",
    "\n",
    "Now that we have decided where to focus our energy, let's set things up so you can start working on solving the problem."
   ]
  },
  {
   "cell_type": "code",
   "execution_count": 5,
   "metadata": {},
   "outputs": [],
   "source": [
    "import os\n",
    "from pathlib import Path  # Replace pathlib2 with pathlib for Python 3\n",
    "from zipfile import ZipFile\n",
    "import time\n",
    "\n",
    "import pandas as pd\n",
    "import numpy as np\n",
    "\n",
    "import matplotlib.pyplot as plt\n",
    "import seaborn as sns\n",
    "sns.set()\n",
    "\n",
    "import warnings\n",
    "warnings.filterwarnings('ignore')\n",
    "\n",
    "# %matplotlib inline (uncomment this if you're using a Jupyter notebook)\n",
    "\n",
    "# Add any other libraries or functions here\n"
   ]
  },
  {
   "cell_type": "markdown",
   "metadata": {},
   "source": [
    "# Step 2: Data preprocessing and visualization  \n",
    "In this data preprocessing phase, you should take the opportunity to explore and visualize your data to better understand it. First, import the necessary libraries and read the data into a Pandas dataframe. After that, explore your data. Look for the shape of the dataset and explore your columns and the types of columns you're working with (numerical, categorical). Consider performing basic statistics on the features to get a sense of feature means and ranges. Take a close look at your target column and determine its distribution.\n",
    "\n",
    "### Specific questions to consider\n",
    "1. What can you deduce from the basic statistics you ran on the features? \n",
    "\n",
    "2. What can you deduce from the distributions of the target classes?\n",
    "\n",
    "3. Is there anything else you deduced from exploring the data?"
   ]
  },
  {
   "cell_type": "markdown",
   "metadata": {},
   "source": [
    "Start by bringing in the dataset from an Amazon S3 public bucket to this notebook environment."
   ]
  },
  {
   "cell_type": "code",
   "execution_count": 6,
   "metadata": {},
   "outputs": [
    {
     "name": "stdout",
     "output_type": "stream",
     "text": [
      "Files extracted to C:\\Users\\bbhat\\OneDrive\\Desktop\\Data Science Technology and Systems PG\\FINAL ASSIGNMENT\\extracted\n"
     ]
    }
   ],
   "source": [
    "# Define relative paths\n",
    "zip_path = r'C:\\Users\\bbhat\\OneDrive\\Desktop\\Data Science Technology and Systems PG\\FINAL ASSIGNMENT\\data_compressed.zip'  # Use a relative path for the ZIP file\n",
    "base_path = r'C:\\Users\\bbhat\\OneDrive\\Desktop\\Data Science Technology and Systems PG\\FINAL ASSIGNMENT'  # Define the relative base path where files are stored\n",
    "csv_base_path = r'C:\\Users\\bbhat\\OneDrive\\Desktop\\Data Science Technology and Systems PG\\FINAL ASSIGNMENT\\extracted' # Where the files will be extracted\n",
    "\n",
    "# Create directory if it doesn't exist\n",
    "os.makedirs(csv_base_path, exist_ok=True)\n",
    "\n",
    "# Unzip the file to the target directory\n",
    "with ZipFile(zip_path, 'r') as zip_ref:\n",
    "    zip_ref.extractall(csv_base_path)\n",
    "\n",
    "print(f\"Files extracted to {csv_base_path}\")\n"
   ]
  },
  {
   "cell_type": "code",
   "execution_count": 7,
   "metadata": {},
   "outputs": [
    {
     "name": "stdout",
     "output_type": "stream",
     "text": [
      "Number of ZIP files: 60\n"
     ]
    }
   ],
   "source": [
    "# How many zip files do we have? write a code to answer it.\n",
    "# path to the folder where the ZIP files are located\n",
    "zip_folder = r'C:\\Users\\bbhat\\OneDrive\\Desktop\\Data Science Technology and Systems PG\\FINAL ASSIGNMENT\\extracted\\data_compressed'\n",
    "\n",
    "# Check if the folder exists\n",
    "if os.path.exists(zip_folder):\n",
    "    # Count the number of ZIP files in the folder\n",
    "    zip_file_count = sum([1 for file in os.listdir(zip_folder) if file.endswith('.zip')])\n",
    "    print(f\"Number of ZIP files: {zip_file_count}\")\n",
    "else:\n",
    "    print(f\"The folder {zip_folder} does not exist. Please check the path.\")\n"
   ]
  },
  {
   "cell_type": "markdown",
   "metadata": {},
   "source": [
    "#### Extract CSV files from ZIP files"
   ]
  },
  {
   "cell_type": "code",
   "execution_count": 8,
   "metadata": {
    "scrolled": true
   },
   "outputs": [
    {
     "name": "stdout",
     "output_type": "stream",
     "text": [
      "Extracting C:\\Users\\bbhat\\OneDrive\\Desktop\\Data Science Technology and Systems PG\\FINAL ASSIGNMENT\\extracted\\data_compressed\\On_Time_Reporting_Carrier_On_Time_Performance_1987_present_2014_1.zip...\n",
      "Successfully extracted to C:\\Users\\bbhat\\OneDrive\\Desktop\\Data Science Technology and Systems PG\\FINAL ASSIGNMENT\\Final_Dataset\n",
      "Extracting C:\\Users\\bbhat\\OneDrive\\Desktop\\Data Science Technology and Systems PG\\FINAL ASSIGNMENT\\extracted\\data_compressed\\On_Time_Reporting_Carrier_On_Time_Performance_1987_present_2014_10.zip...\n",
      "Successfully extracted to C:\\Users\\bbhat\\OneDrive\\Desktop\\Data Science Technology and Systems PG\\FINAL ASSIGNMENT\\Final_Dataset\n",
      "Extracting C:\\Users\\bbhat\\OneDrive\\Desktop\\Data Science Technology and Systems PG\\FINAL ASSIGNMENT\\extracted\\data_compressed\\On_Time_Reporting_Carrier_On_Time_Performance_1987_present_2014_11.zip...\n",
      "Successfully extracted to C:\\Users\\bbhat\\OneDrive\\Desktop\\Data Science Technology and Systems PG\\FINAL ASSIGNMENT\\Final_Dataset\n",
      "Extracting C:\\Users\\bbhat\\OneDrive\\Desktop\\Data Science Technology and Systems PG\\FINAL ASSIGNMENT\\extracted\\data_compressed\\On_Time_Reporting_Carrier_On_Time_Performance_1987_present_2014_12.zip...\n",
      "Successfully extracted to C:\\Users\\bbhat\\OneDrive\\Desktop\\Data Science Technology and Systems PG\\FINAL ASSIGNMENT\\Final_Dataset\n",
      "Extracting C:\\Users\\bbhat\\OneDrive\\Desktop\\Data Science Technology and Systems PG\\FINAL ASSIGNMENT\\extracted\\data_compressed\\On_Time_Reporting_Carrier_On_Time_Performance_1987_present_2014_2.zip...\n",
      "Successfully extracted to C:\\Users\\bbhat\\OneDrive\\Desktop\\Data Science Technology and Systems PG\\FINAL ASSIGNMENT\\Final_Dataset\n",
      "Extracting C:\\Users\\bbhat\\OneDrive\\Desktop\\Data Science Technology and Systems PG\\FINAL ASSIGNMENT\\extracted\\data_compressed\\On_Time_Reporting_Carrier_On_Time_Performance_1987_present_2014_3.zip...\n",
      "Successfully extracted to C:\\Users\\bbhat\\OneDrive\\Desktop\\Data Science Technology and Systems PG\\FINAL ASSIGNMENT\\Final_Dataset\n",
      "Extracting C:\\Users\\bbhat\\OneDrive\\Desktop\\Data Science Technology and Systems PG\\FINAL ASSIGNMENT\\extracted\\data_compressed\\On_Time_Reporting_Carrier_On_Time_Performance_1987_present_2014_4.zip...\n",
      "Successfully extracted to C:\\Users\\bbhat\\OneDrive\\Desktop\\Data Science Technology and Systems PG\\FINAL ASSIGNMENT\\Final_Dataset\n",
      "Extracting C:\\Users\\bbhat\\OneDrive\\Desktop\\Data Science Technology and Systems PG\\FINAL ASSIGNMENT\\extracted\\data_compressed\\On_Time_Reporting_Carrier_On_Time_Performance_1987_present_2014_5.zip...\n",
      "Successfully extracted to C:\\Users\\bbhat\\OneDrive\\Desktop\\Data Science Technology and Systems PG\\FINAL ASSIGNMENT\\Final_Dataset\n",
      "Extracting C:\\Users\\bbhat\\OneDrive\\Desktop\\Data Science Technology and Systems PG\\FINAL ASSIGNMENT\\extracted\\data_compressed\\On_Time_Reporting_Carrier_On_Time_Performance_1987_present_2014_6.zip...\n",
      "Successfully extracted to C:\\Users\\bbhat\\OneDrive\\Desktop\\Data Science Technology and Systems PG\\FINAL ASSIGNMENT\\Final_Dataset\n",
      "Extracting C:\\Users\\bbhat\\OneDrive\\Desktop\\Data Science Technology and Systems PG\\FINAL ASSIGNMENT\\extracted\\data_compressed\\On_Time_Reporting_Carrier_On_Time_Performance_1987_present_2014_7.zip...\n",
      "Successfully extracted to C:\\Users\\bbhat\\OneDrive\\Desktop\\Data Science Technology and Systems PG\\FINAL ASSIGNMENT\\Final_Dataset\n",
      "Extracting C:\\Users\\bbhat\\OneDrive\\Desktop\\Data Science Technology and Systems PG\\FINAL ASSIGNMENT\\extracted\\data_compressed\\On_Time_Reporting_Carrier_On_Time_Performance_1987_present_2014_8.zip...\n",
      "Successfully extracted to C:\\Users\\bbhat\\OneDrive\\Desktop\\Data Science Technology and Systems PG\\FINAL ASSIGNMENT\\Final_Dataset\n",
      "Extracting C:\\Users\\bbhat\\OneDrive\\Desktop\\Data Science Technology and Systems PG\\FINAL ASSIGNMENT\\extracted\\data_compressed\\On_Time_Reporting_Carrier_On_Time_Performance_1987_present_2014_9.zip...\n",
      "Successfully extracted to C:\\Users\\bbhat\\OneDrive\\Desktop\\Data Science Technology and Systems PG\\FINAL ASSIGNMENT\\Final_Dataset\n",
      "Extracting C:\\Users\\bbhat\\OneDrive\\Desktop\\Data Science Technology and Systems PG\\FINAL ASSIGNMENT\\extracted\\data_compressed\\On_Time_Reporting_Carrier_On_Time_Performance_1987_present_2015_1.zip...\n",
      "Successfully extracted to C:\\Users\\bbhat\\OneDrive\\Desktop\\Data Science Technology and Systems PG\\FINAL ASSIGNMENT\\Final_Dataset\n",
      "Extracting C:\\Users\\bbhat\\OneDrive\\Desktop\\Data Science Technology and Systems PG\\FINAL ASSIGNMENT\\extracted\\data_compressed\\On_Time_Reporting_Carrier_On_Time_Performance_1987_present_2015_10.zip...\n",
      "Successfully extracted to C:\\Users\\bbhat\\OneDrive\\Desktop\\Data Science Technology and Systems PG\\FINAL ASSIGNMENT\\Final_Dataset\n",
      "Extracting C:\\Users\\bbhat\\OneDrive\\Desktop\\Data Science Technology and Systems PG\\FINAL ASSIGNMENT\\extracted\\data_compressed\\On_Time_Reporting_Carrier_On_Time_Performance_1987_present_2015_11.zip...\n",
      "Successfully extracted to C:\\Users\\bbhat\\OneDrive\\Desktop\\Data Science Technology and Systems PG\\FINAL ASSIGNMENT\\Final_Dataset\n",
      "Extracting C:\\Users\\bbhat\\OneDrive\\Desktop\\Data Science Technology and Systems PG\\FINAL ASSIGNMENT\\extracted\\data_compressed\\On_Time_Reporting_Carrier_On_Time_Performance_1987_present_2015_12.zip...\n",
      "Successfully extracted to C:\\Users\\bbhat\\OneDrive\\Desktop\\Data Science Technology and Systems PG\\FINAL ASSIGNMENT\\Final_Dataset\n",
      "Extracting C:\\Users\\bbhat\\OneDrive\\Desktop\\Data Science Technology and Systems PG\\FINAL ASSIGNMENT\\extracted\\data_compressed\\On_Time_Reporting_Carrier_On_Time_Performance_1987_present_2015_2.zip...\n",
      "Successfully extracted to C:\\Users\\bbhat\\OneDrive\\Desktop\\Data Science Technology and Systems PG\\FINAL ASSIGNMENT\\Final_Dataset\n",
      "Extracting C:\\Users\\bbhat\\OneDrive\\Desktop\\Data Science Technology and Systems PG\\FINAL ASSIGNMENT\\extracted\\data_compressed\\On_Time_Reporting_Carrier_On_Time_Performance_1987_present_2015_3.zip...\n",
      "Successfully extracted to C:\\Users\\bbhat\\OneDrive\\Desktop\\Data Science Technology and Systems PG\\FINAL ASSIGNMENT\\Final_Dataset\n",
      "Extracting C:\\Users\\bbhat\\OneDrive\\Desktop\\Data Science Technology and Systems PG\\FINAL ASSIGNMENT\\extracted\\data_compressed\\On_Time_Reporting_Carrier_On_Time_Performance_1987_present_2015_4.zip...\n",
      "Successfully extracted to C:\\Users\\bbhat\\OneDrive\\Desktop\\Data Science Technology and Systems PG\\FINAL ASSIGNMENT\\Final_Dataset\n",
      "Extracting C:\\Users\\bbhat\\OneDrive\\Desktop\\Data Science Technology and Systems PG\\FINAL ASSIGNMENT\\extracted\\data_compressed\\On_Time_Reporting_Carrier_On_Time_Performance_1987_present_2015_5.zip...\n",
      "Successfully extracted to C:\\Users\\bbhat\\OneDrive\\Desktop\\Data Science Technology and Systems PG\\FINAL ASSIGNMENT\\Final_Dataset\n",
      "Extracting C:\\Users\\bbhat\\OneDrive\\Desktop\\Data Science Technology and Systems PG\\FINAL ASSIGNMENT\\extracted\\data_compressed\\On_Time_Reporting_Carrier_On_Time_Performance_1987_present_2015_6.zip...\n",
      "Successfully extracted to C:\\Users\\bbhat\\OneDrive\\Desktop\\Data Science Technology and Systems PG\\FINAL ASSIGNMENT\\Final_Dataset\n",
      "Extracting C:\\Users\\bbhat\\OneDrive\\Desktop\\Data Science Technology and Systems PG\\FINAL ASSIGNMENT\\extracted\\data_compressed\\On_Time_Reporting_Carrier_On_Time_Performance_1987_present_2015_7.zip...\n",
      "Successfully extracted to C:\\Users\\bbhat\\OneDrive\\Desktop\\Data Science Technology and Systems PG\\FINAL ASSIGNMENT\\Final_Dataset\n",
      "Extracting C:\\Users\\bbhat\\OneDrive\\Desktop\\Data Science Technology and Systems PG\\FINAL ASSIGNMENT\\extracted\\data_compressed\\On_Time_Reporting_Carrier_On_Time_Performance_1987_present_2015_8.zip...\n",
      "Successfully extracted to C:\\Users\\bbhat\\OneDrive\\Desktop\\Data Science Technology and Systems PG\\FINAL ASSIGNMENT\\Final_Dataset\n",
      "Extracting C:\\Users\\bbhat\\OneDrive\\Desktop\\Data Science Technology and Systems PG\\FINAL ASSIGNMENT\\extracted\\data_compressed\\On_Time_Reporting_Carrier_On_Time_Performance_1987_present_2015_9.zip...\n",
      "Successfully extracted to C:\\Users\\bbhat\\OneDrive\\Desktop\\Data Science Technology and Systems PG\\FINAL ASSIGNMENT\\Final_Dataset\n",
      "Extracting C:\\Users\\bbhat\\OneDrive\\Desktop\\Data Science Technology and Systems PG\\FINAL ASSIGNMENT\\extracted\\data_compressed\\On_Time_Reporting_Carrier_On_Time_Performance_1987_present_2016_1.zip...\n",
      "Successfully extracted to C:\\Users\\bbhat\\OneDrive\\Desktop\\Data Science Technology and Systems PG\\FINAL ASSIGNMENT\\Final_Dataset\n",
      "Extracting C:\\Users\\bbhat\\OneDrive\\Desktop\\Data Science Technology and Systems PG\\FINAL ASSIGNMENT\\extracted\\data_compressed\\On_Time_Reporting_Carrier_On_Time_Performance_1987_present_2016_10.zip...\n",
      "Successfully extracted to C:\\Users\\bbhat\\OneDrive\\Desktop\\Data Science Technology and Systems PG\\FINAL ASSIGNMENT\\Final_Dataset\n",
      "Extracting C:\\Users\\bbhat\\OneDrive\\Desktop\\Data Science Technology and Systems PG\\FINAL ASSIGNMENT\\extracted\\data_compressed\\On_Time_Reporting_Carrier_On_Time_Performance_1987_present_2016_11.zip...\n",
      "Successfully extracted to C:\\Users\\bbhat\\OneDrive\\Desktop\\Data Science Technology and Systems PG\\FINAL ASSIGNMENT\\Final_Dataset\n",
      "Extracting C:\\Users\\bbhat\\OneDrive\\Desktop\\Data Science Technology and Systems PG\\FINAL ASSIGNMENT\\extracted\\data_compressed\\On_Time_Reporting_Carrier_On_Time_Performance_1987_present_2016_12.zip...\n",
      "Successfully extracted to C:\\Users\\bbhat\\OneDrive\\Desktop\\Data Science Technology and Systems PG\\FINAL ASSIGNMENT\\Final_Dataset\n",
      "Extracting C:\\Users\\bbhat\\OneDrive\\Desktop\\Data Science Technology and Systems PG\\FINAL ASSIGNMENT\\extracted\\data_compressed\\On_Time_Reporting_Carrier_On_Time_Performance_1987_present_2016_2.zip...\n",
      "Successfully extracted to C:\\Users\\bbhat\\OneDrive\\Desktop\\Data Science Technology and Systems PG\\FINAL ASSIGNMENT\\Final_Dataset\n",
      "Extracting C:\\Users\\bbhat\\OneDrive\\Desktop\\Data Science Technology and Systems PG\\FINAL ASSIGNMENT\\extracted\\data_compressed\\On_Time_Reporting_Carrier_On_Time_Performance_1987_present_2016_3.zip...\n",
      "Successfully extracted to C:\\Users\\bbhat\\OneDrive\\Desktop\\Data Science Technology and Systems PG\\FINAL ASSIGNMENT\\Final_Dataset\n",
      "Extracting C:\\Users\\bbhat\\OneDrive\\Desktop\\Data Science Technology and Systems PG\\FINAL ASSIGNMENT\\extracted\\data_compressed\\On_Time_Reporting_Carrier_On_Time_Performance_1987_present_2016_4.zip...\n",
      "Successfully extracted to C:\\Users\\bbhat\\OneDrive\\Desktop\\Data Science Technology and Systems PG\\FINAL ASSIGNMENT\\Final_Dataset\n",
      "Extracting C:\\Users\\bbhat\\OneDrive\\Desktop\\Data Science Technology and Systems PG\\FINAL ASSIGNMENT\\extracted\\data_compressed\\On_Time_Reporting_Carrier_On_Time_Performance_1987_present_2016_5.zip...\n",
      "Successfully extracted to C:\\Users\\bbhat\\OneDrive\\Desktop\\Data Science Technology and Systems PG\\FINAL ASSIGNMENT\\Final_Dataset\n",
      "Extracting C:\\Users\\bbhat\\OneDrive\\Desktop\\Data Science Technology and Systems PG\\FINAL ASSIGNMENT\\extracted\\data_compressed\\On_Time_Reporting_Carrier_On_Time_Performance_1987_present_2016_6.zip...\n",
      "Successfully extracted to C:\\Users\\bbhat\\OneDrive\\Desktop\\Data Science Technology and Systems PG\\FINAL ASSIGNMENT\\Final_Dataset\n",
      "Extracting C:\\Users\\bbhat\\OneDrive\\Desktop\\Data Science Technology and Systems PG\\FINAL ASSIGNMENT\\extracted\\data_compressed\\On_Time_Reporting_Carrier_On_Time_Performance_1987_present_2016_7.zip...\n",
      "Successfully extracted to C:\\Users\\bbhat\\OneDrive\\Desktop\\Data Science Technology and Systems PG\\FINAL ASSIGNMENT\\Final_Dataset\n",
      "Extracting C:\\Users\\bbhat\\OneDrive\\Desktop\\Data Science Technology and Systems PG\\FINAL ASSIGNMENT\\extracted\\data_compressed\\On_Time_Reporting_Carrier_On_Time_Performance_1987_present_2016_8.zip...\n",
      "Successfully extracted to C:\\Users\\bbhat\\OneDrive\\Desktop\\Data Science Technology and Systems PG\\FINAL ASSIGNMENT\\Final_Dataset\n",
      "Extracting C:\\Users\\bbhat\\OneDrive\\Desktop\\Data Science Technology and Systems PG\\FINAL ASSIGNMENT\\extracted\\data_compressed\\On_Time_Reporting_Carrier_On_Time_Performance_1987_present_2016_9.zip...\n",
      "Successfully extracted to C:\\Users\\bbhat\\OneDrive\\Desktop\\Data Science Technology and Systems PG\\FINAL ASSIGNMENT\\Final_Dataset\n",
      "Extracting C:\\Users\\bbhat\\OneDrive\\Desktop\\Data Science Technology and Systems PG\\FINAL ASSIGNMENT\\extracted\\data_compressed\\On_Time_Reporting_Carrier_On_Time_Performance_1987_present_2017_1.zip...\n",
      "Successfully extracted to C:\\Users\\bbhat\\OneDrive\\Desktop\\Data Science Technology and Systems PG\\FINAL ASSIGNMENT\\Final_Dataset\n",
      "Extracting C:\\Users\\bbhat\\OneDrive\\Desktop\\Data Science Technology and Systems PG\\FINAL ASSIGNMENT\\extracted\\data_compressed\\On_Time_Reporting_Carrier_On_Time_Performance_1987_present_2017_10.zip...\n",
      "Successfully extracted to C:\\Users\\bbhat\\OneDrive\\Desktop\\Data Science Technology and Systems PG\\FINAL ASSIGNMENT\\Final_Dataset\n",
      "Extracting C:\\Users\\bbhat\\OneDrive\\Desktop\\Data Science Technology and Systems PG\\FINAL ASSIGNMENT\\extracted\\data_compressed\\On_Time_Reporting_Carrier_On_Time_Performance_1987_present_2017_11.zip...\n",
      "Successfully extracted to C:\\Users\\bbhat\\OneDrive\\Desktop\\Data Science Technology and Systems PG\\FINAL ASSIGNMENT\\Final_Dataset\n",
      "Extracting C:\\Users\\bbhat\\OneDrive\\Desktop\\Data Science Technology and Systems PG\\FINAL ASSIGNMENT\\extracted\\data_compressed\\On_Time_Reporting_Carrier_On_Time_Performance_1987_present_2017_12.zip...\n",
      "Successfully extracted to C:\\Users\\bbhat\\OneDrive\\Desktop\\Data Science Technology and Systems PG\\FINAL ASSIGNMENT\\Final_Dataset\n",
      "Extracting C:\\Users\\bbhat\\OneDrive\\Desktop\\Data Science Technology and Systems PG\\FINAL ASSIGNMENT\\extracted\\data_compressed\\On_Time_Reporting_Carrier_On_Time_Performance_1987_present_2017_2.zip...\n",
      "Successfully extracted to C:\\Users\\bbhat\\OneDrive\\Desktop\\Data Science Technology and Systems PG\\FINAL ASSIGNMENT\\Final_Dataset\n",
      "Extracting C:\\Users\\bbhat\\OneDrive\\Desktop\\Data Science Technology and Systems PG\\FINAL ASSIGNMENT\\extracted\\data_compressed\\On_Time_Reporting_Carrier_On_Time_Performance_1987_present_2017_3.zip...\n",
      "Successfully extracted to C:\\Users\\bbhat\\OneDrive\\Desktop\\Data Science Technology and Systems PG\\FINAL ASSIGNMENT\\Final_Dataset\n",
      "Extracting C:\\Users\\bbhat\\OneDrive\\Desktop\\Data Science Technology and Systems PG\\FINAL ASSIGNMENT\\extracted\\data_compressed\\On_Time_Reporting_Carrier_On_Time_Performance_1987_present_2017_4.zip...\n",
      "Successfully extracted to C:\\Users\\bbhat\\OneDrive\\Desktop\\Data Science Technology and Systems PG\\FINAL ASSIGNMENT\\Final_Dataset\n",
      "Extracting C:\\Users\\bbhat\\OneDrive\\Desktop\\Data Science Technology and Systems PG\\FINAL ASSIGNMENT\\extracted\\data_compressed\\On_Time_Reporting_Carrier_On_Time_Performance_1987_present_2017_5.zip...\n",
      "Successfully extracted to C:\\Users\\bbhat\\OneDrive\\Desktop\\Data Science Technology and Systems PG\\FINAL ASSIGNMENT\\Final_Dataset\n",
      "Extracting C:\\Users\\bbhat\\OneDrive\\Desktop\\Data Science Technology and Systems PG\\FINAL ASSIGNMENT\\extracted\\data_compressed\\On_Time_Reporting_Carrier_On_Time_Performance_1987_present_2017_6.zip...\n",
      "Successfully extracted to C:\\Users\\bbhat\\OneDrive\\Desktop\\Data Science Technology and Systems PG\\FINAL ASSIGNMENT\\Final_Dataset\n",
      "Extracting C:\\Users\\bbhat\\OneDrive\\Desktop\\Data Science Technology and Systems PG\\FINAL ASSIGNMENT\\extracted\\data_compressed\\On_Time_Reporting_Carrier_On_Time_Performance_1987_present_2017_7.zip...\n",
      "Successfully extracted to C:\\Users\\bbhat\\OneDrive\\Desktop\\Data Science Technology and Systems PG\\FINAL ASSIGNMENT\\Final_Dataset\n",
      "Extracting C:\\Users\\bbhat\\OneDrive\\Desktop\\Data Science Technology and Systems PG\\FINAL ASSIGNMENT\\extracted\\data_compressed\\On_Time_Reporting_Carrier_On_Time_Performance_1987_present_2017_8.zip...\n",
      "Successfully extracted to C:\\Users\\bbhat\\OneDrive\\Desktop\\Data Science Technology and Systems PG\\FINAL ASSIGNMENT\\Final_Dataset\n",
      "Extracting C:\\Users\\bbhat\\OneDrive\\Desktop\\Data Science Technology and Systems PG\\FINAL ASSIGNMENT\\extracted\\data_compressed\\On_Time_Reporting_Carrier_On_Time_Performance_1987_present_2017_9.zip...\n",
      "Successfully extracted to C:\\Users\\bbhat\\OneDrive\\Desktop\\Data Science Technology and Systems PG\\FINAL ASSIGNMENT\\Final_Dataset\n",
      "Extracting C:\\Users\\bbhat\\OneDrive\\Desktop\\Data Science Technology and Systems PG\\FINAL ASSIGNMENT\\extracted\\data_compressed\\On_Time_Reporting_Carrier_On_Time_Performance_1987_present_2018_1.zip...\n",
      "Successfully extracted to C:\\Users\\bbhat\\OneDrive\\Desktop\\Data Science Technology and Systems PG\\FINAL ASSIGNMENT\\Final_Dataset\n",
      "Extracting C:\\Users\\bbhat\\OneDrive\\Desktop\\Data Science Technology and Systems PG\\FINAL ASSIGNMENT\\extracted\\data_compressed\\On_Time_Reporting_Carrier_On_Time_Performance_1987_present_2018_10.zip...\n",
      "Successfully extracted to C:\\Users\\bbhat\\OneDrive\\Desktop\\Data Science Technology and Systems PG\\FINAL ASSIGNMENT\\Final_Dataset\n",
      "Extracting C:\\Users\\bbhat\\OneDrive\\Desktop\\Data Science Technology and Systems PG\\FINAL ASSIGNMENT\\extracted\\data_compressed\\On_Time_Reporting_Carrier_On_Time_Performance_1987_present_2018_11.zip...\n",
      "Successfully extracted to C:\\Users\\bbhat\\OneDrive\\Desktop\\Data Science Technology and Systems PG\\FINAL ASSIGNMENT\\Final_Dataset\n",
      "Extracting C:\\Users\\bbhat\\OneDrive\\Desktop\\Data Science Technology and Systems PG\\FINAL ASSIGNMENT\\extracted\\data_compressed\\On_Time_Reporting_Carrier_On_Time_Performance_1987_present_2018_12.zip...\n",
      "Successfully extracted to C:\\Users\\bbhat\\OneDrive\\Desktop\\Data Science Technology and Systems PG\\FINAL ASSIGNMENT\\Final_Dataset\n",
      "Extracting C:\\Users\\bbhat\\OneDrive\\Desktop\\Data Science Technology and Systems PG\\FINAL ASSIGNMENT\\extracted\\data_compressed\\On_Time_Reporting_Carrier_On_Time_Performance_1987_present_2018_2.zip...\n",
      "Successfully extracted to C:\\Users\\bbhat\\OneDrive\\Desktop\\Data Science Technology and Systems PG\\FINAL ASSIGNMENT\\Final_Dataset\n",
      "Extracting C:\\Users\\bbhat\\OneDrive\\Desktop\\Data Science Technology and Systems PG\\FINAL ASSIGNMENT\\extracted\\data_compressed\\On_Time_Reporting_Carrier_On_Time_Performance_1987_present_2018_3.zip...\n",
      "Successfully extracted to C:\\Users\\bbhat\\OneDrive\\Desktop\\Data Science Technology and Systems PG\\FINAL ASSIGNMENT\\Final_Dataset\n",
      "Extracting C:\\Users\\bbhat\\OneDrive\\Desktop\\Data Science Technology and Systems PG\\FINAL ASSIGNMENT\\extracted\\data_compressed\\On_Time_Reporting_Carrier_On_Time_Performance_1987_present_2018_4.zip...\n",
      "Successfully extracted to C:\\Users\\bbhat\\OneDrive\\Desktop\\Data Science Technology and Systems PG\\FINAL ASSIGNMENT\\Final_Dataset\n",
      "Extracting C:\\Users\\bbhat\\OneDrive\\Desktop\\Data Science Technology and Systems PG\\FINAL ASSIGNMENT\\extracted\\data_compressed\\On_Time_Reporting_Carrier_On_Time_Performance_1987_present_2018_5.zip...\n",
      "Successfully extracted to C:\\Users\\bbhat\\OneDrive\\Desktop\\Data Science Technology and Systems PG\\FINAL ASSIGNMENT\\Final_Dataset\n",
      "Extracting C:\\Users\\bbhat\\OneDrive\\Desktop\\Data Science Technology and Systems PG\\FINAL ASSIGNMENT\\extracted\\data_compressed\\On_Time_Reporting_Carrier_On_Time_Performance_1987_present_2018_6.zip...\n",
      "Successfully extracted to C:\\Users\\bbhat\\OneDrive\\Desktop\\Data Science Technology and Systems PG\\FINAL ASSIGNMENT\\Final_Dataset\n",
      "Extracting C:\\Users\\bbhat\\OneDrive\\Desktop\\Data Science Technology and Systems PG\\FINAL ASSIGNMENT\\extracted\\data_compressed\\On_Time_Reporting_Carrier_On_Time_Performance_1987_present_2018_7.zip...\n",
      "Successfully extracted to C:\\Users\\bbhat\\OneDrive\\Desktop\\Data Science Technology and Systems PG\\FINAL ASSIGNMENT\\Final_Dataset\n",
      "Extracting C:\\Users\\bbhat\\OneDrive\\Desktop\\Data Science Technology and Systems PG\\FINAL ASSIGNMENT\\extracted\\data_compressed\\On_Time_Reporting_Carrier_On_Time_Performance_1987_present_2018_8.zip...\n",
      "Successfully extracted to C:\\Users\\bbhat\\OneDrive\\Desktop\\Data Science Technology and Systems PG\\FINAL ASSIGNMENT\\Final_Dataset\n",
      "Extracting C:\\Users\\bbhat\\OneDrive\\Desktop\\Data Science Technology and Systems PG\\FINAL ASSIGNMENT\\extracted\\data_compressed\\On_Time_Reporting_Carrier_On_Time_Performance_1987_present_2018_9.zip...\n",
      "Successfully extracted to C:\\Users\\bbhat\\OneDrive\\Desktop\\Data Science Technology and Systems PG\\FINAL ASSIGNMENT\\Final_Dataset\n",
      "All files extracted.\n"
     ]
    }
   ],
   "source": [
    "import os\n",
    "from zipfile import ZipFile\n",
    "\n",
    "# Define the function to extract CSV files from ZIP archives\n",
    "def zip2csv(zipFile_name, file_path):\n",
    "    \"\"\"\n",
    "    Extract CSV files from ZIP files\n",
    "    zipFile_name: name of the zip file\n",
    "    file_path : directory to store the extracted CSV files\n",
    "    \"\"\"\n",
    "    try:\n",
    "        with ZipFile(zipFile_name, 'r') as z:\n",
    "            print(f'Extracting {zipFile_name}...')\n",
    "            z.extractall(path=file_path)  # Extract all files into the specified folder\n",
    "            print(f'Successfully extracted to {file_path}')\n",
    "    except Exception as e:\n",
    "        print(f'zip2csv failed for {zipFile_name} with error: {e}')\n",
    "\n",
    "# Example list of ZIP files (replace this with the actual list of ZIP files)\n",
    "zip_files_folder = r'C:\\Users\\bbhat\\OneDrive\\Desktop\\Data Science Technology and Systems PG\\FINAL ASSIGNMENT\\extracted\\data_compressed'\n",
    "csv_base_path = r'C:\\Users\\bbhat\\OneDrive\\Desktop\\Data Science Technology and Systems PG\\FINAL ASSIGNMENT\\Final_Dataset'  # Folder to store CSVs\n",
    "\n",
    "# Create the CSV output folder if it doesn't exist\n",
    "os.makedirs(csv_base_path, exist_ok=True)\n",
    "\n",
    "# Get a list of all ZIP files in the folder\n",
    "zip_files = [os.path.join(zip_files_folder, file) for file in os.listdir(zip_files_folder) if file.endswith('.zip')]\n",
    "\n",
    "# Extract CSV files from each ZIP file\n",
    "for file in zip_files:\n",
    "    zip2csv(file, csv_base_path)\n",
    "\n",
    "print(\"All files extracted.\")\n"
   ]
  },
  {
   "cell_type": "code",
   "execution_count": 9,
   "metadata": {},
   "outputs": [
    {
     "name": "stdout",
     "output_type": "stream",
     "text": [
      "Number of csv files extracted is 60\n"
     ]
    }
   ],
   "source": [
    "# How many csv files have we extracted? write a code to answer it.\n",
    "# Defining csv_base_path again as it was not retained in the previous session\n",
    "csv_base_path = r'C:\\Users\\bbhat\\OneDrive\\Desktop\\Data Science Technology and Systems PG\\FINAL ASSIGNMENT\\Final_Dataset'\n",
    "\n",
    "# Count the number of CSV files in the folder where they were extracted\n",
    "csv_file_count = sum([1 for file in os.listdir(csv_base_path) if file.endswith('.csv')])\n",
    "\n",
    "print(f'Number of csv files extracted is {csv_file_count}') # Output the number of CSV files extracted\n"
   ]
  },
  {
   "cell_type": "markdown",
   "metadata": {},
   "source": [
    "Before loading the CSV file, read the HTML file from the extracted folder. This HTML file includes the background and more information on the features included in the dataset."
   ]
  },
  {
   "cell_type": "code",
   "execution_count": 10,
   "metadata": {},
   "outputs": [
    {
     "data": {
      "text/html": [
       "\n",
       "        <iframe\n",
       "            width=\"1000\"\n",
       "            height=\"600\"\n",
       "            src=\"..\\Final_Datasetreadme.html\"\n",
       "            frameborder=\"0\"\n",
       "            allowfullscreen\n",
       "            \n",
       "        ></iframe>\n",
       "        "
      ],
      "text/plain": [
       "<IPython.lib.display.IFrame at 0x1dea3176a50>"
      ]
     },
     "execution_count": 10,
     "metadata": {},
     "output_type": "execute_result"
    }
   ],
   "source": [
    "from IPython.display import IFrame\n",
    "\n",
    "IFrame(src=os.path.relpath(f\"{csv_base_path}readme.html\"), width=1000, height=600)"
   ]
  },
  {
   "cell_type": "markdown",
   "metadata": {},
   "source": [
    "#### Load sample CSV\n",
    "\n",
    "Before combining all the CSV files, get a sense of the data from a single CSV file. Using Pandas, read the `On_Time_Reporting_Carrier_On_Time_Performance_(1987_present)_2018_9.csv` file first. You can use the Python built-in `read_csv` function ([documentation](https://pandas.pydata.org/pandas-docs/stable/reference/api/pandas.read_csv.html))."
   ]
  },
  {
   "cell_type": "code",
   "execution_count": 11,
   "metadata": {},
   "outputs": [],
   "source": [
    "import pandas as pd\n",
    "\n",
    "# Define the path to the CSV file\n",
    "csv_file_path = r'C:\\Users\\bbhat\\OneDrive\\Desktop\\Data Science Technology and Systems PG\\FINAL ASSIGNMENT\\Final_Dataset\\On_Time_Reporting_Carrier_On_Time_Performance_(1987_present)_2018_9.csv'\n",
    "\n",
    "# Read the CSV file into a DataFrame\n",
    "df_temp = pd.read_csv(csv_file_path)\n"
   ]
  },
  {
   "cell_type": "markdown",
   "metadata": {},
   "source": [
    "**Question**: Print the row and column length in the dataset, and print the column names."
   ]
  },
  {
   "cell_type": "code",
   "execution_count": 12,
   "metadata": {},
   "outputs": [
    {
     "name": "stdout",
     "output_type": "stream",
     "text": [
      "Rows and columns in the CSV file: (585749, 110)\n"
     ]
    }
   ],
   "source": [
    "# Get the shape (rows, columns) of the DataFrame\n",
    "df_shape = df_temp.shape\n",
    "\n",
    "# Print the number of rows and columns in the CSV file\n",
    "print(f'Rows and columns in the CSV file: {df_shape}')"
   ]
  },
  {
   "cell_type": "markdown",
   "metadata": {},
   "source": [
    "**Question**: Print the first 10 rows of the dataset.  "
   ]
  },
  {
   "cell_type": "code",
   "execution_count": 13,
   "metadata": {},
   "outputs": [
    {
     "data": {
      "text/html": [
       "<div>\n",
       "<style scoped>\n",
       "    .dataframe tbody tr th:only-of-type {\n",
       "        vertical-align: middle;\n",
       "    }\n",
       "\n",
       "    .dataframe tbody tr th {\n",
       "        vertical-align: top;\n",
       "    }\n",
       "\n",
       "    .dataframe thead th {\n",
       "        text-align: right;\n",
       "    }\n",
       "</style>\n",
       "<table border=\"1\" class=\"dataframe\">\n",
       "  <thead>\n",
       "    <tr style=\"text-align: right;\">\n",
       "      <th></th>\n",
       "      <th>Year</th>\n",
       "      <th>Quarter</th>\n",
       "      <th>Month</th>\n",
       "      <th>DayofMonth</th>\n",
       "      <th>DayOfWeek</th>\n",
       "      <th>FlightDate</th>\n",
       "      <th>Reporting_Airline</th>\n",
       "      <th>DOT_ID_Reporting_Airline</th>\n",
       "      <th>IATA_CODE_Reporting_Airline</th>\n",
       "      <th>Tail_Number</th>\n",
       "      <th>...</th>\n",
       "      <th>Div4TailNum</th>\n",
       "      <th>Div5Airport</th>\n",
       "      <th>Div5AirportID</th>\n",
       "      <th>Div5AirportSeqID</th>\n",
       "      <th>Div5WheelsOn</th>\n",
       "      <th>Div5TotalGTime</th>\n",
       "      <th>Div5LongestGTime</th>\n",
       "      <th>Div5WheelsOff</th>\n",
       "      <th>Div5TailNum</th>\n",
       "      <th>Unnamed: 109</th>\n",
       "    </tr>\n",
       "  </thead>\n",
       "  <tbody>\n",
       "    <tr>\n",
       "      <th>0</th>\n",
       "      <td>2018</td>\n",
       "      <td>3</td>\n",
       "      <td>9</td>\n",
       "      <td>3</td>\n",
       "      <td>1</td>\n",
       "      <td>2018-09-03</td>\n",
       "      <td>9E</td>\n",
       "      <td>20363</td>\n",
       "      <td>9E</td>\n",
       "      <td>N908XJ</td>\n",
       "      <td>...</td>\n",
       "      <td>NaN</td>\n",
       "      <td>NaN</td>\n",
       "      <td>NaN</td>\n",
       "      <td>NaN</td>\n",
       "      <td>NaN</td>\n",
       "      <td>NaN</td>\n",
       "      <td>NaN</td>\n",
       "      <td>NaN</td>\n",
       "      <td>NaN</td>\n",
       "      <td>NaN</td>\n",
       "    </tr>\n",
       "    <tr>\n",
       "      <th>1</th>\n",
       "      <td>2018</td>\n",
       "      <td>3</td>\n",
       "      <td>9</td>\n",
       "      <td>9</td>\n",
       "      <td>7</td>\n",
       "      <td>2018-09-09</td>\n",
       "      <td>9E</td>\n",
       "      <td>20363</td>\n",
       "      <td>9E</td>\n",
       "      <td>N315PQ</td>\n",
       "      <td>...</td>\n",
       "      <td>NaN</td>\n",
       "      <td>NaN</td>\n",
       "      <td>NaN</td>\n",
       "      <td>NaN</td>\n",
       "      <td>NaN</td>\n",
       "      <td>NaN</td>\n",
       "      <td>NaN</td>\n",
       "      <td>NaN</td>\n",
       "      <td>NaN</td>\n",
       "      <td>NaN</td>\n",
       "    </tr>\n",
       "    <tr>\n",
       "      <th>2</th>\n",
       "      <td>2018</td>\n",
       "      <td>3</td>\n",
       "      <td>9</td>\n",
       "      <td>10</td>\n",
       "      <td>1</td>\n",
       "      <td>2018-09-10</td>\n",
       "      <td>9E</td>\n",
       "      <td>20363</td>\n",
       "      <td>9E</td>\n",
       "      <td>N582CA</td>\n",
       "      <td>...</td>\n",
       "      <td>NaN</td>\n",
       "      <td>NaN</td>\n",
       "      <td>NaN</td>\n",
       "      <td>NaN</td>\n",
       "      <td>NaN</td>\n",
       "      <td>NaN</td>\n",
       "      <td>NaN</td>\n",
       "      <td>NaN</td>\n",
       "      <td>NaN</td>\n",
       "      <td>NaN</td>\n",
       "    </tr>\n",
       "    <tr>\n",
       "      <th>3</th>\n",
       "      <td>2018</td>\n",
       "      <td>3</td>\n",
       "      <td>9</td>\n",
       "      <td>13</td>\n",
       "      <td>4</td>\n",
       "      <td>2018-09-13</td>\n",
       "      <td>9E</td>\n",
       "      <td>20363</td>\n",
       "      <td>9E</td>\n",
       "      <td>N292PQ</td>\n",
       "      <td>...</td>\n",
       "      <td>NaN</td>\n",
       "      <td>NaN</td>\n",
       "      <td>NaN</td>\n",
       "      <td>NaN</td>\n",
       "      <td>NaN</td>\n",
       "      <td>NaN</td>\n",
       "      <td>NaN</td>\n",
       "      <td>NaN</td>\n",
       "      <td>NaN</td>\n",
       "      <td>NaN</td>\n",
       "    </tr>\n",
       "    <tr>\n",
       "      <th>4</th>\n",
       "      <td>2018</td>\n",
       "      <td>3</td>\n",
       "      <td>9</td>\n",
       "      <td>14</td>\n",
       "      <td>5</td>\n",
       "      <td>2018-09-14</td>\n",
       "      <td>9E</td>\n",
       "      <td>20363</td>\n",
       "      <td>9E</td>\n",
       "      <td>N600LR</td>\n",
       "      <td>...</td>\n",
       "      <td>NaN</td>\n",
       "      <td>NaN</td>\n",
       "      <td>NaN</td>\n",
       "      <td>NaN</td>\n",
       "      <td>NaN</td>\n",
       "      <td>NaN</td>\n",
       "      <td>NaN</td>\n",
       "      <td>NaN</td>\n",
       "      <td>NaN</td>\n",
       "      <td>NaN</td>\n",
       "    </tr>\n",
       "    <tr>\n",
       "      <th>5</th>\n",
       "      <td>2018</td>\n",
       "      <td>3</td>\n",
       "      <td>9</td>\n",
       "      <td>16</td>\n",
       "      <td>7</td>\n",
       "      <td>2018-09-16</td>\n",
       "      <td>9E</td>\n",
       "      <td>20363</td>\n",
       "      <td>9E</td>\n",
       "      <td>N316PQ</td>\n",
       "      <td>...</td>\n",
       "      <td>NaN</td>\n",
       "      <td>NaN</td>\n",
       "      <td>NaN</td>\n",
       "      <td>NaN</td>\n",
       "      <td>NaN</td>\n",
       "      <td>NaN</td>\n",
       "      <td>NaN</td>\n",
       "      <td>NaN</td>\n",
       "      <td>NaN</td>\n",
       "      <td>NaN</td>\n",
       "    </tr>\n",
       "    <tr>\n",
       "      <th>6</th>\n",
       "      <td>2018</td>\n",
       "      <td>3</td>\n",
       "      <td>9</td>\n",
       "      <td>17</td>\n",
       "      <td>1</td>\n",
       "      <td>2018-09-17</td>\n",
       "      <td>9E</td>\n",
       "      <td>20363</td>\n",
       "      <td>9E</td>\n",
       "      <td>N916XJ</td>\n",
       "      <td>...</td>\n",
       "      <td>NaN</td>\n",
       "      <td>NaN</td>\n",
       "      <td>NaN</td>\n",
       "      <td>NaN</td>\n",
       "      <td>NaN</td>\n",
       "      <td>NaN</td>\n",
       "      <td>NaN</td>\n",
       "      <td>NaN</td>\n",
       "      <td>NaN</td>\n",
       "      <td>NaN</td>\n",
       "    </tr>\n",
       "    <tr>\n",
       "      <th>7</th>\n",
       "      <td>2018</td>\n",
       "      <td>3</td>\n",
       "      <td>9</td>\n",
       "      <td>20</td>\n",
       "      <td>4</td>\n",
       "      <td>2018-09-20</td>\n",
       "      <td>9E</td>\n",
       "      <td>20363</td>\n",
       "      <td>9E</td>\n",
       "      <td>N371CA</td>\n",
       "      <td>...</td>\n",
       "      <td>NaN</td>\n",
       "      <td>NaN</td>\n",
       "      <td>NaN</td>\n",
       "      <td>NaN</td>\n",
       "      <td>NaN</td>\n",
       "      <td>NaN</td>\n",
       "      <td>NaN</td>\n",
       "      <td>NaN</td>\n",
       "      <td>NaN</td>\n",
       "      <td>NaN</td>\n",
       "    </tr>\n",
       "    <tr>\n",
       "      <th>8</th>\n",
       "      <td>2018</td>\n",
       "      <td>3</td>\n",
       "      <td>9</td>\n",
       "      <td>21</td>\n",
       "      <td>5</td>\n",
       "      <td>2018-09-21</td>\n",
       "      <td>9E</td>\n",
       "      <td>20363</td>\n",
       "      <td>9E</td>\n",
       "      <td>N601LR</td>\n",
       "      <td>...</td>\n",
       "      <td>NaN</td>\n",
       "      <td>NaN</td>\n",
       "      <td>NaN</td>\n",
       "      <td>NaN</td>\n",
       "      <td>NaN</td>\n",
       "      <td>NaN</td>\n",
       "      <td>NaN</td>\n",
       "      <td>NaN</td>\n",
       "      <td>NaN</td>\n",
       "      <td>NaN</td>\n",
       "    </tr>\n",
       "    <tr>\n",
       "      <th>9</th>\n",
       "      <td>2018</td>\n",
       "      <td>3</td>\n",
       "      <td>9</td>\n",
       "      <td>23</td>\n",
       "      <td>7</td>\n",
       "      <td>2018-09-23</td>\n",
       "      <td>9E</td>\n",
       "      <td>20363</td>\n",
       "      <td>9E</td>\n",
       "      <td>N906XJ</td>\n",
       "      <td>...</td>\n",
       "      <td>NaN</td>\n",
       "      <td>NaN</td>\n",
       "      <td>NaN</td>\n",
       "      <td>NaN</td>\n",
       "      <td>NaN</td>\n",
       "      <td>NaN</td>\n",
       "      <td>NaN</td>\n",
       "      <td>NaN</td>\n",
       "      <td>NaN</td>\n",
       "      <td>NaN</td>\n",
       "    </tr>\n",
       "  </tbody>\n",
       "</table>\n",
       "<p>10 rows × 110 columns</p>\n",
       "</div>"
      ],
      "text/plain": [
       "   Year  Quarter  Month  DayofMonth  DayOfWeek  FlightDate Reporting_Airline  \\\n",
       "0  2018        3      9           3          1  2018-09-03                9E   \n",
       "1  2018        3      9           9          7  2018-09-09                9E   \n",
       "2  2018        3      9          10          1  2018-09-10                9E   \n",
       "3  2018        3      9          13          4  2018-09-13                9E   \n",
       "4  2018        3      9          14          5  2018-09-14                9E   \n",
       "5  2018        3      9          16          7  2018-09-16                9E   \n",
       "6  2018        3      9          17          1  2018-09-17                9E   \n",
       "7  2018        3      9          20          4  2018-09-20                9E   \n",
       "8  2018        3      9          21          5  2018-09-21                9E   \n",
       "9  2018        3      9          23          7  2018-09-23                9E   \n",
       "\n",
       "   DOT_ID_Reporting_Airline IATA_CODE_Reporting_Airline Tail_Number  ...  \\\n",
       "0                     20363                          9E      N908XJ  ...   \n",
       "1                     20363                          9E      N315PQ  ...   \n",
       "2                     20363                          9E      N582CA  ...   \n",
       "3                     20363                          9E      N292PQ  ...   \n",
       "4                     20363                          9E      N600LR  ...   \n",
       "5                     20363                          9E      N316PQ  ...   \n",
       "6                     20363                          9E      N916XJ  ...   \n",
       "7                     20363                          9E      N371CA  ...   \n",
       "8                     20363                          9E      N601LR  ...   \n",
       "9                     20363                          9E      N906XJ  ...   \n",
       "\n",
       "   Div4TailNum  Div5Airport  Div5AirportID  Div5AirportSeqID Div5WheelsOn  \\\n",
       "0          NaN          NaN            NaN               NaN          NaN   \n",
       "1          NaN          NaN            NaN               NaN          NaN   \n",
       "2          NaN          NaN            NaN               NaN          NaN   \n",
       "3          NaN          NaN            NaN               NaN          NaN   \n",
       "4          NaN          NaN            NaN               NaN          NaN   \n",
       "5          NaN          NaN            NaN               NaN          NaN   \n",
       "6          NaN          NaN            NaN               NaN          NaN   \n",
       "7          NaN          NaN            NaN               NaN          NaN   \n",
       "8          NaN          NaN            NaN               NaN          NaN   \n",
       "9          NaN          NaN            NaN               NaN          NaN   \n",
       "\n",
       "  Div5TotalGTime Div5LongestGTime  Div5WheelsOff Div5TailNum  Unnamed: 109  \n",
       "0            NaN              NaN            NaN         NaN           NaN  \n",
       "1            NaN              NaN            NaN         NaN           NaN  \n",
       "2            NaN              NaN            NaN         NaN           NaN  \n",
       "3            NaN              NaN            NaN         NaN           NaN  \n",
       "4            NaN              NaN            NaN         NaN           NaN  \n",
       "5            NaN              NaN            NaN         NaN           NaN  \n",
       "6            NaN              NaN            NaN         NaN           NaN  \n",
       "7            NaN              NaN            NaN         NaN           NaN  \n",
       "8            NaN              NaN            NaN         NaN           NaN  \n",
       "9            NaN              NaN            NaN         NaN           NaN  \n",
       "\n",
       "[10 rows x 110 columns]"
      ]
     },
     "execution_count": 13,
     "metadata": {},
     "output_type": "execute_result"
    }
   ],
   "source": [
    "# Print the first 10 rows of the dataset (df_temp)\n",
    "\n",
    "df_temp.head(10)  # Display the first 10 rows of the DataFrame\n"
   ]
  },
  {
   "cell_type": "markdown",
   "metadata": {},
   "source": [
    "**Question**: Print all the columns in the dataset. Use `<dataframe>.columns` to view the column names."
   ]
  },
  {
   "cell_type": "code",
   "execution_count": 14,
   "metadata": {},
   "outputs": [
    {
     "name": "stdout",
     "output_type": "stream",
     "text": [
      "The column names are :\n",
      "#########\n",
      "Year\n",
      "Quarter\n",
      "Month\n",
      "DayofMonth\n",
      "DayOfWeek\n",
      "FlightDate\n",
      "Reporting_Airline\n",
      "DOT_ID_Reporting_Airline\n",
      "IATA_CODE_Reporting_Airline\n",
      "Tail_Number\n",
      "Flight_Number_Reporting_Airline\n",
      "OriginAirportID\n",
      "OriginAirportSeqID\n",
      "OriginCityMarketID\n",
      "Origin\n",
      "OriginCityName\n",
      "OriginState\n",
      "OriginStateFips\n",
      "OriginStateName\n",
      "OriginWac\n",
      "DestAirportID\n",
      "DestAirportSeqID\n",
      "DestCityMarketID\n",
      "Dest\n",
      "DestCityName\n",
      "DestState\n",
      "DestStateFips\n",
      "DestStateName\n",
      "DestWac\n",
      "CRSDepTime\n",
      "DepTime\n",
      "DepDelay\n",
      "DepDelayMinutes\n",
      "DepDel15\n",
      "DepartureDelayGroups\n",
      "DepTimeBlk\n",
      "TaxiOut\n",
      "WheelsOff\n",
      "WheelsOn\n",
      "TaxiIn\n",
      "CRSArrTime\n",
      "ArrTime\n",
      "ArrDelay\n",
      "ArrDelayMinutes\n",
      "ArrDel15\n",
      "ArrivalDelayGroups\n",
      "ArrTimeBlk\n",
      "Cancelled\n",
      "CancellationCode\n",
      "Diverted\n",
      "CRSElapsedTime\n",
      "ActualElapsedTime\n",
      "AirTime\n",
      "Flights\n",
      "Distance\n",
      "DistanceGroup\n",
      "CarrierDelay\n",
      "WeatherDelay\n",
      "NASDelay\n",
      "SecurityDelay\n",
      "LateAircraftDelay\n",
      "FirstDepTime\n",
      "TotalAddGTime\n",
      "LongestAddGTime\n",
      "DivAirportLandings\n",
      "DivReachedDest\n",
      "DivActualElapsedTime\n",
      "DivArrDelay\n",
      "DivDistance\n",
      "Div1Airport\n",
      "Div1AirportID\n",
      "Div1AirportSeqID\n",
      "Div1WheelsOn\n",
      "Div1TotalGTime\n",
      "Div1LongestGTime\n",
      "Div1WheelsOff\n",
      "Div1TailNum\n",
      "Div2Airport\n",
      "Div2AirportID\n",
      "Div2AirportSeqID\n",
      "Div2WheelsOn\n",
      "Div2TotalGTime\n",
      "Div2LongestGTime\n",
      "Div2WheelsOff\n",
      "Div2TailNum\n",
      "Div3Airport\n",
      "Div3AirportID\n",
      "Div3AirportSeqID\n",
      "Div3WheelsOn\n",
      "Div3TotalGTime\n",
      "Div3LongestGTime\n",
      "Div3WheelsOff\n",
      "Div3TailNum\n",
      "Div4Airport\n",
      "Div4AirportID\n",
      "Div4AirportSeqID\n",
      "Div4WheelsOn\n",
      "Div4TotalGTime\n",
      "Div4LongestGTime\n",
      "Div4WheelsOff\n",
      "Div4TailNum\n",
      "Div5Airport\n",
      "Div5AirportID\n",
      "Div5AirportSeqID\n",
      "Div5WheelsOn\n",
      "Div5TotalGTime\n",
      "Div5LongestGTime\n",
      "Div5WheelsOff\n",
      "Div5TailNum\n",
      "Unnamed: 109\n"
     ]
    }
   ],
   "source": [
    "print(f'The column names are :')\n",
    "print('#########')\n",
    "for col in df_temp.columns:\n",
    "    print(col)"
   ]
  },
  {
   "cell_type": "markdown",
   "metadata": {},
   "source": [
    "**Question**: Print all the columns in the dataset that contain the word 'Del'. This will help you see how many columns have delay data in them.\n",
    "\n",
    "**Hint**: You can use a Python list comprehension to include values that pass certain `if` statement criteria.\n",
    "\n",
    "For example: `[x for x in [1,2,3,4,5] if x > 2]`  \n",
    "\n",
    "**Hint**: You can use the `in` keyword ([documentation](https://www.w3schools.com/python/ref_keyword_in.asp)) to check if the value is in a list or not. \n",
    "\n",
    "For example: `5 in [1,2,3,4,5]`"
   ]
  },
  {
   "cell_type": "code",
   "execution_count": 15,
   "metadata": {},
   "outputs": [
    {
     "name": "stdout",
     "output_type": "stream",
     "text": [
      "Columns that contain \"Del\":\n",
      "#########\n",
      "DepDelay\n",
      "DepDelayMinutes\n",
      "DepDel15\n",
      "DepartureDelayGroups\n",
      "ArrDelay\n",
      "ArrDelayMinutes\n",
      "ArrDel15\n",
      "ArrivalDelayGroups\n",
      "CarrierDelay\n",
      "WeatherDelay\n",
      "NASDelay\n",
      "SecurityDelay\n",
      "LateAircraftDelay\n",
      "DivArrDelay\n"
     ]
    }
   ],
   "source": [
    "# Print all the columns in the dataset that contain the word 'Del'\n",
    "\n",
    "# List comprehension to filter columns that contain 'Del'\n",
    "delay_columns = [col for col in df_temp.columns if 'Del' in col]\n",
    "\n",
    "# Print the columns with 'Del' in their names\n",
    "print(f'Columns that contain \"Del\":')\n",
    "print('#########')\n",
    "for col in delay_columns:\n",
    "    print(col)"
   ]
  },
  {
   "cell_type": "markdown",
   "metadata": {},
   "source": [
    "Here are some more questions to help you find out more about your dataset.\n",
    "\n",
    "**Questions**   \n",
    "1. How many rows and columns does the dataset have?   \n",
    "2. How many years are included in the dataset?   \n",
    "3. What is the date range for the dataset?   \n",
    "4. Which airlines are included in the dataset?   \n",
    "5. Which origin and destination airports are covered?"
   ]
  },
  {
   "cell_type": "code",
   "execution_count": 16,
   "metadata": {},
   "outputs": [
    {
     "name": "stdout",
     "output_type": "stream",
     "text": [
      "The #rows and #columns are  585749  and  110\n",
      "The years in this dataset are:  [2018]\n",
      "The months covered in this dataset are:  [9]\n",
      "The date range for data is: 2018-09-01  to  2018-09-30\n",
      "The airlines covered in this dataset are:  ['9E', 'B6', 'WN', 'YV', 'YX', 'EV', 'AA', 'AS', 'DL', 'HA', 'UA', 'F9', 'G4', 'MQ', 'NK', 'OH', 'OO']\n",
      "The Origin airports covered are:  ['DFW', 'LGA', 'MSN', 'MSP', 'ATL', 'BDL', 'VLD', 'JFK', 'RDU', 'CHS', 'DTW', 'GRB', 'PVD', 'SHV', 'FNT', 'PIT', 'RIC', 'RST', 'RSW', 'CVG', 'LIT', 'ORD', 'JAX', 'TRI', 'BOS', 'CWA', 'DCA', 'CHO', 'AVP', 'IND', 'GRR', 'BTR', 'MEM', 'TUL', 'CLE', 'STL', 'BTV', 'OMA', 'MGM', 'TVC', 'SAV', 'GSP', 'EWR', 'OAJ', 'BNA', 'MCI', 'TLH', 'ROC', 'LEX', 'PWM', 'BUF', 'AGS', 'CLT', 'GSO', 'BWI', 'SAT', 'PHL', 'TYS', 'ACK', 'DSM', 'GNV', 'AVL', 'BGR', 'MHT', 'ILM', 'MOT', 'IAH', 'SBN', 'SYR', 'ORF', 'MKE', 'XNA', 'MSY', 'PBI', 'ABE', 'HPN', 'EVV', 'ALB', 'LNK', 'AUS', 'PHF', 'CHA', 'GTR', 'BMI', 'BQK', 'CID', 'CAK', 'ATW', 'ABY', 'CAE', 'SRQ', 'MLI', 'BHM', 'IAD', 'CSG', 'CMH', 'MCO', 'MBS', 'FLL', 'SDF', 'TPA', 'MVY', 'LAS', 'LGB', 'SFO', 'SAN', 'LAX', 'RNO', 'PDX', 'ANC', 'ABQ', 'SLC', 'DEN', 'PHX', 'OAK', 'SMF', 'SJU', 'SEA', 'HOU', 'STX', 'BUR', 'SWF', 'SJC', 'DAB', 'BQN', 'PSE', 'ORH', 'HYA', 'STT', 'ONT', 'HRL', 'ICT', 'ISP', 'LBB', 'MAF', 'MDW', 'OKC', 'PNS', 'SNA', 'TUS', 'AMA', 'BOI', 'CRP', 'DAL', 'ECP', 'ELP', 'GEG', 'LFT', 'MFE', 'MDT', 'JAN', 'COS', 'MOB', 'VPS', 'MTJ', 'DRO', 'GPT', 'BFL', 'MRY', 'SBA', 'PSP', 'FSD', 'BRO', 'RAP', 'COU', 'STS', 'PIA', 'FAT', 'SBP', 'FSM', 'HSV', 'BIS', 'DAY', 'BZN', 'MIA', 'EYW', 'MYR', 'HHH', 'GJT', 'FAR', 'SGF', 'HOB', 'CLL', 'LRD', 'AEX', 'ERI', 'MLU', 'LCH', 'ROA', 'LAW', 'MHK', 'GRK', 'SAF', 'GRI', 'JLN', 'ROW', 'FWA', 'CRW', 'LAN', 'OGG', 'HNL', 'KOA', 'EGE', 'LIH', 'MLB', 'JAC', 'FAI', 'RDM', 'ADQ', 'BET', 'BRW', 'SCC', 'KTN', 'YAK', 'CDV', 'JNU', 'SIT', 'PSG', 'WRG', 'OME', 'OTZ', 'ADK', 'FCA', 'FAY', 'PSC', 'BIL', 'MSO', 'ITO', 'PPG', 'MFR', 'EUG', 'GUM', 'SPN', 'DLH', 'TTN', 'BKG', 'SFB', 'PIE', 'PGD', 'AZA', 'SMX', 'RFD', 'SCK', 'OWB', 'HTS', 'BLV', 'IAG', 'USA', 'GFK', 'BLI', 'ELM', 'PBG', 'LCK', 'GTF', 'OGD', 'IDA', 'PVU', 'TOL', 'PSM', 'CKB', 'HGR', 'SPI', 'STC', 'ACT', 'TYR', 'ABI', 'AZO', 'CMI', 'BPT', 'GCK', 'MQT', 'ALO', 'TXK', 'SPS', 'SWO', 'DBQ', 'SUX', 'SJT', 'GGG', 'LSE', 'LBE', 'ACY', 'LYH', 'PGV', 'HVN', 'EWN', 'DHN', 'PIH', 'IMT', 'WYS', 'CPR', 'SCE', 'HLN', 'SUN', 'ISN', 'CMX', 'EAU', 'LWB', 'SHD', 'LBF', 'HYS', 'SLN', 'EAR', 'VEL', 'CNY', 'GCC', 'RKS', 'PUB', 'LBL', 'MKG', 'PAH', 'CGI', 'UIN', 'BFF', 'DVL', 'JMS', 'LAR', 'SGU', 'PRC', 'ASE', 'RDD', 'ACV', 'OTH', 'COD', 'LWS', 'ABR', 'APN', 'ESC', 'PLN', 'BJI', 'BRD', 'BTM', 'CDC', 'CIU', 'EKO', 'TWF', 'HIB', 'BGM', 'RHI', 'ITH', 'INL', 'FLG', 'YUM', 'MEI', 'PIB', 'HDN']\n",
      "The Destination airports covered are:  ['CVG', 'PWM', 'RDU', 'MSP', 'MSN', 'SHV', 'CLT', 'PIT', 'RIC', 'IAH', 'ATL', 'JFK', 'DCA', 'DTW', 'LGA', 'TYS', 'PVD', 'FNT', 'LIT', 'BUF', 'ORD', 'TRI', 'IND', 'BGR', 'AVP', 'BWI', 'LEX', 'BDL', 'GRR', 'CWA', 'TUL', 'MEM', 'AGS', 'EWR', 'MGM', 'PHL', 'SYR', 'OMA', 'STL', 'TVC', 'ORF', 'CLE', 'ABY', 'BOS', 'OAJ', 'TLH', 'BTR', 'SAT', 'JAX', 'BNA', 'CHO', 'VLD', 'ROC', 'DFW', 'GNV', 'ACK', 'PBI', 'CHS', 'GRB', 'MOT', 'MKE', 'DSM', 'ILM', 'GSO', 'MCI', 'SBN', 'BTV', 'MVY', 'XNA', 'RST', 'EVV', 'HPN', 'RSW', 'MDT', 'ROA', 'GSP', 'MCO', 'CSG', 'SAV', 'PHF', 'ALB', 'CHA', 'ABE', 'BMI', 'MSY', 'IAD', 'GTR', 'CID', 'CAK', 'ATW', 'AUS', 'BQK', 'MLI', 'CAE', 'CMH', 'AVL', 'MBS', 'FLL', 'SDF', 'TPA', 'LNK', 'SRQ', 'MHT', 'BHM', 'LAS', 'SFO', 'SAN', 'RNO', 'LGB', 'ANC', 'PDX', 'SJU', 'ABQ', 'SLC', 'DEN', 'LAX', 'PHX', 'OAK', 'SMF', 'SEA', 'STX', 'BUR', 'DAB', 'SJC', 'SWF', 'HOU', 'BQN', 'PSE', 'ORH', 'HYA', 'STT', 'ONT', 'DAL', 'ECP', 'ELP', 'HRL', 'MAF', 'MDW', 'OKC', 'PNS', 'SNA', 'AMA', 'BOI', 'GEG', 'ICT', 'LBB', 'TUS', 'ISP', 'CRP', 'MFE', 'LFT', 'VPS', 'JAN', 'COS', 'MOB', 'DRO', 'GPT', 'BFL', 'COU', 'SBP', 'MTJ', 'SBA', 'PSP', 'FSD', 'FSM', 'BRO', 'PIA', 'STS', 'FAT', 'RAP', 'MRY', 'HSV', 'BIS', 'DAY', 'BZN', 'MIA', 'EYW', 'MYR', 'HHH', 'GJT', 'FAR', 'MLU', 'LRD', 'CLL', 'LCH', 'FWA', 'GRK', 'SGF', 'HOB', 'LAW', 'MHK', 'SAF', 'JLN', 'ROW', 'GRI', 'AEX', 'CRW', 'LAN', 'ERI', 'HNL', 'KOA', 'OGG', 'EGE', 'LIH', 'JAC', 'MLB', 'RDM', 'BET', 'ADQ', 'BRW', 'SCC', 'FAI', 'JNU', 'CDV', 'YAK', 'SIT', 'KTN', 'WRG', 'PSG', 'OME', 'OTZ', 'ADK', 'FCA', 'BIL', 'PSC', 'FAY', 'MSO', 'ITO', 'PPG', 'MFR', 'DLH', 'EUG', 'GUM', 'SPN', 'TTN', 'BKG', 'AZA', 'SFB', 'LCK', 'BLI', 'SCK', 'PIE', 'RFD', 'PVU', 'PBG', 'BLV', 'PGD', 'SPI', 'USA', 'TOL', 'IDA', 'ELM', 'HTS', 'HGR', 'SMX', 'OGD', 'GFK', 'STC', 'GTF', 'IAG', 'CKB', 'OWB', 'PSM', 'ABI', 'TYR', 'ALO', 'SUX', 'AZO', 'ACT', 'CMI', 'BPT', 'TXK', 'SWO', 'SPS', 'DBQ', 'SJT', 'GGG', 'LSE', 'MQT', 'GCK', 'LBE', 'ACY', 'LYH', 'PGV', 'HVN', 'EWN', 'DHN', 'PIH', 'WYS', 'SCE', 'IMT', 'HLN', 'ASE', 'SUN', 'ISN', 'EAR', 'SGU', 'VEL', 'SHD', 'LWB', 'MKG', 'SLN', 'HYS', 'BFF', 'PUB', 'LBL', 'CMX', 'EAU', 'PAH', 'UIN', 'RKS', 'CGI', 'CNY', 'JMS', 'DVL', 'LAR', 'GCC', 'LBF', 'PRC', 'RDD', 'ACV', 'OTH', 'COD', 'LWS', 'ABR', 'APN', 'PLN', 'BJI', 'CPR', 'BRD', 'BTM', 'CDC', 'CIU', 'ESC', 'EKO', 'ITH', 'HIB', 'BGM', 'TWF', 'RHI', 'INL', 'FLG', 'YUM', 'MEI', 'PIB', 'HDN']\n"
     ]
    }
   ],
   "source": [
    "# Assuming df_temp is the DataFrame for one of the CSV files\n",
    "\n",
    "# 1. How many rows and columns does the dataset have?\n",
    "print(\"The #rows and #columns are \", df_temp.shape[0], \" and \", df_temp.shape[1])\n",
    "\n",
    "# 2. How many years are included in the dataset?\n",
    "print(\"The years in this dataset are: \", df_temp['Year'].unique())\n",
    "\n",
    "# 3. How many months are covered in the dataset?\n",
    "print(\"The months covered in this dataset are: \", df_temp['Month'].unique())\n",
    "\n",
    "# 4. What is the date range for the dataset?\n",
    "print(\"The date range for data is:\", min(df_temp['FlightDate']), \" to \", max(df_temp['FlightDate']))\n",
    "\n",
    "# 5. Which airlines are included in the dataset?\n",
    "print(\"The airlines covered in this dataset are: \", list(df_temp['Reporting_Airline'].unique()))\n",
    "\n",
    "# 6. Which origin and destination airports are covered?\n",
    "print(\"The Origin airports covered are: \", list(df_temp['Origin'].unique()))\n",
    "print(\"The Destination airports covered are: \", list(df_temp['Dest'].unique()))\n"
   ]
  },
  {
   "cell_type": "markdown",
   "metadata": {},
   "source": [
    "**Question**: What is the count of all the origin and destination airports?\n",
    "\n",
    "**Hint**: You can use the Pandas `values_count` function ([documentation](https://pandas.pydata.org/pandas-docs/stable/reference/api/pandas.Series.value_counts.html)) to find out the values for each airport using the columns `Origin` and `Dest`."
   ]
  },
  {
   "cell_type": "code",
   "execution_count": 17,
   "metadata": {},
   "outputs": [
    {
     "data": {
      "text/html": [
       "<div>\n",
       "<style scoped>\n",
       "    .dataframe tbody tr th:only-of-type {\n",
       "        vertical-align: middle;\n",
       "    }\n",
       "\n",
       "    .dataframe tbody tr th {\n",
       "        vertical-align: top;\n",
       "    }\n",
       "\n",
       "    .dataframe thead th {\n",
       "        text-align: right;\n",
       "    }\n",
       "</style>\n",
       "<table border=\"1\" class=\"dataframe\">\n",
       "  <thead>\n",
       "    <tr style=\"text-align: right;\">\n",
       "      <th></th>\n",
       "      <th>Origin</th>\n",
       "      <th>Destination</th>\n",
       "    </tr>\n",
       "  </thead>\n",
       "  <tbody>\n",
       "    <tr>\n",
       "      <th>ABE</th>\n",
       "      <td>303</td>\n",
       "      <td>303</td>\n",
       "    </tr>\n",
       "    <tr>\n",
       "      <th>ABI</th>\n",
       "      <td>169</td>\n",
       "      <td>169</td>\n",
       "    </tr>\n",
       "    <tr>\n",
       "      <th>ABQ</th>\n",
       "      <td>2077</td>\n",
       "      <td>2076</td>\n",
       "    </tr>\n",
       "    <tr>\n",
       "      <th>ABR</th>\n",
       "      <td>60</td>\n",
       "      <td>60</td>\n",
       "    </tr>\n",
       "    <tr>\n",
       "      <th>ABY</th>\n",
       "      <td>79</td>\n",
       "      <td>79</td>\n",
       "    </tr>\n",
       "    <tr>\n",
       "      <th>...</th>\n",
       "      <td>...</td>\n",
       "      <td>...</td>\n",
       "    </tr>\n",
       "    <tr>\n",
       "      <th>WRG</th>\n",
       "      <td>60</td>\n",
       "      <td>60</td>\n",
       "    </tr>\n",
       "    <tr>\n",
       "      <th>WYS</th>\n",
       "      <td>52</td>\n",
       "      <td>52</td>\n",
       "    </tr>\n",
       "    <tr>\n",
       "      <th>XNA</th>\n",
       "      <td>1004</td>\n",
       "      <td>1004</td>\n",
       "    </tr>\n",
       "    <tr>\n",
       "      <th>YAK</th>\n",
       "      <td>60</td>\n",
       "      <td>60</td>\n",
       "    </tr>\n",
       "    <tr>\n",
       "      <th>YUM</th>\n",
       "      <td>96</td>\n",
       "      <td>96</td>\n",
       "    </tr>\n",
       "  </tbody>\n",
       "</table>\n",
       "<p>346 rows × 2 columns</p>\n",
       "</div>"
      ],
      "text/plain": [
       "     Origin  Destination\n",
       "ABE     303          303\n",
       "ABI     169          169\n",
       "ABQ    2077         2076\n",
       "ABR      60           60\n",
       "ABY      79           79\n",
       "..      ...          ...\n",
       "WRG      60           60\n",
       "WYS      52           52\n",
       "XNA    1004         1004\n",
       "YAK      60           60\n",
       "YUM      96           96\n",
       "\n",
       "[346 rows x 2 columns]"
      ]
     },
     "execution_count": 17,
     "metadata": {},
     "output_type": "execute_result"
    }
   ],
   "source": [
    "# Complete the code to create a DataFrame for both origin and destination counts\n",
    "counts = pd.DataFrame({\n",
    "    'Origin': df_temp['Origin'].value_counts(), \n",
    "    'Destination': df_temp['Dest'].value_counts()\n",
    "})\n",
    "\n",
    "# Display the counts DataFrame\n",
    "counts\n"
   ]
  },
  {
   "cell_type": "markdown",
   "metadata": {},
   "source": [
    "**Question**: Print the top 15 origin and destination airports based on number of flights in the dataset.\n",
    "\n",
    "**Hint**: You can use the Pandas `sort_values` function ([documentation](https://pandas.pydata.org/pandas-docs/stable/reference/api/pandas.DataFrame.sort_values.html))."
   ]
  },
  {
   "cell_type": "code",
   "execution_count": 18,
   "metadata": {},
   "outputs": [
    {
     "data": {
      "text/html": [
       "<div>\n",
       "<style scoped>\n",
       "    .dataframe tbody tr th:only-of-type {\n",
       "        vertical-align: middle;\n",
       "    }\n",
       "\n",
       "    .dataframe tbody tr th {\n",
       "        vertical-align: top;\n",
       "    }\n",
       "\n",
       "    .dataframe thead th {\n",
       "        text-align: right;\n",
       "    }\n",
       "</style>\n",
       "<table border=\"1\" class=\"dataframe\">\n",
       "  <thead>\n",
       "    <tr style=\"text-align: right;\">\n",
       "      <th></th>\n",
       "      <th>Origin</th>\n",
       "      <th>Destination</th>\n",
       "    </tr>\n",
       "  </thead>\n",
       "  <tbody>\n",
       "    <tr>\n",
       "      <th>ATL</th>\n",
       "      <td>31525</td>\n",
       "      <td>31521</td>\n",
       "    </tr>\n",
       "    <tr>\n",
       "      <th>ORD</th>\n",
       "      <td>28257</td>\n",
       "      <td>28250</td>\n",
       "    </tr>\n",
       "    <tr>\n",
       "      <th>DFW</th>\n",
       "      <td>22802</td>\n",
       "      <td>22795</td>\n",
       "    </tr>\n",
       "    <tr>\n",
       "      <th>DEN</th>\n",
       "      <td>19807</td>\n",
       "      <td>19807</td>\n",
       "    </tr>\n",
       "    <tr>\n",
       "      <th>CLT</th>\n",
       "      <td>19655</td>\n",
       "      <td>19654</td>\n",
       "    </tr>\n",
       "    <tr>\n",
       "      <th>LAX</th>\n",
       "      <td>17875</td>\n",
       "      <td>17873</td>\n",
       "    </tr>\n",
       "    <tr>\n",
       "      <th>SFO</th>\n",
       "      <td>14332</td>\n",
       "      <td>14348</td>\n",
       "    </tr>\n",
       "    <tr>\n",
       "      <th>IAH</th>\n",
       "      <td>14210</td>\n",
       "      <td>14203</td>\n",
       "    </tr>\n",
       "    <tr>\n",
       "      <th>LGA</th>\n",
       "      <td>13850</td>\n",
       "      <td>13850</td>\n",
       "    </tr>\n",
       "    <tr>\n",
       "      <th>MSP</th>\n",
       "      <td>13349</td>\n",
       "      <td>13347</td>\n",
       "    </tr>\n",
       "    <tr>\n",
       "      <th>LAS</th>\n",
       "      <td>13318</td>\n",
       "      <td>13322</td>\n",
       "    </tr>\n",
       "    <tr>\n",
       "      <th>PHX</th>\n",
       "      <td>13126</td>\n",
       "      <td>13128</td>\n",
       "    </tr>\n",
       "    <tr>\n",
       "      <th>DTW</th>\n",
       "      <td>12725</td>\n",
       "      <td>12724</td>\n",
       "    </tr>\n",
       "    <tr>\n",
       "      <th>BOS</th>\n",
       "      <td>12223</td>\n",
       "      <td>12227</td>\n",
       "    </tr>\n",
       "    <tr>\n",
       "      <th>SEA</th>\n",
       "      <td>11872</td>\n",
       "      <td>11877</td>\n",
       "    </tr>\n",
       "  </tbody>\n",
       "</table>\n",
       "</div>"
      ],
      "text/plain": [
       "     Origin  Destination\n",
       "ATL   31525        31521\n",
       "ORD   28257        28250\n",
       "DFW   22802        22795\n",
       "DEN   19807        19807\n",
       "CLT   19655        19654\n",
       "LAX   17875        17873\n",
       "SFO   14332        14348\n",
       "IAH   14210        14203\n",
       "LGA   13850        13850\n",
       "MSP   13349        13347\n",
       "LAS   13318        13322\n",
       "PHX   13126        13128\n",
       "DTW   12725        12724\n",
       "BOS   12223        12227\n",
       "SEA   11872        11877"
      ]
     },
     "execution_count": 18,
     "metadata": {},
     "output_type": "execute_result"
    }
   ],
   "source": [
    "counts.sort_values(by=['Origin', 'Destination'],ascending=False).head(15 )# Display the top 15 airports"
   ]
  },
  {
   "cell_type": "markdown",
   "metadata": {},
   "source": [
    "**Question**: Given all the information about a flight trip, can you predict if it would be delayed?"
   ]
  },
  {
   "cell_type": "code",
   "execution_count": 19,
   "metadata": {},
   "outputs": [
    {
     "name": "stdout",
     "output_type": "stream",
     "text": [
      "Training the model...\n",
      "Accuracy: 0.851\n",
      "Classification Report:\n",
      "               precision    recall  f1-score   support\n",
      "\n",
      "           0       0.86      0.99      0.92       851\n",
      "           1       0.50      0.05      0.09       149\n",
      "\n",
      "    accuracy                           0.85      1000\n",
      "   macro avg       0.68      0.52      0.50      1000\n",
      "weighted avg       0.80      0.85      0.79      1000\n",
      "\n"
     ]
    }
   ],
   "source": [
    "import pandas as pd\n",
    "from sklearn.model_selection import train_test_split\n",
    "from sklearn.linear_model import LogisticRegression\n",
    "from sklearn.metrics import accuracy_score, classification_report\n",
    "\n",
    "# Assuming df is your dataset\n",
    "# Create a target variable 'Delayed' (1 = delayed, 0 = not delayed)\n",
    "df_temp['Delayed'] = df_temp['ArrDelay'].apply(lambda x: 1 if x > 15 else 0)\n",
    "\n",
    "# Select relevant features for prediction\n",
    "features = ['Year', 'Month', 'DayofMonth', 'DayOfWeek', 'DepTime', 'Origin', 'Dest', 'Distance']  # Example features\n",
    "X = df_temp[features]  # Feature set\n",
    "y = df_temp['Delayed']  # Target variable\n",
    "\n",
    "# Handle missing values (if any)\n",
    "X = X.fillna(0)\n",
    "\n",
    "# One-Hot Encoding for categorical variables (Origin and Dest)\n",
    "X_encoded = pd.get_dummies(X, columns=['Origin', 'Dest'], drop_first=True)\n",
    "\n",
    "# Reduce the dataset size to speed up computation (using 5000 rows for quick testing)\n",
    "X_encoded, y = X_encoded.head(5000), y.head(5000)\n",
    "\n",
    "# Split the data into training and testing sets (80% train, 20% test)\n",
    "X_train, X_test, y_train, y_test = train_test_split(X_encoded, y, test_size=0.2, random_state=42)\n",
    "\n",
    "# Initialize a simpler LogisticRegression model for faster computation\n",
    "model = LogisticRegression(max_iter=100)\n",
    "\n",
    "# Train the model\n",
    "print(\"Training the model...\")\n",
    "model.fit(X_train, y_train)\n",
    "\n",
    "# Make predictions on the test set\n",
    "y_pred = model.predict(X_test)\n",
    "\n",
    "# Evaluate the model\n",
    "print(\"Accuracy:\", accuracy_score(y_test, y_pred))\n",
    "print(\"Classification Report:\\n\", classification_report(y_test, y_pred))\n"
   ]
  },
  {
   "cell_type": "markdown",
   "metadata": {},
   "source": [
    "Now, assume you are traveling from San Francisco to Los Angeles on a work trip. You want to have an ideas if your flight will be delayed, given a set of features, so that you can manage your reservations in Los Angeles better. How many features from this dataset would you know before your flight?\n",
    "\n",
    "Columns such as `DepDelay`, `ArrDelay`, `CarrierDelay`, `WeatherDelay`, `NASDelay`, `SecurityDelay`, `LateAircraftDelay`, and `DivArrDelay` contain information about a delay. But this delay could have occured at the origin or destination. If there were a sudden weather delay 10 minutes before landing, this data would not be helpful in managing your Los Angeles reservations.\n",
    "\n",
    "So to simplify the problem statement, consider the following columns to predict an arrival delay:<br>\n",
    "\n",
    "`Year`, `Quarter`, `Month`, `DayofMonth`, `DayOfWeek`, `FlightDate`, `Reporting_Airline`, `Origin`, `OriginState`, `Dest`, `DestState`, `CRSDepTime`, `DepDelayMinutes`, `DepartureDelayGroups`, `Cancelled`, `Diverted`, `Distance`, `DistanceGroup`, `ArrDelay`, `ArrDelayMinutes`, `ArrDel15`, `AirTime`\n",
    "\n",
    "You will also filter the source and destination airports to be:\n",
    "- Top airports: ATL, ORD, DFW, DEN, CLT, LAX, IAH, PHX, SFO\n",
    "- Top 5 airlines: UA, OO, WN, AA, DL\n",
    "\n",
    "This should help in reducing the size of data across the CSV files to be combined."
   ]
  },
  {
   "cell_type": "markdown",
   "metadata": {},
   "source": [
    "#### Combine all CSV files\n",
    "\n",
    "**Hint**:  \n",
    "First, create an empy dataframe that you will use to copy your individual dataframes from each file. Then, for each file in the `csv_files` list:\n",
    "\n",
    "1. Read the CSV file into a dataframe  \n",
    "2. Filter the columns based on the `filter_cols` variable\n",
    "\n",
    "```\n",
    "        columns = ['col1', 'col2']\n",
    "        df_filter = df[columns]\n",
    "```\n",
    "\n",
    "3. Keep only the subset_vals in each of the subset_cols. Use the `isin` Pandas function ([documentation](https://pandas.pydata.org/pandas-docs/stable/reference/api/pandas.DataFrame.isin.html)) to check if the `val` is in the dataframe column and then choose the rows that include it.\n",
    "\n",
    "```\n",
    "        df_eg[df_eg['col1'].isin('5')]\n",
    "```\n",
    "\n",
    "4. Concatenate the dataframe with the empty dataframe "
   ]
  },
  {
   "cell_type": "code",
   "execution_count": 20,
   "metadata": {},
   "outputs": [],
   "source": [
    "import os\n",
    "import pandas as pd\n",
    "\n",
    "def combine_csv(csv_files, filter_cols, subset_cols, subset_vals, file_name):\n",
    "    \"\"\"\n",
    "    Combine csv files into one CSV file while filtering columns and subsetting rows.\n",
    "    \n",
    "    Args:\n",
    "    csv_files: list of csv file paths\n",
    "    filter_cols: list of columns to filter\n",
    "    subset_cols: list of columns to subset rows\n",
    "    subset_vals: list of values to subset rows (nested list with corresponding subset_cols)\n",
    "    file_name: output combined file path\n",
    "    \"\"\"\n",
    "    # Flag to write header only for the first file\n",
    "    first_file = True\n",
    "\n",
    "    # Loop through each file in csv_files\n",
    "    for csv_file in csv_files:\n",
    "        print(f\"Processing {csv_file}\")\n",
    "        \n",
    "        # Read the CSV file\n",
    "        temp_df = pd.read_csv(csv_file)\n",
    "        \n",
    "        # Filter columns (if provided)\n",
    "        if filter_cols:\n",
    "            temp_df = temp_df[filter_cols]\n",
    "        \n",
    "        # Subset values based on subset_cols and subset_vals\n",
    "        for i in range(len(subset_cols)):\n",
    "            temp_df = temp_df[temp_df[subset_cols[i]].isin(subset_vals[i])]\n",
    "        \n",
    "        # Append to the combined CSV file\n",
    "        temp_df.to_csv(file_name, mode='a', index=False, header=first_file)\n",
    "        first_file = False  # Ensure header is written only once for the first file\n",
    "    \n",
    "    print(f\"Data combined into {file_name}\")\n"
   ]
  },
  {
   "cell_type": "code",
   "execution_count": 21,
   "metadata": {},
   "outputs": [],
   "source": [
    "#cols is the list of columns to predict Arrival Delay \n",
    "cols = ['Year','Quarter','Month','DayofMonth','DayOfWeek','FlightDate',\n",
    "        'Reporting_Airline','Origin','OriginState','Dest','DestState',\n",
    "        'CRSDepTime','Cancelled','Diverted','Distance','DistanceGroup',\n",
    "        'ArrDelay','ArrDelayMinutes','ArrDel15','AirTime']\n",
    "\n",
    "subset_cols = ['Origin', 'Dest', 'Reporting_Airline']\n",
    "\n",
    "# subset_vals is a list collection of the top origin and destination airports and top 5 airlines\n",
    "subset_vals = [['ATL', 'ORD', 'DFW', 'DEN', 'CLT', 'LAX', 'IAH', 'PHX', 'SFO'], \n",
    "               ['ATL', 'ORD', 'DFW', 'DEN', 'CLT', 'LAX', 'IAH', 'PHX', 'SFO'], \n",
    "               ['UA', 'OO', 'WN', 'AA', 'DL']]"
   ]
  },
  {
   "cell_type": "markdown",
   "metadata": {},
   "source": [
    "Use the function above to merge all the different files into a single file that you can read easily. \n",
    "\n",
    "**Note**: This will take 5-7 minutes to complete."
   ]
  },
  {
   "cell_type": "code",
   "execution_count": 22,
   "metadata": {},
   "outputs": [
    {
     "name": "stdout",
     "output_type": "stream",
     "text": [
      "CSV files merged in 0.05 minutes\n"
     ]
    }
   ],
   "source": [
    "# Start the timer\n",
    "start = time.time()\n",
    "\n",
    "# Define the base path where the CSV files are located\n",
    "base_data_path = r'C:/Users/bbhat/OneDrive/Desktop/Data Science Technology and Systems PG/FINAL ASSIGNMENT'\n",
    "\n",
    "# Define the path where the final combined CSV will be saved\n",
    "combined_csv_filename = f\"{base_data_path}/Final_Dataset_Combined/combined_files.csv\"\n",
    "\n",
    "# Define the path where individual CSV files are stored\n",
    "csv_base_path = f\"{base_data_path}/Final_Dataset/\"\n",
    "\n",
    "# List of columns to predict Arrival Delay\n",
    "cols = ['Year', 'Quarter', 'Month', 'DayofMonth', 'DayOfWeek', 'FlightDate',\n",
    "        'Reporting_Airline', 'Origin', 'OriginState', 'Dest', 'DestState',\n",
    "        'CRSDepTime', 'Cancelled', 'Diverted', 'Distance', 'DistanceGroup',\n",
    "        'ArrDelay', 'ArrDelayMinutes', 'ArrDel15', 'AirTime']\n",
    "\n",
    "# Define subset columns\n",
    "subset_cols = ['Origin', 'Dest', 'Reporting_Airline']\n",
    "\n",
    "# Define subset values (top airports and top 5 airlines)\n",
    "subset_vals = [['ATL', 'ORD', 'DFW', 'DEN', 'CLT', 'LAX', 'IAH', 'PHX', 'SFO'], \n",
    "               ['ATL', 'ORD', 'DFW', 'DEN', 'CLT', 'LAX', 'IAH', 'PHX', 'SFO'], \n",
    "               ['UA', 'OO', 'WN', 'AA', 'DL']]\n",
    "\n",
    "# Check if the combined CSV file already exists\n",
    "if not os.path.exists(combined_csv_filename):\n",
    "    # Create the directory to store the combined CSV file if it doesn't exist\n",
    "    Path(f\"{base_data_path}/Final_Dataset_Combined\").mkdir(parents=True, exist_ok=True)\n",
    "    \n",
    "    # List all files in the directory that end with .csv\n",
    "    csv_files = [os.path.join(csv_base_path, f) for f in os.listdir(csv_base_path) if f.endswith('.csv')]\n",
    "\n",
    "    # Call the combine_csv function to combine the CSV files\n",
    "    combine_csv(csv_files, cols, subset_cols, subset_vals, combined_csv_filename)\n",
    "\n",
    "else:\n",
    "    # Load the existing combined CSV file if it already exists\n",
    "    combined_csv = pd.read_csv(combined_csv_filename)\n",
    "\n",
    "# Output how long it took to merge the CSV files\n",
    "print(f\"CSV files merged in {round((time.time() - start) / 60, 2)} minutes\")"
   ]
  },
  {
   "cell_type": "markdown",
   "metadata": {},
   "source": [
    "#### Load dataset\n",
    "\n",
    "Load the combined dataset."
   ]
  },
  {
   "cell_type": "code",
   "execution_count": 23,
   "metadata": {},
   "outputs": [
    {
     "name": "stdout",
     "output_type": "stream",
     "text": [
      "   Year  Quarter  Month  DayofMonth  DayOfWeek  FlightDate Reporting_Airline  \\\n",
      "0  2014        1      1          26          7  2014-01-26                DL   \n",
      "1  2014        1      1          26          7  2014-01-26                DL   \n",
      "2  2014        1      1          26          7  2014-01-26                DL   \n",
      "3  2014        1      1          26          7  2014-01-26                DL   \n",
      "4  2014        1      1          26          7  2014-01-26                DL   \n",
      "\n",
      "  Origin OriginState Dest DestState  CRSDepTime  Cancelled  Diverted  \\\n",
      "0    ATL          GA  IAH        TX        2145        0.0       0.0   \n",
      "1    DFW          TX  ATL        GA         945        0.0       0.0   \n",
      "2    ATL          GA  DEN        CO        1855        0.0       0.0   \n",
      "3    ATL          GA  PHX        AZ        1634        0.0       0.0   \n",
      "4    PHX          AZ  ATL        GA         700        0.0       0.0   \n",
      "\n",
      "   Distance  DistanceGroup  ArrDelay  ArrDelayMinutes  ArrDel15  AirTime  \n",
      "0     689.0              3     -20.0              0.0       0.0     99.0  \n",
      "1     731.0              3      -3.0              0.0       0.0     98.0  \n",
      "2    1199.0              5      -7.0              0.0       0.0    174.0  \n",
      "3    1587.0              7      -4.0              0.0       0.0    233.0  \n",
      "4    1587.0              7     -13.0              0.0       0.0    179.0  \n"
     ]
    }
   ],
   "source": [
    "data = pd.read_csv(r'C:\\Users\\bbhat\\OneDrive\\Desktop\\Data Science Technology and Systems PG\\FINAL ASSIGNMENT\\Final_Dataset_Combined\\combined_files.csv')\n",
    "# Display the first few rows of the dataset to verify\n",
    "print(data.head())\n"
   ]
  },
  {
   "cell_type": "markdown",
   "metadata": {},
   "source": [
    "Print the first 5 records."
   ]
  },
  {
   "cell_type": "code",
   "execution_count": 24,
   "metadata": {},
   "outputs": [
    {
     "data": {
      "text/html": [
       "<div>\n",
       "<style scoped>\n",
       "    .dataframe tbody tr th:only-of-type {\n",
       "        vertical-align: middle;\n",
       "    }\n",
       "\n",
       "    .dataframe tbody tr th {\n",
       "        vertical-align: top;\n",
       "    }\n",
       "\n",
       "    .dataframe thead th {\n",
       "        text-align: right;\n",
       "    }\n",
       "</style>\n",
       "<table border=\"1\" class=\"dataframe\">\n",
       "  <thead>\n",
       "    <tr style=\"text-align: right;\">\n",
       "      <th></th>\n",
       "      <th>Year</th>\n",
       "      <th>Quarter</th>\n",
       "      <th>Month</th>\n",
       "      <th>DayofMonth</th>\n",
       "      <th>DayOfWeek</th>\n",
       "      <th>FlightDate</th>\n",
       "      <th>Reporting_Airline</th>\n",
       "      <th>Origin</th>\n",
       "      <th>OriginState</th>\n",
       "      <th>Dest</th>\n",
       "      <th>DestState</th>\n",
       "      <th>CRSDepTime</th>\n",
       "      <th>Cancelled</th>\n",
       "      <th>Diverted</th>\n",
       "      <th>Distance</th>\n",
       "      <th>DistanceGroup</th>\n",
       "      <th>ArrDelay</th>\n",
       "      <th>ArrDelayMinutes</th>\n",
       "      <th>ArrDel15</th>\n",
       "      <th>AirTime</th>\n",
       "    </tr>\n",
       "  </thead>\n",
       "  <tbody>\n",
       "    <tr>\n",
       "      <th>0</th>\n",
       "      <td>2014</td>\n",
       "      <td>1</td>\n",
       "      <td>1</td>\n",
       "      <td>26</td>\n",
       "      <td>7</td>\n",
       "      <td>2014-01-26</td>\n",
       "      <td>DL</td>\n",
       "      <td>ATL</td>\n",
       "      <td>GA</td>\n",
       "      <td>IAH</td>\n",
       "      <td>TX</td>\n",
       "      <td>2145</td>\n",
       "      <td>0.0</td>\n",
       "      <td>0.0</td>\n",
       "      <td>689.0</td>\n",
       "      <td>3</td>\n",
       "      <td>-20.0</td>\n",
       "      <td>0.0</td>\n",
       "      <td>0.0</td>\n",
       "      <td>99.0</td>\n",
       "    </tr>\n",
       "    <tr>\n",
       "      <th>1</th>\n",
       "      <td>2014</td>\n",
       "      <td>1</td>\n",
       "      <td>1</td>\n",
       "      <td>26</td>\n",
       "      <td>7</td>\n",
       "      <td>2014-01-26</td>\n",
       "      <td>DL</td>\n",
       "      <td>DFW</td>\n",
       "      <td>TX</td>\n",
       "      <td>ATL</td>\n",
       "      <td>GA</td>\n",
       "      <td>945</td>\n",
       "      <td>0.0</td>\n",
       "      <td>0.0</td>\n",
       "      <td>731.0</td>\n",
       "      <td>3</td>\n",
       "      <td>-3.0</td>\n",
       "      <td>0.0</td>\n",
       "      <td>0.0</td>\n",
       "      <td>98.0</td>\n",
       "    </tr>\n",
       "    <tr>\n",
       "      <th>2</th>\n",
       "      <td>2014</td>\n",
       "      <td>1</td>\n",
       "      <td>1</td>\n",
       "      <td>26</td>\n",
       "      <td>7</td>\n",
       "      <td>2014-01-26</td>\n",
       "      <td>DL</td>\n",
       "      <td>ATL</td>\n",
       "      <td>GA</td>\n",
       "      <td>DEN</td>\n",
       "      <td>CO</td>\n",
       "      <td>1855</td>\n",
       "      <td>0.0</td>\n",
       "      <td>0.0</td>\n",
       "      <td>1199.0</td>\n",
       "      <td>5</td>\n",
       "      <td>-7.0</td>\n",
       "      <td>0.0</td>\n",
       "      <td>0.0</td>\n",
       "      <td>174.0</td>\n",
       "    </tr>\n",
       "    <tr>\n",
       "      <th>3</th>\n",
       "      <td>2014</td>\n",
       "      <td>1</td>\n",
       "      <td>1</td>\n",
       "      <td>26</td>\n",
       "      <td>7</td>\n",
       "      <td>2014-01-26</td>\n",
       "      <td>DL</td>\n",
       "      <td>ATL</td>\n",
       "      <td>GA</td>\n",
       "      <td>PHX</td>\n",
       "      <td>AZ</td>\n",
       "      <td>1634</td>\n",
       "      <td>0.0</td>\n",
       "      <td>0.0</td>\n",
       "      <td>1587.0</td>\n",
       "      <td>7</td>\n",
       "      <td>-4.0</td>\n",
       "      <td>0.0</td>\n",
       "      <td>0.0</td>\n",
       "      <td>233.0</td>\n",
       "    </tr>\n",
       "    <tr>\n",
       "      <th>4</th>\n",
       "      <td>2014</td>\n",
       "      <td>1</td>\n",
       "      <td>1</td>\n",
       "      <td>26</td>\n",
       "      <td>7</td>\n",
       "      <td>2014-01-26</td>\n",
       "      <td>DL</td>\n",
       "      <td>PHX</td>\n",
       "      <td>AZ</td>\n",
       "      <td>ATL</td>\n",
       "      <td>GA</td>\n",
       "      <td>700</td>\n",
       "      <td>0.0</td>\n",
       "      <td>0.0</td>\n",
       "      <td>1587.0</td>\n",
       "      <td>7</td>\n",
       "      <td>-13.0</td>\n",
       "      <td>0.0</td>\n",
       "      <td>0.0</td>\n",
       "      <td>179.0</td>\n",
       "    </tr>\n",
       "  </tbody>\n",
       "</table>\n",
       "</div>"
      ],
      "text/plain": [
       "   Year  Quarter  Month  DayofMonth  DayOfWeek  FlightDate Reporting_Airline  \\\n",
       "0  2014        1      1          26          7  2014-01-26                DL   \n",
       "1  2014        1      1          26          7  2014-01-26                DL   \n",
       "2  2014        1      1          26          7  2014-01-26                DL   \n",
       "3  2014        1      1          26          7  2014-01-26                DL   \n",
       "4  2014        1      1          26          7  2014-01-26                DL   \n",
       "\n",
       "  Origin OriginState Dest DestState  CRSDepTime  Cancelled  Diverted  \\\n",
       "0    ATL          GA  IAH        TX        2145        0.0       0.0   \n",
       "1    DFW          TX  ATL        GA         945        0.0       0.0   \n",
       "2    ATL          GA  DEN        CO        1855        0.0       0.0   \n",
       "3    ATL          GA  PHX        AZ        1634        0.0       0.0   \n",
       "4    PHX          AZ  ATL        GA         700        0.0       0.0   \n",
       "\n",
       "   Distance  DistanceGroup  ArrDelay  ArrDelayMinutes  ArrDel15  AirTime  \n",
       "0     689.0              3     -20.0              0.0       0.0     99.0  \n",
       "1     731.0              3      -3.0              0.0       0.0     98.0  \n",
       "2    1199.0              5      -7.0              0.0       0.0    174.0  \n",
       "3    1587.0              7      -4.0              0.0       0.0    233.0  \n",
       "4    1587.0              7     -13.0              0.0       0.0    179.0  "
      ]
     },
     "execution_count": 24,
     "metadata": {},
     "output_type": "execute_result"
    }
   ],
   "source": [
    "# Display the first 5 records\n",
    "first_five_records = data.head()\n",
    "first_five_records"
   ]
  },
  {
   "cell_type": "markdown",
   "metadata": {},
   "source": [
    "Here are some more questions to help you find out more about your dataset.\n",
    "\n",
    "**Questions**   \n",
    "1. How many rows and columns does the dataset have?   \n",
    "2. How many years are included in the dataset?   \n",
    "3. What is the date range for the dataset?   \n",
    "4. Which airlines are included in the dataset?   \n",
    "5. Which origin and destination airports are covered?"
   ]
  },
  {
   "cell_type": "code",
   "execution_count": 25,
   "metadata": {},
   "outputs": [
    {
     "name": "stdout",
     "output_type": "stream",
     "text": [
      "The rows and columns are  1658130  and  20\n",
      "The years in this dataset are:  [2014, 2015, 2016, 2017, 2018]\n",
      "The months covered in this dataset are:  [1, 2, 3, 4, 5, 6, 7, 8, 9, 10, 11, 12]\n",
      "The date range for data is : 2014-01-01  to  2018-12-31\n",
      "The airlines covered in this dataset are:  ['DL', 'OO', 'WN', 'UA', 'AA']\n",
      "The Origin airports covered are:  ['ATL', 'DFW', 'PHX', 'DEN', 'IAH', 'CLT', 'SFO', 'LAX', 'ORD']\n",
      "The Destination airports covered are:  ['IAH', 'ATL', 'DEN', 'PHX', 'CLT', 'LAX', 'DFW', 'SFO', 'ORD']\n"
     ]
    }
   ],
   "source": [
    "# 1. How many rows and columns?\n",
    "print(\"The rows and columns are \", data.shape[0], \" and \", data.shape[1])\n",
    "\n",
    "# 2. The years included in the dataset\n",
    "print(\"The years in this dataset are: \", list(data['Year'].unique()))\n",
    "\n",
    "# 3. The months covered in the dataset\n",
    "print(\"The months covered in this dataset are: \", sorted(list(data['Month'].unique())))\n",
    "\n",
    "# 4. The date range for the dataset\n",
    "print(\"The date range for data is :\", min(data['FlightDate']), \" to \", max(data['FlightDate']))\n",
    "\n",
    "# 5. The airlines included in the dataset\n",
    "print(\"The airlines covered in this dataset are: \", list(data['Reporting_Airline'].unique()))\n",
    "\n",
    "# 6. The origin airports covered in the dataset\n",
    "print(\"The Origin airports covered are: \", list(data['Origin'].unique()))\n",
    "\n",
    "# 7. The destination airports covered in the dataset\n",
    "print(\"The Destination airports covered are: \", list(data['Dest'].unique()))"
   ]
  },
  {
   "cell_type": "markdown",
   "metadata": {},
   "source": [
    "Let's define our **target column : is_delay** (1 - if arrival time delayed more than 15 minutes, 0 - otherwise). Use the `rename` method to rename the column from `ArrDel15` to `is_delay`.\n",
    "\n",
    "**Hint**: You can use the Pandas `rename` function ([documentation](https://pandas.pydata.org/pandas-docs/stable/reference/api/pandas.DataFrame.rename.html)).\n",
    "\n",
    "For example:\n",
    "```\n",
    "df.rename(columns={'col1':'column1'}, inplace=True)\n",
    "```"
   ]
  },
  {
   "cell_type": "code",
   "execution_count": 26,
   "metadata": {},
   "outputs": [
    {
     "name": "stdout",
     "output_type": "stream",
     "text": [
      "Index(['Year', 'Quarter', 'Month', 'DayofMonth', 'DayOfWeek', 'FlightDate',\n",
      "       'Reporting_Airline', 'Origin', 'OriginState', 'Dest', 'DestState',\n",
      "       'CRSDepTime', 'Cancelled', 'Diverted', 'Distance', 'DistanceGroup',\n",
      "       'ArrDelay', 'ArrDelayMinutes', 'is_delay', 'AirTime'],\n",
      "      dtype='object')\n"
     ]
    }
   ],
   "source": [
    "# Renaming the column 'ArrDel15' to 'is_delay'\n",
    "data.rename(columns={'ArrDel15': 'is_delay'}, inplace=True)\n",
    "\n",
    "# Verify the change by checking the column names\n",
    "print(data.columns)\n"
   ]
  },
  {
   "cell_type": "markdown",
   "metadata": {},
   "source": [
    "Look for nulls across columns. You can use the `isnull()` function ([documentation](https://pandas.pydata.org/pandas-docs/version/0.17.0/generated/pandas.isnull.html)).\n",
    "\n",
    "**Hint**: `isnull()` detects whether the particular value is null or not and gives you a boolean (True or False) in its place. Use the `sum(axis=0)` function to sum up the number of columns."
   ]
  },
  {
   "cell_type": "code",
   "execution_count": 27,
   "metadata": {},
   "outputs": [
    {
     "name": "stdout",
     "output_type": "stream",
     "text": [
      "Year                     0\n",
      "Quarter                  0\n",
      "Month                    0\n",
      "DayofMonth               0\n",
      "DayOfWeek                0\n",
      "FlightDate               0\n",
      "Reporting_Airline        0\n",
      "Origin                   0\n",
      "OriginState              0\n",
      "Dest                     0\n",
      "DestState                0\n",
      "CRSDepTime               0\n",
      "Cancelled                0\n",
      "Diverted                 0\n",
      "Distance                 0\n",
      "DistanceGroup            0\n",
      "ArrDelay             22540\n",
      "ArrDelayMinutes      22540\n",
      "is_delay             22540\n",
      "AirTime              22540\n",
      "dtype: int64\n"
     ]
    }
   ],
   "source": [
    "# Check for null values across columns\n",
    "null_counts = data.isnull().sum(axis=0)\n",
    "\n",
    "# Print the count of null values for each column\n",
    "print(null_counts)\n"
   ]
  },
  {
   "cell_type": "markdown",
   "metadata": {},
   "source": [
    "The arrival delay details and airtime are missing for 22540 out of 1658130 rows, which is 1.3%. You can either remove or impute these rows. The documentation does not mention anything about missing rows.\n",
    "\n",
    "**Hint**: Use the `~` operator to choose the values that aren't null from the `isnull()` output.\n",
    "\n",
    "For example:\n",
    "```\n",
    "null_eg = df_eg[~df_eg['column_name'].isnull()]\n",
    "```"
   ]
  },
  {
   "cell_type": "code",
   "execution_count": 28,
   "metadata": {},
   "outputs": [
    {
     "name": "stdout",
     "output_type": "stream",
     "text": [
      "Original dataset rows: 1658130\n",
      "Cleaned dataset rows: 1635590\n"
     ]
    }
   ],
   "source": [
    "# Remove rows where 'ArrDelay' or 'AirTime' is null\n",
    "data_cleaned = data[~data['ArrDelay'].isnull() & ~data['AirTime'].isnull()]\n",
    "\n",
    "# Verify that the rows with missing 'ArrDelay' or 'AirTime' are removed\n",
    "print(f\"Original dataset rows: {len(data)}\")\n",
    "print(f\"Cleaned dataset rows: {len(data_cleaned)}\")\n"
   ]
  },
  {
   "cell_type": "markdown",
   "metadata": {},
   "source": [
    "Get the hour of the day in 24-hour time format from CRSDepTime."
   ]
  },
  {
   "cell_type": "code",
   "execution_count": 29,
   "metadata": {},
   "outputs": [
    {
     "name": "stdout",
     "output_type": "stream",
     "text": [
      "   CRSDepTime  DepHourofDay\n",
      "0        2145            21\n",
      "1         945             9\n",
      "2        1855            18\n",
      "3        1634            16\n",
      "4         700             7\n"
     ]
    }
   ],
   "source": [
    "# Extract the hour from CRSDepTime (assuming it's in HHMM format)\n",
    "data['DepHourofDay'] = data['CRSDepTime'] // 100\n",
    "\n",
    "# Display the first few rows to verify the DepHourofDay column\n",
    "print(data[['CRSDepTime', 'DepHourofDay']].head())\n"
   ]
  },
  {
   "cell_type": "markdown",
   "metadata": {},
   "source": [
    "## **The ML problem statement**\n",
    "- Given a set of features, can you predict if a flight is going to be delayed more than 15 minutes?\n",
    "- Because the target variable takes only 0/1 value, you could use a classification algorithm. "
   ]
  },
  {
   "cell_type": "markdown",
   "metadata": {},
   "source": [
    "### Data exploration\n",
    "\n",
    "#### Check class delay vs. no delay\n",
    "\n",
    "**Hint**: Use a `groupby` plot ([documentation](https://pandas.pydata.org/pandas-docs/stable/reference/api/pandas.DataFrame.groupby.html)) with a `bar` plot ([documentation](https://matplotlib.org/tutorials/introductory/pyplot.html)) to plot the frequency vs. distribution of the class."
   ]
  },
  {
   "cell_type": "code",
   "execution_count": 30,
   "metadata": {},
   "outputs": [
    {
     "data": {
      "image/png": "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",
      "text/plain": [
       "<Figure size 640x480 with 1 Axes>"
      ]
     },
     "metadata": {},
     "output_type": "display_data"
    }
   ],
   "source": [
    "import matplotlib.pyplot as plt\n",
    "\n",
    "# Group by the 'is_delay' column, calculate the size, and normalize by dividing by the total number of rows\n",
    "(data.groupby('is_delay').size() / len(data)).plot(kind='bar')\n",
    "\n",
    "# Add labels and title\n",
    "plt.ylabel('Frequency')\n",
    "plt.title('Distribution of Delayed vs. Non-Delayed Flights')\n",
    "\n",
    "# Display the plot\n",
    "plt.show()\n"
   ]
  },
  {
   "cell_type": "markdown",
   "metadata": {},
   "source": [
    "**Question**: What can you deduce from the bar plot about the ratio of delay vs. no delay?"
   ]
  },
  {
   "cell_type": "markdown",
   "metadata": {},
   "source": [
    "From the bar plot, you can deduce the following about the ratio of delayed flights (`is_delay = 1`) versus non-delayed flights (`is_delay = 0`):\n",
    "\n",
    "1. **Imbalance in the Dataset**: \n",
    "   - If one of the bars (either delay or no delay) is significantly taller, it indicates an imbalance in the dataset. For example, if the bar for `is_delay = 0` is much higher, it means the majority of flights are not delayed. This is common in many real-world datasets, where non-delayed flights are more frequent than delayed ones.\n",
    "   \n",
    "2. **Class Distribution**:\n",
    "   - The bar heights represent the proportions of each class. A balanced dataset will have bars of roughly equal height, indicating a 50/50 distribution of delayed versus non-delayed flights.\n",
    "   - If one class dominates (e.g., significantly more non-delayed flights), this could affect model performance, particularly for classification algorithms, as the model may be biased towards predicting the majority class.\n",
    "\n",
    "3. **Need for Special Handling** (if imbalance exists):\n",
    "   - If the dataset is highly imbalanced (e.g., more flights are not delayed), you may need to consider techniques like resampling (oversampling the minority class or undersampling the majority class) or using classification algorithms that can handle imbalanced datasets (like Random Forest or Gradient Boosting with class weighting).\n",
    "\n",
    "\n"
   ]
  },
  {
   "cell_type": "markdown",
   "metadata": {},
   "source": [
    "**Questions**: \n",
    "\n",
    "- Which months have the most delays?\n",
    "- What time of the day has the most delays?\n",
    "- What day of the week has the most delays?\n",
    "- Which airline has the most delays?\n",
    "- Which origin and destination airports have the most delays?\n",
    "- Is flight distance a factor in the delays?"
   ]
  },
  {
   "cell_type": "code",
   "execution_count": 31,
   "metadata": {},
   "outputs": [
    {
     "data": {
      "image/png": "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",
      "text/plain": [
       "<Figure size 2000x2000 with 6 Axes>"
      ]
     },
     "metadata": {},
     "output_type": "display_data"
    },
    {
     "data": {
      "image/png": "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",
      "text/plain": [
       "<Figure size 1000x600 with 1 Axes>"
      ]
     },
     "metadata": {},
     "output_type": "display_data"
    }
   ],
   "source": [
    "import matplotlib.pyplot as plt\n",
    "import seaborn as sns\n",
    "\n",
    "# Define the columns to visualize\n",
    "viz_columns = ['Month', 'DepHourofDay', 'DayOfWeek', 'Reporting_Airline', 'Origin', 'Dest']\n",
    "\n",
    "# Create subplots (3 rows and 2 columns)\n",
    "fig, axes = plt.subplots(3, 2, figsize=(20, 20), squeeze=False)\n",
    "\n",
    "# Loop through each column and create the bar plots\n",
    "for idx, column in enumerate(viz_columns):\n",
    "    ax = axes[idx // 2, idx % 2]\n",
    "    \n",
    "    # Group by the column, calculate percentage of delays, and reset index\n",
    "    temp = data.groupby(column)['is_delay'].value_counts(normalize=True).rename('percentage')\\\n",
    "                .mul(100).reset_index().sort_values(column)\n",
    "    \n",
    "    # Plot the barplot\n",
    "    sns.barplot(x=column, y=\"percentage\", hue=\"is_delay\", data=temp, ax=ax)\n",
    "    \n",
    "    # Set labels\n",
    "    ax.set_ylabel('% delay/no-delay')\n",
    "    ax.set_title(f\"Percentage of Delays by {column}\")\n",
    "\n",
    "# Show the plot\n",
    "plt.tight_layout()\n",
    "plt.show()\n",
    "\n",
    "# Flight distance as a factor in delays (Additional Analysis)\n",
    "plt.figure(figsize=(10, 6))\n",
    "sns.histplot(data=data, x='Distance', hue='is_delay', multiple='stack', kde=False, binwidth=100)\n",
    "plt.title(\"Flight Distance and Delays\")\n",
    "plt.xlabel(\"Flight Distance (miles)\")\n",
    "plt.ylabel(\"Number of Flights\")\n",
    "plt.show()\n"
   ]
  },
  {
   "cell_type": "code",
   "execution_count": 32,
   "metadata": {},
   "outputs": [
    {
     "data": {
      "image/png": "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",
      "text/plain": [
       "<Figure size 500x500 with 1 Axes>"
      ]
     },
     "metadata": {},
     "output_type": "display_data"
    }
   ],
   "source": [
    "sns.lmplot( x=\"is_delay\", y=\"Distance\", data=data, fit_reg=False, hue='is_delay', legend=False)\n",
    "plt.legend(loc='center')\n",
    "plt.xlabel('is_delay')\n",
    "plt.ylabel('Distance')\n",
    "plt.show()"
   ]
  },
  {
   "cell_type": "markdown",
   "metadata": {},
   "source": [
    "Based on the visualizations provided in the plots, here are the answers to the questions:\n",
    "\n",
    "1. **Which months have the most delays?**\n",
    "   - From the bar chart, delays appear to be relatively evenly distributed across months, with a slightly higher percentage of delays in the summer months (June, July, August).\n",
    "\n",
    "2. **What time of the day has the most delays?**\n",
    "   - The plot shows that delays are most frequent in the late afternoon and evening, particularly between 15:00 and 22:00 (3 PM to 10 PM).\n",
    "\n",
    "3. **What day of the week has the most delays?**\n",
    "   - Delays appear to be relatively consistent across all days of the week, with a slight increase in delays on Fridays and Sundays.\n",
    "\n",
    "4. **Which airline has the most delays?**\n",
    "   - Based on the airline bar chart, some airlines, such as WN and OO, have a higher percentage of delays compared to others like DL and AA.\n",
    "\n",
    "5. **Which origin and destination airports have the most delays?**\n",
    "   - Origin and destination airports have similar delay patterns. Major airports like SFO, PHX, ORD, and LAX seem to experience a higher proportion of delays.\n",
    "\n",
    "6. **Is flight distance a factor in the delays?**\n",
    "   - From the distance chart, we can observe that there is no strong correlation between flight distance and delays. Both short and long flights have a mix of delays and non-delays. However, short to medium distances (around 500 to 1000 miles) seem to experience slightly more delays in proportion.\n",
    "\n",
    "These insights can help in better understanding flight delay patterns and factors contributing to delays."
   ]
  },
  {
   "cell_type": "markdown",
   "metadata": {},
   "source": [
    "### Features\n",
    "\n",
    "Look at all the columns and what their specific types are."
   ]
  },
  {
   "cell_type": "code",
   "execution_count": 33,
   "metadata": {},
   "outputs": [
    {
     "data": {
      "text/plain": [
       "Index(['Year', 'Quarter', 'Month', 'DayofMonth', 'DayOfWeek', 'FlightDate',\n",
       "       'Reporting_Airline', 'Origin', 'OriginState', 'Dest', 'DestState',\n",
       "       'CRSDepTime', 'Cancelled', 'Diverted', 'Distance', 'DistanceGroup',\n",
       "       'ArrDelay', 'ArrDelayMinutes', 'is_delay', 'AirTime', 'DepHourofDay'],\n",
       "      dtype='object')"
      ]
     },
     "execution_count": 33,
     "metadata": {},
     "output_type": "execute_result"
    }
   ],
   "source": [
    "data.columns"
   ]
  },
  {
   "cell_type": "code",
   "execution_count": 34,
   "metadata": {},
   "outputs": [
    {
     "data": {
      "text/plain": [
       "Year                   int64\n",
       "Quarter                int64\n",
       "Month                  int64\n",
       "DayofMonth             int64\n",
       "DayOfWeek              int64\n",
       "FlightDate            object\n",
       "Reporting_Airline     object\n",
       "Origin                object\n",
       "OriginState           object\n",
       "Dest                  object\n",
       "DestState             object\n",
       "CRSDepTime             int64\n",
       "Cancelled            float64\n",
       "Diverted             float64\n",
       "Distance             float64\n",
       "DistanceGroup          int64\n",
       "ArrDelay             float64\n",
       "ArrDelayMinutes      float64\n",
       "is_delay             float64\n",
       "AirTime              float64\n",
       "DepHourofDay           int64\n",
       "dtype: object"
      ]
     },
     "execution_count": 34,
     "metadata": {},
     "output_type": "execute_result"
    }
   ],
   "source": [
    "data.dtypes"
   ]
  },
  {
   "cell_type": "markdown",
   "metadata": {},
   "source": [
    "Filtering the required columns:\n",
    "- Date is redundant, because you have Year, Quarter, Month, DayofMonth, and DayOfWeek to describe the date.\n",
    "- Use Origin and Dest codes instead of OriginState and DestState.\n",
    "- Because you are just classifying whether the flight is delayed or not, you don't need TotalDelayMinutes, DepDelayMinutes, and ArrDelayMinutes.\n",
    "\n",
    "Treat DepHourofDay as a categorical variable because it doesn't have any quantitative relation with the target.\n",
    "- If you had to do a one-hot encoding of it, it would result in 23 more columns.\n",
    "- Other alternatives to handling categorical variables include hash encoding, regularized mean encoding, and bucketizing the values, among others.\n",
    "- Just split into buckets here.\n",
    "\n",
    "**Hint**: To change a column type to category, use the `astype` function ([documentation](https://pandas.pydata.org/pandas-docs/stable/reference/api/pandas.DataFrame.astype.html))."
   ]
  },
  {
   "cell_type": "code",
   "execution_count": 35,
   "metadata": {},
   "outputs": [
    {
     "name": "stdout",
     "output_type": "stream",
     "text": [
      "is_delay              float64\n",
      "Quarter              category\n",
      "Month                category\n",
      "DayofMonth           category\n",
      "DayOfWeek            category\n",
      "Reporting_Airline    category\n",
      "Origin               category\n",
      "Dest                 category\n",
      "Distance              float64\n",
      "DepHourofDay         category\n",
      "dtype: object\n"
     ]
    }
   ],
   "source": [
    "# Make a copy of the original dataset\n",
    "data_orig = data.copy()\n",
    "\n",
    "# Select only the necessary columns\n",
    "data = data[[ 'is_delay', 'Quarter', 'Month', 'DayofMonth', 'DayOfWeek', \n",
    "       'Reporting_Airline', 'Origin', 'Dest', 'Distance', 'DepHourofDay']]\n",
    "\n",
    "# List of categorical columns\n",
    "categorical_columns  = ['Quarter', 'Month', 'DayofMonth', 'DayOfWeek', \n",
    "       'Reporting_Airline', 'Origin', 'Dest', 'DepHourofDay']\n",
    "\n",
    "# Convert the categorical columns to 'category' data type\n",
    "for c in categorical_columns:\n",
    "    data[c] = data[c].astype('category')\n",
    "\n",
    "# Check the data types to ensure they have been converted correctly\n",
    "print(data.dtypes)\n"
   ]
  },
  {
   "cell_type": "markdown",
   "metadata": {},
   "source": [
    "To use one-hot encoding, use the Pandas `get_dummies` function for the categorical columns that you selected above. Then, you can concatenate those generated features to your original dataset using the Pandas `concat` function. For encoding categorical variables, you can also use *dummy encoding* by using a keyword `drop_first=True`. For more information on dummy encoding, see https://en.wikiversity.org/wiki/Dummy_variable_(statistics).\n",
    "\n",
    "For example:\n",
    "```\n",
    "pd.get_dummies(df[['column1','columns2']], drop_first=True)\n",
    "```"
   ]
  },
  {
   "cell_type": "code",
   "execution_count": 36,
   "metadata": {},
   "outputs": [
    {
     "name": "stdout",
     "output_type": "stream",
     "text": [
      "   is_delay  Distance  Quarter_2  Quarter_3  Quarter_4  Month_2  Month_3  \\\n",
      "0       0.0     689.0      False      False      False    False    False   \n",
      "1       0.0     731.0      False      False      False    False    False   \n",
      "2       0.0    1199.0      False      False      False    False    False   \n",
      "3       0.0    1587.0      False      False      False    False    False   \n",
      "4       0.0    1587.0      False      False      False    False    False   \n",
      "\n",
      "   Month_4  Month_5  Month_6  ...  DepHourofDay_14  DepHourofDay_15  \\\n",
      "0    False    False    False  ...            False            False   \n",
      "1    False    False    False  ...            False            False   \n",
      "2    False    False    False  ...            False            False   \n",
      "3    False    False    False  ...            False            False   \n",
      "4    False    False    False  ...            False            False   \n",
      "\n",
      "   DepHourofDay_16  DepHourofDay_17  DepHourofDay_18  DepHourofDay_19  \\\n",
      "0            False            False            False            False   \n",
      "1            False            False            False            False   \n",
      "2            False            False             True            False   \n",
      "3             True            False            False            False   \n",
      "4            False            False            False            False   \n",
      "\n",
      "   DepHourofDay_20  DepHourofDay_21  DepHourofDay_22  DepHourofDay_23  \n",
      "0            False             True            False            False  \n",
      "1            False            False            False            False  \n",
      "2            False            False            False            False  \n",
      "3            False            False            False            False  \n",
      "4            False            False            False            False  \n",
      "\n",
      "[5 rows x 94 columns]\n"
     ]
    }
   ],
   "source": [
    "# Perform one-hot encoding on the categorical columns\n",
    "data_dummies = pd.get_dummies(data[categorical_columns], drop_first=True)\n",
    "\n",
    "# Concatenate the original dataset (without categorical columns) and the encoded dummy variables\n",
    "data = pd.concat([data, data_dummies], axis=1)\n",
    "\n",
    "# Drop the original categorical columns as they have been encoded\n",
    "data.drop(categorical_columns, axis=1, inplace=True)\n",
    "\n",
    "# Display the first few rows of the modified dataset\n",
    "print(data.head())\n"
   ]
  },
  {
   "cell_type": "markdown",
   "metadata": {},
   "source": [
    "Check the length of the dataset and the new columnms."
   ]
  },
  {
   "cell_type": "code",
   "execution_count": 37,
   "metadata": {},
   "outputs": [
    {
     "data": {
      "text/plain": [
       "1658130"
      ]
     },
     "execution_count": 37,
     "metadata": {},
     "output_type": "execute_result"
    }
   ],
   "source": [
    "# Checking the length of the dataset after encoding\n",
    "dataset_length = len(data)\n",
    "dataset_length\n"
   ]
  },
  {
   "cell_type": "code",
   "execution_count": 38,
   "metadata": {},
   "outputs": [
    {
     "data": {
      "text/plain": [
       "Index(['is_delay', 'Distance', 'Quarter_2', 'Quarter_3', 'Quarter_4',\n",
       "       'Month_2', 'Month_3', 'Month_4', 'Month_5', 'Month_6', 'Month_7',\n",
       "       'Month_8', 'Month_9', 'Month_10', 'Month_11', 'Month_12',\n",
       "       'DayofMonth_2', 'DayofMonth_3', 'DayofMonth_4', 'DayofMonth_5',\n",
       "       'DayofMonth_6', 'DayofMonth_7', 'DayofMonth_8', 'DayofMonth_9',\n",
       "       'DayofMonth_10', 'DayofMonth_11', 'DayofMonth_12', 'DayofMonth_13',\n",
       "       'DayofMonth_14', 'DayofMonth_15', 'DayofMonth_16', 'DayofMonth_17',\n",
       "       'DayofMonth_18', 'DayofMonth_19', 'DayofMonth_20', 'DayofMonth_21',\n",
       "       'DayofMonth_22', 'DayofMonth_23', 'DayofMonth_24', 'DayofMonth_25',\n",
       "       'DayofMonth_26', 'DayofMonth_27', 'DayofMonth_28', 'DayofMonth_29',\n",
       "       'DayofMonth_30', 'DayofMonth_31', 'DayOfWeek_2', 'DayOfWeek_3',\n",
       "       'DayOfWeek_4', 'DayOfWeek_5', 'DayOfWeek_6', 'DayOfWeek_7',\n",
       "       'Reporting_Airline_DL', 'Reporting_Airline_OO', 'Reporting_Airline_UA',\n",
       "       'Reporting_Airline_WN', 'Origin_CLT', 'Origin_DEN', 'Origin_DFW',\n",
       "       'Origin_IAH', 'Origin_LAX', 'Origin_ORD', 'Origin_PHX', 'Origin_SFO',\n",
       "       'Dest_CLT', 'Dest_DEN', 'Dest_DFW', 'Dest_IAH', 'Dest_LAX', 'Dest_ORD',\n",
       "       'Dest_PHX', 'Dest_SFO', 'DepHourofDay_1', 'DepHourofDay_2',\n",
       "       'DepHourofDay_4', 'DepHourofDay_5', 'DepHourofDay_6', 'DepHourofDay_7',\n",
       "       'DepHourofDay_8', 'DepHourofDay_9', 'DepHourofDay_10',\n",
       "       'DepHourofDay_11', 'DepHourofDay_12', 'DepHourofDay_13',\n",
       "       'DepHourofDay_14', 'DepHourofDay_15', 'DepHourofDay_16',\n",
       "       'DepHourofDay_17', 'DepHourofDay_18', 'DepHourofDay_19',\n",
       "       'DepHourofDay_20', 'DepHourofDay_21', 'DepHourofDay_22',\n",
       "       'DepHourofDay_23'],\n",
       "      dtype='object')"
      ]
     },
     "execution_count": 38,
     "metadata": {},
     "output_type": "execute_result"
    }
   ],
   "source": [
    "# Checking the new columns after encoding\n",
    "new_columns = data.columns\n",
    "# Displaying the results\n",
    "new_columns"
   ]
  },
  {
   "cell_type": "markdown",
   "metadata": {},
   "source": [
    "**Sample Answer:** \n",
    "```\n",
    "Index(['Distance', 'is_delay', 'Quarter_2', 'Quarter_3', 'Quarter_4',\n",
    "       'Month_2', 'Month_3', 'Month_4', 'Month_5', 'Month_6', 'Month_7',\n",
    "       'Month_8', 'Month_9', 'Month_10', 'Month_11', 'Month_12',\n",
    "       'DayofMonth_2', 'DayofMonth_3', 'DayofMonth_4', 'DayofMonth_5',\n",
    "       'DayofMonth_6', 'DayofMonth_7', 'DayofMonth_8', 'DayofMonth_9',\n",
    "       'DayofMonth_10', 'DayofMonth_11', 'DayofMonth_12', 'DayofMonth_13',\n",
    "       'DayofMonth_14', 'DayofMonth_15', 'DayofMonth_16', 'DayofMonth_17',\n",
    "       'DayofMonth_18', 'DayofMonth_19', 'DayofMonth_20', 'DayofMonth_21',\n",
    "       'DayofMonth_22', 'DayofMonth_23', 'DayofMonth_24', 'DayofMonth_25',\n",
    "       'DayofMonth_26', 'DayofMonth_27', 'DayofMonth_28', 'DayofMonth_29',\n",
    "       'DayofMonth_30', 'DayofMonth_31', 'DayOfWeek_2', 'DayOfWeek_3',\n",
    "       'DayOfWeek_4', 'DayOfWeek_5', 'DayOfWeek_6', 'DayOfWeek_7',\n",
    "       'Reporting_Airline_DL', 'Reporting_Airline_OO', 'Reporting_Airline_UA',\n",
    "       'Reporting_Airline_WN', 'Origin_CLT', 'Origin_DEN', 'Origin_DFW',\n",
    "       'Origin_IAH', 'Origin_LAX', 'Origin_ORD', 'Origin_PHX', 'Origin_SFO',\n",
    "       'Dest_CLT', 'Dest_DEN', 'Dest_DFW', 'Dest_IAH', 'Dest_LAX', 'Dest_ORD',\n",
    "       'Dest_PHX', 'Dest_SFO'],\n",
    "      dtype='object')\n",
    "```"
   ]
  },
  {
   "cell_type": "markdown",
   "metadata": {},
   "source": [
    "Now you are ready to do model training. Before splitting the data, rename the column `is_delay` to `target`.\n",
    "\n",
    "**Hint**: You can use the Pandas `rename` function ([documentation](https://pandas.pydata.org/pandas-docs/stable/reference/api/pandas.DataFrame.rename.html))."
   ]
  },
  {
   "cell_type": "code",
   "execution_count": 39,
   "metadata": {},
   "outputs": [
    {
     "name": "stdout",
     "output_type": "stream",
     "text": [
      "Index(['target', 'Distance', 'Quarter_2', 'Quarter_3', 'Quarter_4', 'Month_2',\n",
      "       'Month_3', 'Month_4', 'Month_5', 'Month_6', 'Month_7', 'Month_8',\n",
      "       'Month_9', 'Month_10', 'Month_11', 'Month_12', 'DayofMonth_2',\n",
      "       'DayofMonth_3', 'DayofMonth_4', 'DayofMonth_5', 'DayofMonth_6',\n",
      "       'DayofMonth_7', 'DayofMonth_8', 'DayofMonth_9', 'DayofMonth_10',\n",
      "       'DayofMonth_11', 'DayofMonth_12', 'DayofMonth_13', 'DayofMonth_14',\n",
      "       'DayofMonth_15', 'DayofMonth_16', 'DayofMonth_17', 'DayofMonth_18',\n",
      "       'DayofMonth_19', 'DayofMonth_20', 'DayofMonth_21', 'DayofMonth_22',\n",
      "       'DayofMonth_23', 'DayofMonth_24', 'DayofMonth_25', 'DayofMonth_26',\n",
      "       'DayofMonth_27', 'DayofMonth_28', 'DayofMonth_29', 'DayofMonth_30',\n",
      "       'DayofMonth_31', 'DayOfWeek_2', 'DayOfWeek_3', 'DayOfWeek_4',\n",
      "       'DayOfWeek_5', 'DayOfWeek_6', 'DayOfWeek_7', 'Reporting_Airline_DL',\n",
      "       'Reporting_Airline_OO', 'Reporting_Airline_UA', 'Reporting_Airline_WN',\n",
      "       'Origin_CLT', 'Origin_DEN', 'Origin_DFW', 'Origin_IAH', 'Origin_LAX',\n",
      "       'Origin_ORD', 'Origin_PHX', 'Origin_SFO', 'Dest_CLT', 'Dest_DEN',\n",
      "       'Dest_DFW', 'Dest_IAH', 'Dest_LAX', 'Dest_ORD', 'Dest_PHX', 'Dest_SFO',\n",
      "       'DepHourofDay_1', 'DepHourofDay_2', 'DepHourofDay_4', 'DepHourofDay_5',\n",
      "       'DepHourofDay_6', 'DepHourofDay_7', 'DepHourofDay_8', 'DepHourofDay_9',\n",
      "       'DepHourofDay_10', 'DepHourofDay_11', 'DepHourofDay_12',\n",
      "       'DepHourofDay_13', 'DepHourofDay_14', 'DepHourofDay_15',\n",
      "       'DepHourofDay_16', 'DepHourofDay_17', 'DepHourofDay_18',\n",
      "       'DepHourofDay_19', 'DepHourofDay_20', 'DepHourofDay_21',\n",
      "       'DepHourofDay_22', 'DepHourofDay_23'],\n",
      "      dtype='object')\n"
     ]
    }
   ],
   "source": [
    "# Rename the column 'is_delay' to 'target'\n",
    "data.rename(columns={'is_delay': 'target'}, inplace=True)\n",
    "\n",
    "# Verify the column name change\n",
    "print(data.columns)\n"
   ]
  },
  {
   "cell_type": "code",
   "execution_count": 40,
   "metadata": {},
   "outputs": [
    {
     "name": "stdout",
     "output_type": "stream",
     "text": [
      "File saved successfully as combined_csv_v1.csv\n"
     ]
    }
   ],
   "source": [
    "# write code to Save the combined csv file (combined_csv_v1.csv) to your local computer\n",
    "# note this combined file will be used in part B\n",
    "\n",
    "# Save the combined dataset to a CSV file\n",
    "data.to_csv(r'C:/Users/bbhat/OneDrive/Desktop/Data Science Technology and Systems PG/FINAL ASSIGNMENT/Final_Dataset_Combined/combined_csv_v1.csv', index=False)\n",
    "\n",
    "# Confirmation message\n",
    "print(\"File saved successfully as combined_csv_v1.csv\")\n"
   ]
  },
  {
   "cell_type": "markdown",
   "metadata": {},
   "source": [
    "# Step 3: Model training and evaluation\n",
    "\n",
    "1. Split the data into `train_data`, and `test_data` using `sklearn.model_selection.train_test_split`.  \n",
    "2. Build a logistic regression model for the data, where training data is 80%, and test data is 20%.\n",
    "\n",
    "Use the following cells to complete these steps. Insert and delete cells where needed.\n"
   ]
  },
  {
   "cell_type": "markdown",
   "metadata": {},
   "source": [
    "### Train test split"
   ]
  },
  {
   "cell_type": "code",
   "execution_count": 41,
   "metadata": {},
   "outputs": [],
   "source": [
    "from sklearn.model_selection import train_test_split\n",
    "from sklearn.linear_model import LogisticRegression\n",
    "import pandas as pd\n",
    "\n",
    "# Assuming 'data' is the dataset and 'target' is the column you're predicting\n",
    "X = data.drop('target', axis=1)  # Features\n",
    "y = data['target']  # Target variable\n",
    "\n",
    "# Remove NaN values from both X and y\n",
    "X_clean = X[y.notna()]\n",
    "y_clean = y.dropna()\n",
    "\n",
    "# Perform train-test split\n",
    "X_train, X_test, y_train, y_test = train_test_split(X_clean, y_clean, test_size=0.2, random_state=0)"
   ]
  },
  {
   "cell_type": "markdown",
   "metadata": {},
   "source": [
    "### Baseline classification model"
   ]
  },
  {
   "cell_type": "code",
   "execution_count": 42,
   "metadata": {},
   "outputs": [
    {
     "name": "stdout",
     "output_type": "stream",
     "text": [
      "Model accuracy: 0.7896\n"
     ]
    }
   ],
   "source": [
    "logisticRegr = LogisticRegression()\n",
    "logisticRegr.fit(X_train, y_train)\n",
    "\n",
    "# Make predictions on the test data\n",
    "y_pred = logisticRegr.predict(X_test)\n",
    "\n",
    "# Evaluate model performance\n",
    "accuracy = logisticRegr.score(X_test, y_test)\n",
    "print(f\"Model accuracy: {accuracy:.4f}\")"
   ]
  },
  {
   "cell_type": "markdown",
   "metadata": {},
   "source": [
    "## Model evaluation\n",
    "In this section, you'll evaluate your trained model on test data and report on the following metrics:\n",
    "* Confusion Matrix plot\n",
    "* Plot the ROC\n",
    "* Report statistics such as Accuracy, Percision, Recall, Sensitivity and Specificity"
   ]
  },
  {
   "cell_type": "markdown",
   "metadata": {},
   "source": [
    "To view a plot of the confusion matrix, and various scoring metrics, create a couple of functions:"
   ]
  },
  {
   "cell_type": "markdown",
   "metadata": {},
   "source": [
    "To plot the confusion matrix, call the `plot_confusion_matrix` function on the `test_labels` and `target_predicted` data from your batch job:"
   ]
  },
  {
   "cell_type": "code",
   "execution_count": 43,
   "metadata": {},
   "outputs": [
    {
     "data": {
      "image/png": "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",
      "text/plain": [
       "<Figure size 800x600 with 2 Axes>"
      ]
     },
     "metadata": {},
     "output_type": "display_data"
    }
   ],
   "source": [
    "# Assuming logisticRegr is your trained model\n",
    "y_pred = logisticRegr.predict(X_test)\n",
    "\n",
    "# Function to plot the confusion matrix\n",
    "import matplotlib.pyplot as plt\n",
    "import seaborn as sns\n",
    "from sklearn.metrics import confusion_matrix\n",
    "\n",
    "def plot_confusion_matrix(y_true, y_pred, labels=None):\n",
    "    \"\"\"\n",
    "    Plots a confusion matrix using Seaborn heatmap.\n",
    "    \n",
    "    Parameters:\n",
    "    y_true (array): True labels.\n",
    "    y_pred (array): Predicted labels.\n",
    "    labels (list): List of label names (optional).\n",
    "    \"\"\"\n",
    "    cm = confusion_matrix(y_true, y_pred)\n",
    "    plt.figure(figsize=(8,6))\n",
    "    sns.heatmap(cm, annot=True, fmt='g', cmap='Blues', xticklabels=labels, yticklabels=labels)\n",
    "    plt.xlabel('Predicted')\n",
    "    plt.ylabel('Actual')\n",
    "    plt.title('Confusion Matrix')\n",
    "    plt.show()\n",
    "\n",
    "# Call the function to plot the confusion matrix\n",
    "plot_confusion_matrix(y_test, y_pred, labels=['No Delay', 'Delay'])\n"
   ]
  },
  {
   "cell_type": "markdown",
   "metadata": {},
   "source": [
    "To print statistics and plot an ROC curve, call the `plot_roc` function on the `test_labels` and `target_predicted` data from your batch job:"
   ]
  },
  {
   "cell_type": "code",
   "execution_count": 44,
   "metadata": {},
   "outputs": [
    {
     "data": {
      "image/png": "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",
      "text/plain": [
       "<Figure size 800x600 with 1 Axes>"
      ]
     },
     "metadata": {},
     "output_type": "display_data"
    }
   ],
   "source": [
    "from sklearn.metrics import roc_curve, auc\n",
    "import matplotlib.pyplot as plt\n",
    "\n",
    "# Function to plot ROC curve\n",
    "def plot_roc_curve(test_labels, target_predicted_prob):\n",
    "    fpr, tpr, _ = roc_curve(test_labels, target_predicted_prob)\n",
    "    roc_auc = auc(fpr, tpr)\n",
    "\n",
    "    plt.figure(figsize=(8, 6))\n",
    "    plt.plot(fpr, tpr, color='blue', lw=2, label=f'ROC curve (area = {roc_auc:.2f})')\n",
    "    plt.plot([0, 1], [0, 1], color='gray', lw=2, linestyle='--')\n",
    "    plt.xlim([0.0, 1.0])\n",
    "    plt.ylim([0.0, 1.05])\n",
    "    plt.xlabel('False Positive Rate')\n",
    "    plt.ylabel('True Positive Rate')\n",
    "    plt.title('Receiver Operating Characteristic (ROC) Curve')\n",
    "    plt.legend(loc=\"lower right\")\n",
    "    plt.show()\n",
    "\n",
    "# Get predicted probabilities for the positive class (class 1)\n",
    "y_pred_prob = logisticRegr.predict_proba(X_test)[:, 1]\n",
    "\n",
    "# Call the function to plot the ROC curve\n",
    "plot_roc_curve(y_test, y_pred_prob)\n"
   ]
  },
  {
   "cell_type": "markdown",
   "metadata": {},
   "source": [
    "### Key questions to consider:\n",
    "1. How does your model's performance on the test set compare to the training set? What can you deduce from this comparison? \n",
    "\n",
    "2. Are there obvious differences between the outcomes of metrics like accuracy, precision, and recall? If so, why might you be seeing those differences? \n",
    "\n",
    "3. Is the outcome for the metric(s) you consider most important sufficient for what you need from a business standpoint? If not, what are some things you might change in your next iteration (in the feature engineering section, which is coming up next)? \n",
    "\n",
    "Use the cells below to answer these and other questions. Insert and delete cells where needed."
   ]
  },
  {
   "cell_type": "markdown",
   "metadata": {},
   "source": [
    "### 1. How does your model's performance on the test set compare to the training set? What can you deduce from this comparison?\n",
    "\n",
    "The model's performance on the training set is generally better than on the test set. If the training accuracy is significantly higher than the test accuracy, this could indicate **overfitting**, where the model has learned to perform well on the training data but does not generalize well to unseen data. If the accuracy on both the training and test sets is similar, the model is more likely to generalize well.\n",
    "\n",
    "### 2. Are there obvious differences between the outcomes of metrics like accuracy, precision, and recall? If so, why might you be seeing those differences?\n",
    "\n",
    "Yes, there may be differences between accuracy, precision, and recall depending on the data's distribution and the nature of the delay predictions. For instance:\n",
    "- **Accuracy** might be high if the model is predicting \"no delay\" frequently, as delays are less common.\n",
    "- **Precision** would be lower if the model predicts delays but many of them are false positives (i.e., predicted as delayed but actually not delayed).\n",
    "- **Recall** could be low if the model misses many true delays (false negatives).\n",
    "These differences may arise due to the class imbalance, where there are significantly fewer delayed flights compared to non-delayed ones. In such cases, accuracy can be misleading, and precision/recall would provide a clearer picture of performance.\n",
    "\n",
    "### 3. Is the outcome for the metric(s) you consider most important sufficient for what you need from a business standpoint? If not, what are some things you might change in your next iteration (in the feature engineering section, which is coming up next)?\n",
    "\n",
    "If the key metric (e.g., **recall**, if the goal is to minimize missed delays) is not sufficient, you might consider:\n",
    "- **Feature engineering**: Adding or modifying features such as time of day, flight distance, or weather conditions might improve performance.\n",
    "- **Resampling techniques**: Using oversampling, undersampling, or SMOTE to balance the classes can help improve model performance, especially on minority classes (delays).\n",
    "- **Hyperparameter tuning**: Adjusting model parameters like regularization strength or changing to a more complex model (e.g., decision trees, random forests) may improve results.\n",
    "- **Ensemble methods**: Combining predictions from multiple models could lead to better overall performance."
   ]
  },
  {
   "cell_type": "markdown",
   "metadata": {},
   "source": [
    "\n",
    "**Question**: What can you summarize from the confusion matrix?\n"
   ]
  },
  {
   "cell_type": "markdown",
   "metadata": {},
   "source": [
    "### Summary from the Confusion Matrix:\n",
    "\n",
    "- **True Positives (TP)**: 277 — These are the flights that were correctly predicted as \"delayed.\"\n",
    "- **True Negatives (TN)**: 258,011 — These are the flights that were correctly predicted as \"not delayed.\"\n",
    "- **False Positives (FP)**: 223 — These are the flights that were predicted as \"delayed\" but were actually \"not delayed.\"\n",
    "- **False Negatives (FN)**: 68,607 — These are the flights that were predicted as \"not delayed\" but were actually \"delayed.\"\n",
    "\n",
    "### Observations:\n",
    "- The model is very good at predicting \"no delay\" flights (258,011 TN vs. 223 FP).\n",
    "- However, the model struggles significantly to correctly predict delayed flights, with a very high number of false negatives (68,607), meaning it missed many flights that were actually delayed.\n",
    "- The imbalance between true positives (277) and false negatives (68,607) shows that the model tends to favor predicting \"no delay,\" likely due to the class imbalance in the dataset (more flights are \"not delayed\" than \"delayed\").\n",
    "\n",
    "This suggests that while the accuracy might look decent due to the high number of correct \"no delay\" predictions, the model is not very effective at identifying delayed flights, which is likely a critical aspect of the business need."
   ]
  },
  {
   "cell_type": "markdown",
   "metadata": {},
   "source": [
    "# Step 4: Deployment\n",
    "\n",
    "1. In this step you are required to push your source code and requirements file to a GitLab repository without the data files. Please use the Git commands to complete this task\n",
    "2- Create a “readme.md” markdown file that describes the code of this repository and how to run it and what the user would expect if got the code running.\n",
    "\n",
    "In the cell below provide the link of the pushed repository on your GitLab account.\n"
   ]
  },
  {
   "cell_type": "code",
   "execution_count": 45,
   "metadata": {},
   "outputs": [],
   "source": [
    "### https://github.com/bbhattarai127/flight-delay/commits?author=bbhattarai127"
   ]
  },
  {
   "cell_type": "markdown",
   "metadata": {},
   "source": [
    "# Iteration II"
   ]
  },
  {
   "cell_type": "markdown",
   "metadata": {},
   "source": [
    "# Step 5: Feature engineering\n",
    "\n",
    "You've now gone through one iteration of training and evaluating your model. Given that the outcome you reached for your model the first time probably wasn't sufficient for solving your business problem, what are some things you could change about your data to possibly improve model performance?\n",
    "\n",
    "### Key questions to consider:\n",
    "1. How might the balance of your two main classes (delay and no delay) impact model performance?\n",
    "2. Do you have any features that are correlated?\n",
    "3. Are there feature reduction techniques you could perform at this stage that might have a positive impact on model performance? \n",
    "4. Can you think of adding some more data/datasets?\n",
    "4. After performing some feature engineering, how does your model performance compare to the first iteration?\n",
    "\n",
    "Use the cells below to perform specific feature engineering techniques (per the questions above) that you think could improve your model performance. Insert and delete cells where needed.\n",
    "\n",
    "\n",
    "Before you start, think about why the precision and recall are around 80% while the accuracy is 99%."
   ]
  },
  {
   "cell_type": "markdown",
   "metadata": {},
   "source": [
    "#### Add more features\n",
    "\n",
    "1. Holidays\n",
    "2. Weather"
   ]
  },
  {
   "cell_type": "markdown",
   "metadata": {},
   "source": [
    "Because the list of holidays from 2014 to 2018 is known, you can create an indicator variable **is_holiday** to mark these.\n",
    "The hypothesis is that airplane delays could be higher during holidays compared to the rest of the days. Add a boolean variable `is_holiday` that includes the holidays for the years 2014-2018."
   ]
  },
  {
   "cell_type": "code",
   "execution_count": 46,
   "metadata": {},
   "outputs": [
    {
     "name": "stdout",
     "output_type": "stream",
     "text": [
      "Index(['Year', 'Quarter', 'Month', 'DayofMonth', 'DayOfWeek', 'FlightDate',\n",
      "       'Reporting_Airline', 'Origin', 'OriginState', 'Dest', 'DestState',\n",
      "       'CRSDepTime', 'Cancelled', 'Diverted', 'Distance', 'DistanceGroup',\n",
      "       'ArrDelay', 'ArrDelayMinutes', 'is_delay', 'AirTime', 'DepHourofDay'],\n",
      "      dtype='object')\n"
     ]
    }
   ],
   "source": [
    "# Check the column names to find the correct date column\n",
    "print(data_orig.columns)\n"
   ]
  },
  {
   "cell_type": "code",
   "execution_count": 47,
   "metadata": {},
   "outputs": [
    {
     "name": "stdout",
     "output_type": "stream",
     "text": [
      "  FlightDate  is_holiday\n",
      "0 2014-01-26           0\n",
      "1 2014-01-26           0\n",
      "2 2014-01-26           0\n",
      "3 2014-01-26           0\n",
      "4 2014-01-26           0\n"
     ]
    }
   ],
   "source": [
    "import pandas as pd\n",
    "\n",
    "# Convert 'FlightDate' to datetime\n",
    "data_orig['FlightDate'] = pd.to_datetime(data_orig['FlightDate'])\n",
    "\n",
    "# Define the holidays for the years 2014 to 2018\n",
    "holidays_14 = ['2014-01-01', '2014-01-20', '2014-02-17', '2014-05-26', '2014-07-04', \n",
    "                '2014-09-01', '2014-10-13', '2014-11-11', '2014-11-27', '2014-12-25']\n",
    "holidays_15 = ['2015-01-01', '2015-01-19', '2015-02-16', '2015-05-25', '2015-07-04', \n",
    "                '2015-09-07', '2015-10-12', '2015-11-11', '2015-11-26', '2015-12-25']\n",
    "holidays_16 = ['2016-01-01', '2016-01-18', '2016-02-15', '2016-05-30', '2016-07-04', \n",
    "                '2016-09-05', '2016-10-10', '2016-11-11', '2016-11-24', '2016-12-25']\n",
    "holidays_17 = ['2017-01-02', '2017-01-16', '2017-02-20', '2017-05-29', '2017-07-04', \n",
    "                '2017-09-04', '2017-10-09', '2017-11-10', '2017-11-23', '2017-12-25']\n",
    "holidays_18 = ['2018-01-01', '2018-01-15', '2018-02-19', '2018-05-28', '2018-07-04', \n",
    "                '2018-09-03', '2018-10-08', '2018-11-12', '2018-11-22', '2018-12-25']\n",
    "\n",
    "# Combine all holidays into a single list\n",
    "holidays = pd.to_datetime(holidays_14 + holidays_15 + holidays_16 + holidays_17 + holidays_18)\n",
    "\n",
    "# Add a new column 'is_holiday' to the DataFrame\n",
    "data_orig['is_holiday'] = data_orig['FlightDate'].isin(holidays).astype(int)\n",
    "\n",
    "# View the updated DataFrame\n",
    "print(data_orig[['FlightDate', 'is_holiday']].head())\n"
   ]
  },
  {
   "cell_type": "markdown",
   "metadata": {},
   "source": [
    "Weather data was fetched from https://www.ncei.noaa.gov/access/services/data/v1?dataset=daily-summaries&stations=USW00023174,USW00012960,USW00003017,USW00094846,USW00013874,USW00023234,USW00003927,USW00023183,USW00013881&dataTypes=AWND,PRCP,SNOW,SNWD,TAVG,TMIN,TMAX&startDate=2014-01-01&endDate=2018-12-31.\n",
    "<br>\n",
    "\n",
    "This dataset has information on wind speed, precipitation, snow, and temperature for cities by their airport codes.\n",
    "\n",
    "**Question**: Could bad weather due to rains, heavy winds, or snow lead to airplane delay? Let's check!"
   ]
  },
  {
   "cell_type": "code",
   "execution_count": 48,
   "metadata": {
    "scrolled": true
   },
   "outputs": [
    {
     "data": {
      "text/html": [
       "<div>\n",
       "<style scoped>\n",
       "    .dataframe tbody tr th:only-of-type {\n",
       "        vertical-align: middle;\n",
       "    }\n",
       "\n",
       "    .dataframe tbody tr th {\n",
       "        vertical-align: top;\n",
       "    }\n",
       "\n",
       "    .dataframe thead th {\n",
       "        text-align: right;\n",
       "    }\n",
       "</style>\n",
       "<table border=\"1\" class=\"dataframe\">\n",
       "  <thead>\n",
       "    <tr style=\"text-align: right;\">\n",
       "      <th></th>\n",
       "      <th>STATION</th>\n",
       "      <th>DATE</th>\n",
       "      <th>AWND</th>\n",
       "      <th>PRCP</th>\n",
       "      <th>SNOW</th>\n",
       "      <th>SNWD</th>\n",
       "      <th>TAVG</th>\n",
       "      <th>TMAX</th>\n",
       "      <th>TMIN</th>\n",
       "    </tr>\n",
       "  </thead>\n",
       "  <tbody>\n",
       "    <tr>\n",
       "      <th>0</th>\n",
       "      <td>USW00012960</td>\n",
       "      <td>2014-01-01</td>\n",
       "      <td>16</td>\n",
       "      <td>0</td>\n",
       "      <td>0.0</td>\n",
       "      <td>0.0</td>\n",
       "      <td>107.0</td>\n",
       "      <td>183.0</td>\n",
       "      <td>78.0</td>\n",
       "    </tr>\n",
       "    <tr>\n",
       "      <th>1</th>\n",
       "      <td>USW00012960</td>\n",
       "      <td>2014-01-02</td>\n",
       "      <td>60</td>\n",
       "      <td>3</td>\n",
       "      <td>0.0</td>\n",
       "      <td>0.0</td>\n",
       "      <td>109.0</td>\n",
       "      <td>150.0</td>\n",
       "      <td>28.0</td>\n",
       "    </tr>\n",
       "    <tr>\n",
       "      <th>2</th>\n",
       "      <td>USW00012960</td>\n",
       "      <td>2014-01-03</td>\n",
       "      <td>24</td>\n",
       "      <td>0</td>\n",
       "      <td>0.0</td>\n",
       "      <td>0.0</td>\n",
       "      <td>51.0</td>\n",
       "      <td>122.0</td>\n",
       "      <td>-5.0</td>\n",
       "    </tr>\n",
       "    <tr>\n",
       "      <th>3</th>\n",
       "      <td>USW00012960</td>\n",
       "      <td>2014-01-04</td>\n",
       "      <td>41</td>\n",
       "      <td>0</td>\n",
       "      <td>0.0</td>\n",
       "      <td>0.0</td>\n",
       "      <td>94.0</td>\n",
       "      <td>189.0</td>\n",
       "      <td>17.0</td>\n",
       "    </tr>\n",
       "    <tr>\n",
       "      <th>4</th>\n",
       "      <td>USW00012960</td>\n",
       "      <td>2014-01-05</td>\n",
       "      <td>65</td>\n",
       "      <td>13</td>\n",
       "      <td>0.0</td>\n",
       "      <td>0.0</td>\n",
       "      <td>146.0</td>\n",
       "      <td>183.0</td>\n",
       "      <td>17.0</td>\n",
       "    </tr>\n",
       "  </tbody>\n",
       "</table>\n",
       "</div>"
      ],
      "text/plain": [
       "       STATION        DATE  AWND  PRCP  SNOW  SNWD   TAVG   TMAX  TMIN\n",
       "0  USW00012960  2014-01-01    16     0   0.0   0.0  107.0  183.0  78.0\n",
       "1  USW00012960  2014-01-02    60     3   0.0   0.0  109.0  150.0  28.0\n",
       "2  USW00012960  2014-01-03    24     0   0.0   0.0   51.0  122.0  -5.0\n",
       "3  USW00012960  2014-01-04    41     0   0.0   0.0   94.0  189.0  17.0\n",
       "4  USW00012960  2014-01-05    65    13   0.0   0.0  146.0  183.0  17.0"
      ]
     },
     "execution_count": 48,
     "metadata": {},
     "output_type": "execute_result"
    }
   ],
   "source": [
    "\n",
    "\n",
    "# Use a raw string for the file path\n",
    "weather = pd.read_csv(r'C:\\Users\\bbhat\\OneDrive\\Desktop\\Data Science Technology and Systems PG\\FINAL ASSIGNMENT\\Final_Dataset_Combined\\daily-summaries-2024-10-17T07-08-42.csv')\n",
    "station = ['USW00023174', 'USW00012960', 'USW00003017', 'USW00094846',\n",
    "           'USW00013874', 'USW00023234', 'USW00003927', 'USW00023183', 'USW00013881']\n",
    "airports = ['LAX', 'IAH', 'DEN', 'ORD', 'ATL', 'SFO', 'DFW', 'PHX', 'CLT']\n",
    "\n",
    "# Display the first few rows of the weather DataFrame\n",
    "weather.head()\n"
   ]
  },
  {
   "cell_type": "markdown",
   "metadata": {},
   "source": [
    "Import weather data prepared for the airport codes in our dataset. Use the stations and airports below for the analysis, and create a new column called `airport` that maps the weather station to the airport name."
   ]
  },
  {
   "cell_type": "code",
   "execution_count": 49,
   "metadata": {},
   "outputs": [
    {
     "data": {
      "text/html": [
       "<div>\n",
       "<style scoped>\n",
       "    .dataframe tbody tr th:only-of-type {\n",
       "        vertical-align: middle;\n",
       "    }\n",
       "\n",
       "    .dataframe tbody tr th {\n",
       "        vertical-align: top;\n",
       "    }\n",
       "\n",
       "    .dataframe thead th {\n",
       "        text-align: right;\n",
       "    }\n",
       "</style>\n",
       "<table border=\"1\" class=\"dataframe\">\n",
       "  <thead>\n",
       "    <tr style=\"text-align: right;\">\n",
       "      <th></th>\n",
       "      <th>STATION</th>\n",
       "      <th>DATE</th>\n",
       "      <th>AWND</th>\n",
       "      <th>PRCP</th>\n",
       "      <th>SNOW</th>\n",
       "      <th>SNWD</th>\n",
       "      <th>TAVG</th>\n",
       "      <th>TMAX</th>\n",
       "      <th>TMIN</th>\n",
       "      <th>airport</th>\n",
       "    </tr>\n",
       "  </thead>\n",
       "  <tbody>\n",
       "    <tr>\n",
       "      <th>0</th>\n",
       "      <td>USW00012960</td>\n",
       "      <td>2014-01-01</td>\n",
       "      <td>16</td>\n",
       "      <td>0</td>\n",
       "      <td>0.0</td>\n",
       "      <td>0.0</td>\n",
       "      <td>107.0</td>\n",
       "      <td>183.0</td>\n",
       "      <td>78.0</td>\n",
       "      <td>IAH</td>\n",
       "    </tr>\n",
       "    <tr>\n",
       "      <th>1</th>\n",
       "      <td>USW00012960</td>\n",
       "      <td>2014-01-02</td>\n",
       "      <td>60</td>\n",
       "      <td>3</td>\n",
       "      <td>0.0</td>\n",
       "      <td>0.0</td>\n",
       "      <td>109.0</td>\n",
       "      <td>150.0</td>\n",
       "      <td>28.0</td>\n",
       "      <td>IAH</td>\n",
       "    </tr>\n",
       "    <tr>\n",
       "      <th>2</th>\n",
       "      <td>USW00012960</td>\n",
       "      <td>2014-01-03</td>\n",
       "      <td>24</td>\n",
       "      <td>0</td>\n",
       "      <td>0.0</td>\n",
       "      <td>0.0</td>\n",
       "      <td>51.0</td>\n",
       "      <td>122.0</td>\n",
       "      <td>-5.0</td>\n",
       "      <td>IAH</td>\n",
       "    </tr>\n",
       "    <tr>\n",
       "      <th>3</th>\n",
       "      <td>USW00012960</td>\n",
       "      <td>2014-01-04</td>\n",
       "      <td>41</td>\n",
       "      <td>0</td>\n",
       "      <td>0.0</td>\n",
       "      <td>0.0</td>\n",
       "      <td>94.0</td>\n",
       "      <td>189.0</td>\n",
       "      <td>17.0</td>\n",
       "      <td>IAH</td>\n",
       "    </tr>\n",
       "    <tr>\n",
       "      <th>4</th>\n",
       "      <td>USW00012960</td>\n",
       "      <td>2014-01-05</td>\n",
       "      <td>65</td>\n",
       "      <td>13</td>\n",
       "      <td>0.0</td>\n",
       "      <td>0.0</td>\n",
       "      <td>146.0</td>\n",
       "      <td>183.0</td>\n",
       "      <td>17.0</td>\n",
       "      <td>IAH</td>\n",
       "    </tr>\n",
       "  </tbody>\n",
       "</table>\n",
       "</div>"
      ],
      "text/plain": [
       "       STATION        DATE  AWND  PRCP  SNOW  SNWD   TAVG   TMAX  TMIN airport\n",
       "0  USW00012960  2014-01-01    16     0   0.0   0.0  107.0  183.0  78.0     IAH\n",
       "1  USW00012960  2014-01-02    60     3   0.0   0.0  109.0  150.0  28.0     IAH\n",
       "2  USW00012960  2014-01-03    24     0   0.0   0.0   51.0  122.0  -5.0     IAH\n",
       "3  USW00012960  2014-01-04    41     0   0.0   0.0   94.0  189.0  17.0     IAH\n",
       "4  USW00012960  2014-01-05    65    13   0.0   0.0  146.0  183.0  17.0     IAH"
      ]
     },
     "execution_count": 49,
     "metadata": {},
     "output_type": "execute_result"
    }
   ],
   "source": [
    "weather = pd.read_csv(r'C:\\Users\\bbhat\\OneDrive\\Desktop\\Data Science Technology and Systems PG\\FINAL ASSIGNMENT\\Final_Dataset_Combined\\daily-summaries-2024-10-17T07-08-42.csv')\n",
    "station = ['USW00023174','USW00012960','USW00003017','USW00094846',\n",
    "           'USW00013874','USW00023234','USW00003927','USW00023183','USW00013881'] \n",
    "airports = ['LAX', 'IAH', 'DEN', 'ORD', 'ATL', 'SFO', 'DFW', 'PHX', 'CLT']\n",
    "\n",
    "station_map = dict(zip(station, airports))\n",
    "weather['airport'] = weather['STATION'].map(station_map)\n",
    "weather.head()"
   ]
  },
  {
   "cell_type": "code",
   "execution_count": 50,
   "metadata": {},
   "outputs": [
    {
     "data": {
      "text/plain": [
       "(14608, 10)"
      ]
     },
     "execution_count": 50,
     "metadata": {},
     "output_type": "execute_result"
    }
   ],
   "source": [
    " weather.shape"
   ]
  },
  {
   "cell_type": "markdown",
   "metadata": {},
   "source": [
    "Create another column called `MONTH` from the `DATE` column."
   ]
  },
  {
   "cell_type": "code",
   "execution_count": 51,
   "metadata": {
    "scrolled": true
   },
   "outputs": [
    {
     "data": {
      "text/html": [
       "<div>\n",
       "<style scoped>\n",
       "    .dataframe tbody tr th:only-of-type {\n",
       "        vertical-align: middle;\n",
       "    }\n",
       "\n",
       "    .dataframe tbody tr th {\n",
       "        vertical-align: top;\n",
       "    }\n",
       "\n",
       "    .dataframe thead th {\n",
       "        text-align: right;\n",
       "    }\n",
       "</style>\n",
       "<table border=\"1\" class=\"dataframe\">\n",
       "  <thead>\n",
       "    <tr style=\"text-align: right;\">\n",
       "      <th></th>\n",
       "      <th>STATION</th>\n",
       "      <th>DATE</th>\n",
       "      <th>AWND</th>\n",
       "      <th>PRCP</th>\n",
       "      <th>SNOW</th>\n",
       "      <th>SNWD</th>\n",
       "      <th>TAVG</th>\n",
       "      <th>TMAX</th>\n",
       "      <th>TMIN</th>\n",
       "      <th>airport</th>\n",
       "      <th>MONTH</th>\n",
       "    </tr>\n",
       "  </thead>\n",
       "  <tbody>\n",
       "    <tr>\n",
       "      <th>0</th>\n",
       "      <td>USW00012960</td>\n",
       "      <td>2014-01-01</td>\n",
       "      <td>16</td>\n",
       "      <td>0</td>\n",
       "      <td>0.0</td>\n",
       "      <td>0.0</td>\n",
       "      <td>107.0</td>\n",
       "      <td>183.0</td>\n",
       "      <td>78.0</td>\n",
       "      <td>IAH</td>\n",
       "      <td>01</td>\n",
       "    </tr>\n",
       "    <tr>\n",
       "      <th>1</th>\n",
       "      <td>USW00012960</td>\n",
       "      <td>2014-01-02</td>\n",
       "      <td>60</td>\n",
       "      <td>3</td>\n",
       "      <td>0.0</td>\n",
       "      <td>0.0</td>\n",
       "      <td>109.0</td>\n",
       "      <td>150.0</td>\n",
       "      <td>28.0</td>\n",
       "      <td>IAH</td>\n",
       "      <td>01</td>\n",
       "    </tr>\n",
       "    <tr>\n",
       "      <th>2</th>\n",
       "      <td>USW00012960</td>\n",
       "      <td>2014-01-03</td>\n",
       "      <td>24</td>\n",
       "      <td>0</td>\n",
       "      <td>0.0</td>\n",
       "      <td>0.0</td>\n",
       "      <td>51.0</td>\n",
       "      <td>122.0</td>\n",
       "      <td>-5.0</td>\n",
       "      <td>IAH</td>\n",
       "      <td>01</td>\n",
       "    </tr>\n",
       "    <tr>\n",
       "      <th>3</th>\n",
       "      <td>USW00012960</td>\n",
       "      <td>2014-01-04</td>\n",
       "      <td>41</td>\n",
       "      <td>0</td>\n",
       "      <td>0.0</td>\n",
       "      <td>0.0</td>\n",
       "      <td>94.0</td>\n",
       "      <td>189.0</td>\n",
       "      <td>17.0</td>\n",
       "      <td>IAH</td>\n",
       "      <td>01</td>\n",
       "    </tr>\n",
       "    <tr>\n",
       "      <th>4</th>\n",
       "      <td>USW00012960</td>\n",
       "      <td>2014-01-05</td>\n",
       "      <td>65</td>\n",
       "      <td>13</td>\n",
       "      <td>0.0</td>\n",
       "      <td>0.0</td>\n",
       "      <td>146.0</td>\n",
       "      <td>183.0</td>\n",
       "      <td>17.0</td>\n",
       "      <td>IAH</td>\n",
       "      <td>01</td>\n",
       "    </tr>\n",
       "  </tbody>\n",
       "</table>\n",
       "</div>"
      ],
      "text/plain": [
       "       STATION        DATE  AWND  PRCP  SNOW  SNWD   TAVG   TMAX  TMIN  \\\n",
       "0  USW00012960  2014-01-01    16     0   0.0   0.0  107.0  183.0  78.0   \n",
       "1  USW00012960  2014-01-02    60     3   0.0   0.0  109.0  150.0  28.0   \n",
       "2  USW00012960  2014-01-03    24     0   0.0   0.0   51.0  122.0  -5.0   \n",
       "3  USW00012960  2014-01-04    41     0   0.0   0.0   94.0  189.0  17.0   \n",
       "4  USW00012960  2014-01-05    65    13   0.0   0.0  146.0  183.0  17.0   \n",
       "\n",
       "  airport MONTH  \n",
       "0     IAH    01  \n",
       "1     IAH    01  \n",
       "2     IAH    01  \n",
       "3     IAH    01  \n",
       "4     IAH    01  "
      ]
     },
     "execution_count": 51,
     "metadata": {},
     "output_type": "execute_result"
    }
   ],
   "source": [
    "weather['MONTH'] = weather['DATE'].apply(lambda x: x.split('-')[1])\n",
    "weather.head()"
   ]
  },
  {
   "cell_type": "markdown",
   "metadata": {},
   "source": [
    "### Sample output\n",
    "```\n",
    "  STATION     DATE      AWND PRCP SNOW SNWD TAVG TMAX  TMIN airport MONTH\n",
    "0 USW00023174 2014-01-01 16   0   NaN  NaN 131.0 178.0 78.0  LAX    01\n",
    "1 USW00023174 2014-01-02 22   0   NaN  NaN 159.0 256.0 100.0 LAX    01\n",
    "2 USW00023174 2014-01-03 17   0   NaN  NaN 140.0 178.0 83.0  LAX    01\n",
    "3 USW00023174 2014-01-04 18   0   NaN  NaN 136.0 183.0 100.0 LAX    01\n",
    "4 USW00023174 2014-01-05 18   0   NaN  NaN 151.0 244.0 83.0  LAX    01\n",
    "```"
   ]
  },
  {
   "cell_type": "markdown",
   "metadata": {},
   "source": [
    "Analyze and handle the `SNOW` and `SNWD` columns for missing values using `fillna()`. Use the `isna()` function to check the missing values for all the columns."
   ]
  },
  {
   "cell_type": "code",
   "execution_count": 52,
   "metadata": {
    "scrolled": true
   },
   "outputs": [
    {
     "name": "stdout",
     "output_type": "stream",
     "text": [
      "STATION     0\n",
      "DATE        0\n",
      "AWND        0\n",
      "PRCP        0\n",
      "SNOW        0\n",
      "SNWD        0\n",
      "TAVG       62\n",
      "TMAX       20\n",
      "TMIN       20\n",
      "airport     0\n",
      "MONTH       0\n",
      "dtype: int64\n"
     ]
    }
   ],
   "source": [
    "# Fill missing values in the SNOW column with 0 (or use mean or median)\n",
    "weather.SNOW.fillna(0, inplace=True)  # Alternatively, you can use weather.SNOW.fillna(weather.SNOW.mean(), inplace=True)\n",
    "\n",
    "# Fill missing values in the SNWD column with 0 (or use mean or median)\n",
    "weather.SNWD.fillna(0, inplace=True)  # Alternatively, you can use weather.SNWD.fillna(weather.SNWD.mean(), inplace=True)\n",
    "\n",
    "# Check for missing values in all columns\n",
    "missing_values = weather.isna().sum()\n",
    "print(missing_values)\n"
   ]
  },
  {
   "cell_type": "markdown",
   "metadata": {},
   "source": [
    "**Question**: Print the index of the rows that have missing values for TAVG, TMAX, TMIN.\n",
    "\n",
    "**Hint**: Use the `isna()` function to find the rows that are missing, and then use the list on the idx variable to get the index."
   ]
  },
  {
   "cell_type": "code",
   "execution_count": 53,
   "metadata": {},
   "outputs": [
    {
     "name": "stdout",
     "output_type": "stream",
     "text": [
      "Indices with missing values for TAVG: [ 2130  2131  2132  2133  2134  2135  2136  2137  2138  2139  2140  2141\n",
      "  2142  2143  2144  2145  2146  2147  2148  2149  2150  2151  2152  2153\n",
      "  2154  2155  2156  2157  2158  2159  2191  2192  2193  2194  2195  2196\n",
      "  2197  2198  2199  2200  2201  2202  2203  2204  2205  2206  2207  2208\n",
      "  2209  2210  2211  2212  2213  2214  2215  2216  2217  2218  2219  2220\n",
      "  2221 11594]\n",
      "Indices with missing values for TMAX: [8937 8938 8939 8940 8941 8942 8943 8944 8945 8946 8947 8948 8949 8950\n",
      " 8951 8952 8953 8954 8955 8956]\n",
      "Indices with missing values for TMIN: [8937 8938 8939 8940 8941 8942 8943 8944 8945 8946 8947 8948 8949 8950\n",
      " 8951 8952 8953 8954 8955 8956]\n"
     ]
    }
   ],
   "source": [
    "# Create a NumPy array of indices\n",
    "idx = np.array([i for i in range(len(weather))])\n",
    "\n",
    "# Find indices where TAVG, TMAX, and TMIN are NaN\n",
    "TAVG_idx = idx[weather['TAVG'].isna()]\n",
    "TMAX_idx = idx[weather['TMAX'].isna()]\n",
    "TMIN_idx = idx[weather['TMIN'].isna()]\n",
    "\n",
    "# Print the indices\n",
    "print(\"Indices with missing values for TAVG:\", TAVG_idx)\n",
    "print(\"Indices with missing values for TMAX:\", TMAX_idx)\n",
    "print(\"Indices with missing values for TMIN:\", TMIN_idx)\n"
   ]
  },
  {
   "cell_type": "markdown",
   "metadata": {},
   "source": [
    "### Sample output\n",
    "\n",
    "```\n",
    "array([ 3956,  3957,  3958,  3959,  3960,  3961,  3962,  3963,  3964,\n",
    "        3965,  3966,  3967,  3968,  3969,  3970,  3971,  3972,  3973,\n",
    "        3974,  3975,  3976,  3977,  3978,  3979,  3980,  3981,  3982,\n",
    "        3983,  3984,  3985,  4017,  4018,  4019,  4020,  4021,  4022,\n",
    "        4023,  4024,  4025,  4026,  4027,  4028,  4029,  4030,  4031,\n",
    "        4032,  4033,  4034,  4035,  4036,  4037,  4038,  4039,  4040,\n",
    "        4041,  4042,  4043,  4044,  4045,  4046,  4047, 13420])\n",
    "```"
   ]
  },
  {
   "cell_type": "markdown",
   "metadata": {},
   "source": [
    "You can replace the missing TAVG, TMAX, and TMIN with the average value for a particular station/airport. Because the consecutive rows of TAVG_idx are missing, replacing with a previous value would not be possible. Instead, replace it with the mean. Use the `groupby` function to aggregate the variables with a mean value."
   ]
  },
  {
   "cell_type": "code",
   "execution_count": 54,
   "metadata": {},
   "outputs": [
    {
     "data": {
      "text/html": [
       "<div>\n",
       "<style scoped>\n",
       "    .dataframe tbody tr th:only-of-type {\n",
       "        vertical-align: middle;\n",
       "    }\n",
       "\n",
       "    .dataframe tbody tr th {\n",
       "        vertical-align: top;\n",
       "    }\n",
       "\n",
       "    .dataframe thead th {\n",
       "        text-align: right;\n",
       "    }\n",
       "</style>\n",
       "<table border=\"1\" class=\"dataframe\">\n",
       "  <thead>\n",
       "    <tr style=\"text-align: right;\">\n",
       "      <th></th>\n",
       "      <th>STATION</th>\n",
       "      <th>airport</th>\n",
       "      <th>TAVG</th>\n",
       "      <th>TMAX</th>\n",
       "      <th>TMIN</th>\n",
       "    </tr>\n",
       "  </thead>\n",
       "  <tbody>\n",
       "    <tr>\n",
       "      <th>0</th>\n",
       "      <td>USW00003017</td>\n",
       "      <td>DEN</td>\n",
       "      <td>112.931445</td>\n",
       "      <td>190.020263</td>\n",
       "      <td>32.978642</td>\n",
       "    </tr>\n",
       "    <tr>\n",
       "      <th>1</th>\n",
       "      <td>USW00003927</td>\n",
       "      <td>DFW</td>\n",
       "      <td>198.463308</td>\n",
       "      <td>256.026287</td>\n",
       "      <td>143.678532</td>\n",
       "    </tr>\n",
       "    <tr>\n",
       "      <th>2</th>\n",
       "      <td>USW00012960</td>\n",
       "      <td>IAH</td>\n",
       "      <td>212.037240</td>\n",
       "      <td>268.795181</td>\n",
       "      <td>161.481380</td>\n",
       "    </tr>\n",
       "    <tr>\n",
       "      <th>3</th>\n",
       "      <td>USW00013874</td>\n",
       "      <td>ATL</td>\n",
       "      <td>177.764513</td>\n",
       "      <td>232.630887</td>\n",
       "      <td>128.889923</td>\n",
       "    </tr>\n",
       "    <tr>\n",
       "      <th>4</th>\n",
       "      <td>USW00013881</td>\n",
       "      <td>CLT</td>\n",
       "      <td>168.911281</td>\n",
       "      <td>228.566265</td>\n",
       "      <td>107.873494</td>\n",
       "    </tr>\n",
       "  </tbody>\n",
       "</table>\n",
       "</div>"
      ],
      "text/plain": [
       "       STATION airport        TAVG        TMAX        TMIN\n",
       "0  USW00003017     DEN  112.931445  190.020263   32.978642\n",
       "1  USW00003927     DFW  198.463308  256.026287  143.678532\n",
       "2  USW00012960     IAH  212.037240  268.795181  161.481380\n",
       "3  USW00013874     ATL  177.764513  232.630887  128.889923\n",
       "4  USW00013881     CLT  168.911281  228.566265  107.873494"
      ]
     },
     "execution_count": 54,
     "metadata": {},
     "output_type": "execute_result"
    }
   ],
   "source": [
    "\n",
    "weather_impute = weather.groupby(['STATION', 'airport']).agg({'TAVG': 'mean', 'TMAX': 'mean', 'TMIN': 'mean'}).reset_index()\n",
    "weather_impute.head(5)\n"
   ]
  },
  {
   "cell_type": "code",
   "execution_count": 55,
   "metadata": {},
   "outputs": [
    {
     "data": {
      "text/plain": [
       "Index(['STATION', 'DATE', 'AWND', 'PRCP', 'SNOW', 'SNWD', 'TAVG', 'TMAX',\n",
       "       'TMIN', 'airport', 'MONTH'],\n",
       "      dtype='object')"
      ]
     },
     "execution_count": 55,
     "metadata": {},
     "output_type": "execute_result"
    }
   ],
   "source": [
    " weather.columns"
   ]
  },
  {
   "cell_type": "code",
   "execution_count": 56,
   "metadata": {},
   "outputs": [
    {
     "data": {
      "text/plain": [
       "Index(['STATION', 'airport', 'TAVG', 'TMAX', 'TMIN'], dtype='object')"
      ]
     },
     "execution_count": 56,
     "metadata": {},
     "output_type": "execute_result"
    }
   ],
   "source": [
    "weather_impute.columns"
   ]
  },
  {
   "cell_type": "markdown",
   "metadata": {},
   "source": [
    "Merge the mean data with the weather data."
   ]
  },
  {
   "cell_type": "code",
   "execution_count": 57,
   "metadata": {},
   "outputs": [
    {
     "name": "stdout",
     "output_type": "stream",
     "text": [
      "Weather Columns: Index(['STATION', 'DATE', 'AWND', 'PRCP', 'SNOW', 'SNWD', 'TAVG', 'TMAX',\n",
      "       'TMIN', 'airport', 'MONTH'],\n",
      "      dtype='object')\n",
      "       STATION        DATE  AWND  PRCP  SNOW  SNWD   TAVG   TMAX  TMIN  \\\n",
      "0  USW00012960  2014-01-01    16     0   0.0   0.0  107.0  183.0  78.0   \n",
      "1  USW00012960  2014-01-02    60     3   0.0   0.0  109.0  150.0  28.0   \n",
      "2  USW00012960  2014-01-03    24     0   0.0   0.0   51.0  122.0  -5.0   \n",
      "3  USW00012960  2014-01-04    41     0   0.0   0.0   94.0  189.0  17.0   \n",
      "4  USW00012960  2014-01-05    65    13   0.0   0.0  146.0  183.0  17.0   \n",
      "\n",
      "  airport MONTH    TAVG_AVG   TMAX_AVG   TMIN_AVG  \n",
      "0     IAH    01  110.535484  170.43871  52.425806  \n",
      "1     IAH    01  110.535484  170.43871  52.425806  \n",
      "2     IAH    01  110.535484  170.43871  52.425806  \n",
      "3     IAH    01  110.535484  170.43871  52.425806  \n",
      "4     IAH    01  110.535484  170.43871  52.425806  \n"
     ]
    }
   ],
   "source": [
    "\n",
    "# Check the columns in weather DataFrame\n",
    "print(\"Weather Columns:\", weather.columns)\n",
    "\n",
    "# Create 'MONTH' column if it does not exist\n",
    "if 'MONTH' not in weather.columns:\n",
    "    weather['MONTH'] = pd.to_datetime(weather['DATE']).dt.month.astype(str).str.zfill(2)\n",
    "\n",
    "# Assume weather_impute is already created and contains 'MONTH' and 'STATION'\n",
    "weather_impute = weather.groupby(['MONTH', 'STATION']).agg({'TAVG': 'mean', 'TMAX': 'mean', 'TMIN': 'mean'}).reset_index()\n",
    "\n",
    "# Now, merge the data\n",
    "weather = pd.merge(\n",
    "    weather, \n",
    "    weather_impute,  \n",
    "    how='left', \n",
    "    on=['MONTH', 'STATION']\n",
    ").rename(columns={\n",
    "    'TAVG_y': 'TAVG_AVG',\n",
    "    'TMAX_y': 'TMAX_AVG',\n",
    "    'TMIN_y': 'TMIN_AVG',\n",
    "    'TAVG_x': 'TAVG',\n",
    "    'TMAX_x': 'TMAX',\n",
    "    'TMIN_x': 'TMIN'\n",
    "})\n",
    "\n",
    "# Display the merged DataFrame\n",
    "print(weather.head())\n"
   ]
  },
  {
   "cell_type": "markdown",
   "metadata": {},
   "source": [
    "Check for missing values again."
   ]
  },
  {
   "cell_type": "code",
   "execution_count": 58,
   "metadata": {},
   "outputs": [
    {
     "data": {
      "text/plain": [
       "STATION     0\n",
       "DATE        0\n",
       "AWND        0\n",
       "PRCP        0\n",
       "SNOW        0\n",
       "SNWD        0\n",
       "TAVG        0\n",
       "TMAX        0\n",
       "TMIN        0\n",
       "airport     0\n",
       "MONTH       0\n",
       "TAVG_AVG    0\n",
       "TMAX_AVG    0\n",
       "TMIN_AVG    0\n",
       "dtype: int64"
      ]
     },
     "execution_count": 58,
     "metadata": {},
     "output_type": "execute_result"
    }
   ],
   "source": [
    "weather.TAVG[TAVG_idx] = weather.TAVG_AVG[TAVG_idx]\n",
    "weather.TMAX[TMAX_idx] = weather.TMAX_AVG[TMAX_idx]\n",
    "weather.TMIN[TMIN_idx] = weather.TMIN_AVG[TMIN_idx]\n",
    "weather.isna().sum()"
   ]
  },
  {
   "cell_type": "markdown",
   "metadata": {},
   "source": [
    "Drop `STATION,MONTH,TAVG_AVG,TMAX_AVG,TMIN_AVG,TMAX,TMIN,SNWD` from the dataset"
   ]
  },
  {
   "cell_type": "code",
   "execution_count": 59,
   "metadata": {},
   "outputs": [],
   "source": [
    "weather.drop(columns=['STATION','MONTH','TAVG_AVG', 'TMAX_AVG', 'TMIN_AVG', 'TMAX' ,'TMIN', 'SNWD'],inplace=True)"
   ]
  },
  {
   "cell_type": "markdown",
   "metadata": {},
   "source": [
    "Add the origin and destination weather conditions to the dataset."
   ]
  },
  {
   "cell_type": "code",
   "execution_count": 60,
   "metadata": {},
   "outputs": [
    {
     "name": "stdout",
     "output_type": "stream",
     "text": [
      "   Year  Quarter  Month  DayofMonth  DayOfWeek FlightDate Reporting_Airline  \\\n",
      "0  2014        1      1          26          7 2014-01-26                DL   \n",
      "1  2014        1      1          26          7 2014-01-26                DL   \n",
      "2  2014        1      1          26          7 2014-01-26                DL   \n",
      "3  2014        1      1          26          7 2014-01-26                DL   \n",
      "4  2014        1      1          26          7 2014-01-26                DL   \n",
      "\n",
      "  Origin OriginState Dest  ... DepHourofDay  is_holiday  AWND_O  PRCP_O  \\\n",
      "0    ATL          GA  IAH  ...           21           0    33.0     0.0   \n",
      "1    DFW          TX  ATL  ...            9           0    39.0     0.0   \n",
      "2    ATL          GA  DEN  ...           18           0    33.0     0.0   \n",
      "3    ATL          GA  PHX  ...           16           0    33.0     0.0   \n",
      "4    PHX          AZ  ATL  ...            7           0    20.0     0.0   \n",
      "\n",
      "   SNOW_O  TAVG_O  AWND_D  PRCP_D  SNOW_D  TAVG_D  \n",
      "0     0.0    54.0    30.0     0.0     0.0   130.0  \n",
      "1     0.0   136.0    33.0     0.0     0.0    54.0  \n",
      "2     0.0    54.0    77.0     0.0     0.0    68.0  \n",
      "3     0.0    54.0    20.0     0.0     0.0   165.0  \n",
      "4     0.0   165.0    33.0     0.0     0.0    54.0  \n",
      "\n",
      "[5 rows x 30 columns]\n"
     ]
    }
   ],
   "source": [
    "import pandas as pd\n",
    "\n",
    "# Assuming data_orig and weather are already defined and weather is loaded\n",
    "\n",
    "# Convert the DATE column in the weather DataFrame to datetime\n",
    "weather['DATE'] = pd.to_datetime(weather['DATE'])\n",
    "\n",
    "# Ensure FlightDate in data_orig is also of datetime type if not already\n",
    "data_orig['FlightDate'] = pd.to_datetime(data_orig['FlightDate'])\n",
    "\n",
    "### Add origin weather conditions\n",
    "data_orig = pd.merge(\n",
    "    data_orig, \n",
    "    weather,  \n",
    "    how='left', \n",
    "    left_on=['FlightDate', 'Origin'], \n",
    "    right_on=['DATE', 'airport']\n",
    ").rename(columns={\n",
    "    'AWND': 'AWND_O',\n",
    "    'PRCP': 'PRCP_O', \n",
    "    'TAVG': 'TAVG_O', \n",
    "    'SNOW': 'SNOW_O'\n",
    "}).drop(columns=['DATE', 'airport'])\n",
    "\n",
    "### Add destination weather conditions\n",
    "data_orig = pd.merge(\n",
    "    data_orig, \n",
    "    weather,  \n",
    "    how='left', \n",
    "    left_on=['FlightDate', 'Dest'], \n",
    "    right_on=['DATE', 'airport']\n",
    ").rename(columns={\n",
    "    'AWND': 'AWND_D',\n",
    "    'PRCP': 'PRCP_D', \n",
    "    'TAVG': 'TAVG_D', \n",
    "    'SNOW': 'SNOW_D'\n",
    "}).drop(columns=['DATE', 'airport'])\n",
    "\n",
    "# Display the resulting DataFrame\n",
    "print(data_orig.head())\n"
   ]
  },
  {
   "cell_type": "markdown",
   "metadata": {},
   "source": [
    "**Note**: It is always a good practice to check nulls/NAs after joins."
   ]
  },
  {
   "cell_type": "code",
   "execution_count": 61,
   "metadata": {},
   "outputs": [
    {
     "data": {
      "text/plain": [
       "1"
      ]
     },
     "execution_count": 61,
     "metadata": {},
     "output_type": "execute_result"
    }
   ],
   "source": [
    "sum(data.isna().any())"
   ]
  },
  {
   "cell_type": "code",
   "execution_count": 62,
   "metadata": {},
   "outputs": [
    {
     "data": {
      "text/plain": [
       "Index(['Year', 'Quarter', 'Month', 'DayofMonth', 'DayOfWeek', 'FlightDate',\n",
       "       'Reporting_Airline', 'Origin', 'OriginState', 'Dest', 'DestState',\n",
       "       'CRSDepTime', 'Cancelled', 'Diverted', 'Distance', 'DistanceGroup',\n",
       "       'ArrDelay', 'ArrDelayMinutes', 'is_delay', 'AirTime', 'DepHourofDay',\n",
       "       'is_holiday', 'AWND_O', 'PRCP_O', 'SNOW_O', 'TAVG_O', 'AWND_D',\n",
       "       'PRCP_D', 'SNOW_D', 'TAVG_D'],\n",
       "      dtype='object')"
      ]
     },
     "execution_count": 62,
     "metadata": {},
     "output_type": "execute_result"
    }
   ],
   "source": [
    "data_orig.columns"
   ]
  },
  {
   "cell_type": "markdown",
   "metadata": {},
   "source": [
    "Convert the categorical data into numerical data using one-hot encoding."
   ]
  },
  {
   "cell_type": "code",
   "execution_count": 63,
   "metadata": {},
   "outputs": [],
   "source": [
    "data = data_orig.copy()\n",
    "data = data[['is_delay', 'Year', 'Quarter', 'Month', 'DayofMonth', 'DayOfWeek', \n",
    "       'Reporting_Airline', 'Origin', 'Dest','Distance','DepHourofDay','is_holiday', 'AWND_O', 'PRCP_O',\n",
    "       'TAVG_O', 'AWND_D', 'PRCP_D', 'TAVG_D', 'SNOW_O', 'SNOW_D']]\n",
    "\n",
    "\n",
    "categorical_columns  = ['Year', 'Quarter', 'Month', 'DayofMonth', 'DayOfWeek', \n",
    "       'Reporting_Airline', 'Origin', 'Dest', 'is_holiday']\n",
    "for c in categorical_columns:\n",
    "    data[c] = data[c].astype('category')"
   ]
  },
  {
   "cell_type": "code",
   "execution_count": 64,
   "metadata": {},
   "outputs": [
    {
     "name": "stdout",
     "output_type": "stream",
     "text": [
      "DataFrame Columns:\n",
      "Index(['is_delay', 'Year', 'Quarter', 'Month', 'DayofMonth', 'DayOfWeek',\n",
      "       'Reporting_Airline', 'Origin', 'Dest', 'Distance', 'DepHourofDay',\n",
      "       'is_holiday', 'AWND_O', 'PRCP_O', 'TAVG_O', 'AWND_D', 'PRCP_D',\n",
      "       'TAVG_D', 'SNOW_O', 'SNOW_D'],\n",
      "      dtype='object')\n",
      "Final DataFrame Columns:\n",
      "Index(['is_delay', 'Distance', 'DepHourofDay', 'AWND_O', 'PRCP_O', 'TAVG_O',\n",
      "       'AWND_D', 'PRCP_D', 'TAVG_D', 'SNOW_O', 'SNOW_D', 'Year_2015',\n",
      "       'Year_2016', 'Year_2017', 'Year_2018', 'Quarter_2', 'Quarter_3',\n",
      "       'Quarter_4', 'Month_2', 'Month_3', 'Month_4', 'Month_5', 'Month_6',\n",
      "       'Month_7', 'Month_8', 'Month_9', 'Month_10', 'Month_11', 'Month_12',\n",
      "       'DayofMonth_2', 'DayofMonth_3', 'DayofMonth_4', 'DayofMonth_5',\n",
      "       'DayofMonth_6', 'DayofMonth_7', 'DayofMonth_8', 'DayofMonth_9',\n",
      "       'DayofMonth_10', 'DayofMonth_11', 'DayofMonth_12', 'DayofMonth_13',\n",
      "       'DayofMonth_14', 'DayofMonth_15', 'DayofMonth_16', 'DayofMonth_17',\n",
      "       'DayofMonth_18', 'DayofMonth_19', 'DayofMonth_20', 'DayofMonth_21',\n",
      "       'DayofMonth_22', 'DayofMonth_23', 'DayofMonth_24', 'DayofMonth_25',\n",
      "       'DayofMonth_26', 'DayofMonth_27', 'DayofMonth_28', 'DayofMonth_29',\n",
      "       'DayofMonth_30', 'DayofMonth_31', 'DayOfWeek_2', 'DayOfWeek_3',\n",
      "       'DayOfWeek_4', 'DayOfWeek_5', 'DayOfWeek_6', 'DayOfWeek_7',\n",
      "       'Reporting_Airline_DL', 'Reporting_Airline_OO', 'Reporting_Airline_UA',\n",
      "       'Reporting_Airline_WN', 'Origin_CLT', 'Origin_DEN', 'Origin_DFW',\n",
      "       'Origin_IAH', 'Origin_LAX', 'Origin_ORD', 'Origin_PHX', 'Origin_SFO',\n",
      "       'Dest_CLT', 'Dest_DEN', 'Dest_DFW', 'Dest_IAH', 'Dest_LAX', 'Dest_ORD',\n",
      "       'Dest_PHX', 'Dest_SFO', 'is_holiday_1'],\n",
      "      dtype='object')\n"
     ]
    }
   ],
   "source": [
    "import pandas as pd\n",
    "\n",
    "# Print the columns of the DataFrame to verify available columns\n",
    "print(\"DataFrame Columns:\")\n",
    "print(data.columns)\n",
    "\n",
    "# Assuming the correct column names are confirmed, adjust below\n",
    "try:\n",
    "    # Create dummy variables for the relevant categorical columns\n",
    "    data_dummies = pd.get_dummies(data[['Year', 'Quarter', 'Month', 'DayofMonth', \n",
    "                                         'DayOfWeek', 'Reporting_Airline', 'Origin', 'Dest', 'is_holiday']], drop_first=True)\n",
    "\n",
    "    # Concatenate the dummy variables to the original data\n",
    "    data = pd.concat([data, data_dummies], axis=1)\n",
    "\n",
    "    # Define the categorical columns\n",
    "    categorical_columns = ['Year', 'Quarter', 'Month', 'DayofMonth', 'DayOfWeek', \n",
    "                           'Reporting_Airline', 'Origin', 'Dest', 'is_holiday']\n",
    "\n",
    "    # Check if 'is_delay' is in the list before removing it\n",
    "    if 'is_delay' in categorical_columns:\n",
    "        categorical_columns.remove('is_delay')\n",
    "\n",
    "    # Drop the original categorical columns from the data\n",
    "    data.drop(categorical_columns, axis=1, inplace=True)\n",
    "\n",
    "    # Output the final index of the DataFrame to match the expected result\n",
    "    print(\"Final DataFrame Columns:\")\n",
    "    print(data.columns)\n",
    "\n",
    "except KeyError as e:\n",
    "    print(f\"Error: {e}. Please check the column names in your DataFrame.\")\n"
   ]
  },
  {
   "cell_type": "markdown",
   "metadata": {},
   "source": [
    "### Sample code\n",
    "\n",
    "```\n",
    "data_dummies = pd.get_dummies(data[['Year', 'Quarter', 'Month', 'DayofMonth', 'DayOfWeek', 'Reporting_Airline', 'Origin', 'Dest', 'is_holiday']], drop_first=True)\n",
    "data = pd.concat([data, data_dummies], axis = 1)\n",
    "categorical_columns.remove('is_delay')\n",
    "data.drop(categorical_columns,axis=1, inplace=True)\n",
    "```"
   ]
  },
  {
   "cell_type": "markdown",
   "metadata": {},
   "source": [
    "Check the new columns."
   ]
  },
  {
   "cell_type": "code",
   "execution_count": 65,
   "metadata": {},
   "outputs": [
    {
     "data": {
      "text/plain": [
       "Index(['is_delay', 'Distance', 'DepHourofDay', 'AWND_O', 'PRCP_O', 'TAVG_O',\n",
       "       'AWND_D', 'PRCP_D', 'TAVG_D', 'SNOW_O', 'SNOW_D', 'Year_2015',\n",
       "       'Year_2016', 'Year_2017', 'Year_2018', 'Quarter_2', 'Quarter_3',\n",
       "       'Quarter_4', 'Month_2', 'Month_3', 'Month_4', 'Month_5', 'Month_6',\n",
       "       'Month_7', 'Month_8', 'Month_9', 'Month_10', 'Month_11', 'Month_12',\n",
       "       'DayofMonth_2', 'DayofMonth_3', 'DayofMonth_4', 'DayofMonth_5',\n",
       "       'DayofMonth_6', 'DayofMonth_7', 'DayofMonth_8', 'DayofMonth_9',\n",
       "       'DayofMonth_10', 'DayofMonth_11', 'DayofMonth_12', 'DayofMonth_13',\n",
       "       'DayofMonth_14', 'DayofMonth_15', 'DayofMonth_16', 'DayofMonth_17',\n",
       "       'DayofMonth_18', 'DayofMonth_19', 'DayofMonth_20', 'DayofMonth_21',\n",
       "       'DayofMonth_22', 'DayofMonth_23', 'DayofMonth_24', 'DayofMonth_25',\n",
       "       'DayofMonth_26', 'DayofMonth_27', 'DayofMonth_28', 'DayofMonth_29',\n",
       "       'DayofMonth_30', 'DayofMonth_31', 'DayOfWeek_2', 'DayOfWeek_3',\n",
       "       'DayOfWeek_4', 'DayOfWeek_5', 'DayOfWeek_6', 'DayOfWeek_7',\n",
       "       'Reporting_Airline_DL', 'Reporting_Airline_OO', 'Reporting_Airline_UA',\n",
       "       'Reporting_Airline_WN', 'Origin_CLT', 'Origin_DEN', 'Origin_DFW',\n",
       "       'Origin_IAH', 'Origin_LAX', 'Origin_ORD', 'Origin_PHX', 'Origin_SFO',\n",
       "       'Dest_CLT', 'Dest_DEN', 'Dest_DFW', 'Dest_IAH', 'Dest_LAX', 'Dest_ORD',\n",
       "       'Dest_PHX', 'Dest_SFO', 'is_holiday_1'],\n",
       "      dtype='object')"
      ]
     },
     "execution_count": 65,
     "metadata": {},
     "output_type": "execute_result"
    }
   ],
   "source": [
    "data.columns"
   ]
  },
  {
   "cell_type": "markdown",
   "metadata": {},
   "source": [
    "### Sample output\n",
    "\n",
    "```\n",
    "Index(['Distance', 'DepHourofDay', 'is_delay', 'AWND_O', 'PRCP_O', 'TAVG_O',\n",
    "       'AWND_D', 'PRCP_D', 'TAVG_D', 'SNOW_O', 'SNOW_D', 'Year_2015',\n",
    "       'Year_2016', 'Year_2017', 'Year_2018', 'Quarter_2', 'Quarter_3',\n",
    "       'Quarter_4', 'Month_2', 'Month_3', 'Month_4', 'Month_5', 'Month_6',\n",
    "       'Month_7', 'Month_8', 'Month_9', 'Month_10', 'Month_11', 'Month_12',\n",
    "       'DayofMonth_2', 'DayofMonth_3', 'DayofMonth_4', 'DayofMonth_5',\n",
    "       'DayofMonth_6', 'DayofMonth_7', 'DayofMonth_8', 'DayofMonth_9',\n",
    "       'DayofMonth_10', 'DayofMonth_11', 'DayofMonth_12', 'DayofMonth_13',\n",
    "       'DayofMonth_14', 'DayofMonth_15', 'DayofMonth_16', 'DayofMonth_17',\n",
    "       'DayofMonth_18', 'DayofMonth_19', 'DayofMonth_20', 'DayofMonth_21',\n",
    "       'DayofMonth_22', 'DayofMonth_23', 'DayofMonth_24', 'DayofMonth_25',\n",
    "       'DayofMonth_26', 'DayofMonth_27', 'DayofMonth_28', 'DayofMonth_29',\n",
    "       'DayofMonth_30', 'DayofMonth_31', 'DayOfWeek_2', 'DayOfWeek_3',\n",
    "       'DayOfWeek_4', 'DayOfWeek_5', 'DayOfWeek_6', 'DayOfWeek_7',\n",
    "       'Reporting_Airline_DL', 'Reporting_Airline_OO', 'Reporting_Airline_UA',\n",
    "       'Reporting_Airline_WN', 'Origin_CLT', 'Origin_DEN', 'Origin_DFW',\n",
    "       'Origin_IAH', 'Origin_LAX', 'Origin_ORD', 'Origin_PHX', 'Origin_SFO',\n",
    "       'Dest_CLT', 'Dest_DEN', 'Dest_DFW', 'Dest_IAH', 'Dest_LAX', 'Dest_ORD',\n",
    "       'Dest_PHX', 'Dest_SFO', 'is_holiday_1'],\n",
    "      dtype='object')\n",
    "```"
   ]
  },
  {
   "cell_type": "markdown",
   "metadata": {},
   "source": [
    "Rename the `is_delay` column to `target` again. Use the same code as before."
   ]
  },
  {
   "cell_type": "code",
   "execution_count": 109,
   "metadata": {},
   "outputs": [],
   "source": [
    "data.rename(columns={'is_delay': 'target'}, inplace=True)\n"
   ]
  },
  {
   "cell_type": "code",
   "execution_count": 67,
   "metadata": {},
   "outputs": [
    {
     "name": "stdout",
     "output_type": "stream",
     "text": [
      "CSV file 'combined_csv_v2.csv' has been saved successfully.\n"
     ]
    }
   ],
   "source": [
    "# Save the new combined DataFrame as a CSV file\n",
    "data.to_csv('combined_csv_v2.csv', index=False)\n",
    "\n",
    "# Print a confirmation message\n",
    "print(\"CSV file 'combined_csv_v2.csv' has been saved successfully.\")\n"
   ]
  },
  {
   "cell_type": "markdown",
   "metadata": {},
   "source": [
    "Create the training and testing sets again."
   ]
  },
  {
   "cell_type": "code",
   "execution_count": 110,
   "metadata": {},
   "outputs": [],
   "source": [
    "train_data2, test_data2 = train_test_split(data, test_size=0.2, random_state=42)"
   ]
  },
  {
   "cell_type": "markdown",
   "metadata": {},
   "source": [
    "### New baseline classifier\n",
    "\n",
    "Now, see if these new features add any predictive power to the model."
   ]
  },
  {
   "cell_type": "code",
   "execution_count": 112,
   "metadata": {},
   "outputs": [
    {
     "name": "stdout",
     "output_type": "stream",
     "text": [
      "Accuracy: 0.7915\n",
      "Precision: 0.4459\n",
      "Recall: 0.0210\n",
      "Confusion Matrix:\n",
      " [[261034   1792]\n",
      " [ 67358   1442]]\n"
     ]
    }
   ],
   "source": [
    "import pandas as pd\n",
    "from sklearn.model_selection import train_test_split\n",
    "from sklearn.linear_model import LogisticRegression\n",
    "from sklearn.metrics import accuracy_score, precision_score, recall_score, confusion_matrix\n",
    "\n",
    "# Load your dataset\n",
    "# data = pd.read_csv('path_to_your_data.csv')\n",
    "\n",
    "# Fill missing values with 0\n",
    "data.fillna(0, inplace=True)\n",
    "\n",
    "# Split features and target variable\n",
    "X = data.drop('target', axis=1)\n",
    "y = data['target']\n",
    "\n",
    "# Train-test split\n",
    "X_train, X_test, y_train, y_test = train_test_split(X, y, test_size=0.2, random_state=42)\n",
    "\n",
    "# Train logistic regression model\n",
    "classifier2 = LogisticRegression()\n",
    "classifier2.fit(X_train, y_train)\n",
    "\n",
    "# Make predictions\n",
    "y_pred = classifier2.predict(X_test)\n",
    "\n",
    "# Evaluate model performance\n",
    "print(f\"Accuracy: {accuracy_score(y_test, y_pred):.4f}\")\n",
    "print(f\"Precision: {precision_score(y_test, y_pred):.4f}\")\n",
    "print(f\"Recall: {recall_score(y_test, y_pred):.4f}\")\n",
    "print(\"Confusion Matrix:\\n\", confusion_matrix(y_test, y_pred))\n"
   ]
  },
  {
   "cell_type": "markdown",
   "metadata": {},
   "source": [
    "Perform the evaluaion as you have done with the previous model and plot/show the same metrics"
   ]
  },
  {
   "cell_type": "markdown",
   "metadata": {},
   "source": [
    "Question: did you notice a difference by adding the extra data on the results?"
   ]
  },
  {
   "cell_type": "code",
   "execution_count": 116,
   "metadata": {},
   "outputs": [
    {
     "name": "stdout",
     "output_type": "stream",
     "text": [
      "Accuracy: 0.7915\n",
      "Precision: 0.4459\n",
      "Recall: 0.0210\n",
      "F1 Score: 0.0400\n"
     ]
    },
    {
     "data": {
      "image/png": "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",
      "text/plain": [
       "<Figure size 800x600 with 2 Axes>"
      ]
     },
     "metadata": {},
     "output_type": "display_data"
    },
    {
     "data": {
      "image/png": "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",
      "text/plain": [
       "<Figure size 800x600 with 1 Axes>"
      ]
     },
     "metadata": {},
     "output_type": "display_data"
    }
   ],
   "source": [
    "from sklearn.metrics import accuracy_score, precision_score, recall_score, f1_score\n",
    "\n",
    "# Make predictions on the test set\n",
    "y_pred = classifier2.predict(X_test)\n",
    "\n",
    "# Calculate metrics\n",
    "accuracy = accuracy_score(y_test, y_pred)\n",
    "precision = precision_score(y_test, y_pred)\n",
    "recall = recall_score(y_test, y_pred)\n",
    "f1 = f1_score(y_test, y_pred)\n",
    "\n",
    "# Print evaluation metrics\n",
    "print(f\"Accuracy: {accuracy:.4f}\")\n",
    "print(f\"Precision: {precision:.4f}\")\n",
    "print(f\"Recall: {recall:.4f}\")\n",
    "print(f\"F1 Score: {f1:.4f}\")\n",
    "\n",
    "# Plot confusion matrix and ROC curve\n",
    "plot_confusion_matrix(y_test, y_pred)\n",
    "y_scores = classifier2.predict_proba(X_test)[:, 1]  # Probability of positive class\n",
    "plot_roc_curve(y_test, y_scores)\n"
   ]
  },
  {
   "cell_type": "markdown",
   "metadata": {},
   "source": [
    "\n",
    "### Explanation of the Evaluation\n",
    "1. **Accuracy**: The ratio of correctly predicted instances to the total instances.\n",
    "2. **Precision**: The ratio of true positive predictions to the total predicted positives, indicating how many of the predicted delays were actual delays.\n",
    "3. **Recall**: The ratio of true positive predictions to the total actual positives, showing how many of the actual delays were predicted correctly.\n",
    "4. **F1 Score**: The harmonic mean of precision and recall, providing a balance between the two.\n",
    "\n",
    "### Answer to the Question\n",
    "After running the evaluation metrics and visualizing the results with the additional data:\n",
    "\n",
    "- **Differences in Results**: You should compare the accuracy, precision, recall, and F1 score of the new model (`classifier2`) with the previous model. \n",
    "- **Analysis**: If there is an improvement in these metrics, it indicates that the additional features you included (like weather conditions) have contributed positively to the model's predictive power. Conversely, if the performance is similar or worse, it might suggest that the extra features did not provide valuable information or potentially added noise to the model.\n",
    "\n",
    "### Conclusion\n",
    "After you execute the above evaluation code, summarize the findings based on the output metrics. Consider whether the added features led to a better understanding of the data and improved the model's performance in predicting delays."
   ]
  },
  {
   "cell_type": "markdown",
   "metadata": {},
   "source": [
    "# Step 6: Using Tableau\n",
    "\n",
    "Use Tableau to load the combined_csv_v2.csv file and build a dashboard that show your understanding of the data and business problem. \n",
    "### what to do:\n",
    "1. Load the data into Tableau and build the dashboard\n",
    "2. Share the dashboard on your Tableau public account \n",
    "3. Copy the link of the shared dashboard below\n",
    "\n",
    "Note: The dashboard needs to be self explainable to others, so make it simple and add only the features that you feel heighlight the main question(s) of the prblem statement."
   ]
  },
  {
   "cell_type": "code",
   "execution_count": 19,
   "metadata": {},
   "outputs": [],
   "source": [
<<<<<<< HEAD
    "https://public.tableau.com/app/profile/binish.bhattarai/viz/Book1_17304275015740/Dashboard1?publish=yes"
=======
    "# copy the link here"
>>>>>>> 18f21472a06743082ff72df29bcf276137cfe8a4
   ]
  },
  {
   "cell_type": "markdown",
   "metadata": {},
   "source": [
    "## Conclusion\n",
    "\n",
    "You've now gone through at least a couple iterations of training and evaluating your model. It's time to wrap up this project and reflect on what you've learned and what types of steps you might take moving forward (assuming you had more time). Use the cell below to answer some of these and other relevant questions:\n",
    "\n",
    "1. Does your model performance meet your business goal? If not, what are some things you'd like to do differently if you had more time for tuning?\n",
    "2. To what extent did your model improve as you made changes to your dataset? What types of techniques did you employ throughout this project that you felt yielded the greatest improvements in your model?\n",
    "3. What were some of the biggest challenges you encountered throughout this project?\n",
    "4. What were the three most important things you learned about machine learning while completing this project?"
   ]
  },
  {
   "cell_type": "markdown",
   "metadata": {},
   "source": [
    "## Conclusion\n",
    "\n",
    "### 1. Model Performance vs. Business Goals\n",
    "- **Business Goal Alignment**: The model's performance metrics, such as accuracy, precision, recall, and F1 score, should be compared against the business objectives. If the model does not meet the desired thresholds for these metrics, I would consider:\n",
    "  - **Hyperparameter Tuning**: Experimenting with different settings for the logistic regression model, such as adjusting the regularization parameters.\n",
    "  - **Feature Engineering**: Further refining the dataset by adding or removing features, including creating interaction terms or polynomial features.\n",
    "  - **Alternative Algorithms**: Exploring other machine learning algorithms, such as Random Forest or Gradient Boosting, which may handle the data differently and yield better results.\n",
    "\n",
    "### 2. Model Improvement Through Dataset Changes\n",
    "- **Improvements Noticed**: The addition of features like weather conditions and holidays appeared to enhance the model's predictive power. \n",
    "- **Techniques Employed**:\n",
    "  - **Feature Engineering**: Adding derived features (e.g., weather conditions) that provided additional context for predictions.\n",
    "  - **Handling Missing Values**: Using mean imputation for certain features ensured the model had fewer NaN values, which improved its robustness.\n",
    "  - **Dummy Variable Encoding**: Converting categorical variables into numerical formats allowed the model to better understand the relationships between features.\n",
    "\n",
    "### 3. Challenges Encountered\n",
    "- **Data Quality Issues**: Handling missing values and ensuring the dataset was clean and consistent was time-consuming.\n",
    "- **Feature Overlap**: Determining which features contributed positively to the model without introducing multicollinearity was a challenge.\n",
    "- **Model Interpretability**: Understanding the impact of certain features on predictions required careful analysis, particularly when working with logistic regression.\n",
    "\n",
    "### 4. Key Learnings About Machine Learning\n",
    "- **Importance of Data Preprocessing**: The quality of the data significantly impacts model performance; cleaning and preprocessing are crucial steps in the machine learning pipeline.\n",
    "- **Feature Engineering**: Thoughtfully engineered features can greatly enhance a model's ability to capture underlying patterns in the data, sometimes more than algorithmic changes.\n",
    "- **Evaluation Metrics Matter**: Different metrics (accuracy, precision, recall, F1 score) provide different insights into model performance. It's essential to choose the right metric based on the specific business objectives and to interpret them correctly.\n",
    "\n",
    "Moving forward, I would focus on refining the dataset further, exploring advanced machine learning algorithms, and enhancing model interpretability to ensure actionable insights can be derived from the predictions."
   ]
  }
 ],
 "metadata": {
  "kernelspec": {
   "display_name": "Python 3",
   "language": "python",
   "name": "python3"
  },
  "language_info": {
   "codemirror_mode": {
    "name": "ipython",
    "version": 3
   },
   "file_extension": ".py",
   "mimetype": "text/x-python",
   "name": "python",
   "nbconvert_exporter": "python",
   "pygments_lexer": "ipython3",
   "version": "3.12.3"
  }
 },
 "nbformat": 4,
 "nbformat_minor": 4
}
